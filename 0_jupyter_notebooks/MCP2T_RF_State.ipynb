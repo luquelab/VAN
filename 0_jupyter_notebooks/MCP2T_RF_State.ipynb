{
 "cells": [
  {
   "cell_type": "markdown",
   "metadata": {},
   "source": [
    "##### Author:\n",
    "    Diana Y. Lee, Luque Lab, SDSU\n",
    "    dlee@sdsu.edu\n",
    "\n",
    "##### Purpose:\n",
    "    Standalone random forest model for predicting the capsid architecture (as measured by the T-number) \n",
    "    of a tailed phage from the MCP sequence\n",
    "\n",
    "##### Requires: \n",
    "    PHAGE_TABLE4.xlsx : phage data with indexes, genome size, and translations\n",
    "    phage_functions.ipynb\n",
    "    \n",
    "    \n",
    "##### Database file: \n",
    "    MCP2T_RF_state.db\n",
    "    \n",
    "##### Creates:\n",
    "\n"
   ]
  },
  {
   "cell_type": "code",
   "execution_count": 1,
   "metadata": {},
   "outputs": [],
   "source": [
    "# imports\n",
    "import pandas as pd\n",
    "import numpy as np\n",
    "np.random.seed(42)\n",
    "import random\n",
    "import statistics\n",
    "import copy"
   ]
  },
  {
   "cell_type": "code",
   "execution_count": 2,
   "metadata": {},
   "outputs": [],
   "source": [
    "# ML imports\n",
    "from sklearn.metrics import mean_squared_error\n",
    "from sklearn import metrics\n",
    "from sklearn.ensemble import RandomForestClassifier\n",
    "from sklearn.base import BaseEstimator\n",
    "from sklearn.metrics import precision_score, recall_score, f1_score\n",
    "from sklearn.metrics import confusion_matrix\n",
    "from sklearn.metrics import mean_squared_error\n",
    "from sklearn.metrics import accuracy_score"
   ]
  },
  {
   "cell_type": "code",
   "execution_count": 3,
   "metadata": {},
   "outputs": [],
   "source": [
    "from ipynb.fs.full.phage_functions import tNearest\n",
    "from ipynb.fs.full.phage_functions import tNearestValid\n",
    "from ipynb.fs.full.phage_functions import tModel\n",
    "from ipynb.fs.full.phage_functions import tNum\n",
    "from ipynb.fs.full.phage_functions import tList\n",
    "from ipynb.fs.full.phage_functions import tDictAll"
   ]
  },
  {
   "cell_type": "code",
   "execution_count": 4,
   "metadata": {},
   "outputs": [],
   "source": [
    "from Bio.SeqUtils.IsoelectricPoint import IsoelectricPoint as IP"
   ]
  },
  {
   "cell_type": "code",
   "execution_count": 5,
   "metadata": {},
   "outputs": [
    {
     "name": "stdout",
     "output_type": "stream",
     "text": [
      "note that if the consolidation option is selected, tdict_reverse will not be complete\n"
     ]
    }
   ],
   "source": [
    "#create a list of possible, valid T-numbers, as well as separate t-number lists for T_h and T_t \n",
    "tps2, tps, tps_t, tps_h = tList(7)\n",
    "\n",
    "# create T dictionaries\n",
    "tdict2,tdict2rev = tDictAll(7,1)\n",
    "\n",
    "# set the error margin\n",
    "errMar = 0.09\n",
    "\n",
    "# create a list of equivalent genome length for each T\n",
    "tMod = tModel()\n",
    "TDNA = np.exp((np.log(tps)-tMod[2])/tMod[0])"
   ]
  },
  {
   "cell_type": "code",
   "execution_count": 8,
   "metadata": {},
   "outputs": [],
   "source": [
    "# custom function to count amino acids\n",
    "# amino acids are hardcoded to avoid broken dependencies, since they do not change\n",
    "def createFreq(acidSeq, normF=None):\n",
    "    normF = normF or 0\n",
    "    if (normF > 1):\n",
    "        print(\"Valid tTypes are 0 (raw) or 1 (normalized by sample). Defaults to 0.\")\n",
    "        return\n",
    "    AA = []\n",
    "    aaList = np.asarray(['A', 'R', 'N', 'D', 'C', 'Q', 'E', 'G', 'H', 'I', 'L', 'K', 'M', 'F', 'P', 'S', 'T', 'W', 'Y', 'V'])\n",
    "    aaLen=len(aaList)\n",
    "    n = len(acidSeq)\n",
    "    for i in range(n):\n",
    "        for acid in (aaList):\n",
    "            trans1=str(np.asarray(acidSeq)[i])\n",
    "            a = trans1.count(str(acid))\n",
    "            AA.append(a)\n",
    "    rFreq = np.asarray(AA).reshape((n, aaLen))\n",
    "    if (normF == 0):\n",
    "#        print(\"Success! Created an nx20 array, where n is the length of the list provided:\",n)\n",
    "#        print(\"Columns are frequency totals for each amino acid:\",aaList)\n",
    "        return rFreq\n",
    "    if (normF == 1):\n",
    "        nFreq = copy.copy(rFreq).astype(float)\n",
    "        fff3 = copy.copy(rFreq).astype(float)\n",
    "        nf = rFreq.shape[1]\n",
    "        for i in range(nf):\n",
    "            nFreq[:,i] = fff3[:,i]/fff3.sum(axis=1)\n",
    "#        print(\"Success! Created an nx20 array, where n is the length of the list provided:\",n)\n",
    "#        print(\"Columns are frequency percentages for each amino acid:\",aaList)\n",
    "        return nFreq"
   ]
  },
  {
   "cell_type": "code",
   "execution_count": 9,
   "metadata": {},
   "outputs": [],
   "source": [
    "# custom function to create dataset with only sequence length, frequency, and isoelectric point\n",
    "# requires a dataframe with fields \"Virus_Name\", MCP_Sequence\",\"IPC\", and \"MCP_len\"\n",
    "\n",
    "def createDataset3(dF):\n",
    "    nn=dF.shape[0]\n",
    "    freq = createFreq(dF[\"MCP_Sequence\"], 1)\n",
    "    AAT = []\n",
    "    for i in range(nn):\n",
    "        AAT.append(dF.iloc[i][\"Virus_ID\"])\n",
    "        AAT.append(dF.iloc[i][\"IPC\"])\n",
    "        AAT.append(dF.iloc[i][\"MCP_len\"])\n",
    "        for j in range(20):\n",
    "            AAT.append(freq[i][j])\n",
    "        AAT.append(dF.iloc[i][\"T_nearest_errMar_code\"])\n",
    "    AAT = np.reshape(np.ravel(AAT), (nn, 24));\n",
    "    AAT = np.asarray(AAT)\n",
    "\n",
    "    \n",
    "#    print(\"Success! Created an nx24 array, where n is the length of the list provided:\",n)\n",
    "#    print(\"Column 0: Virus_Name\")\n",
    "#    print(\"Column 1: Isoelectric Point\")\n",
    "#    print(\"Column 2: length of MCP sequence\")\n",
    "#    print(\"Columns 3-22 are frequency percentages for each amino acid\")\n",
    "#    print(\"Column 23: Target T\")\n",
    "    return AAT"
   ]
  },
  {
   "cell_type": "code",
   "execution_count": 10,
   "metadata": {},
   "outputs": [],
   "source": [
    "# import all phage data\n",
    "testData = pd.read_excel(\"../data/PHAGE_TABLE4.xlsx\")\n",
    "# remove records from the dataframe if the ID is nan\n",
    "for i in range(len(testData[\"ID\"])):\n",
    "    if(np.isnan(testData[\"ID\"][i])):\n",
    "        testData = testData.drop(index=i)\n",
    "# get a count\n",
    "nt = len(testData[\"ID\"])\n",
    "# change any necessary column names using this command, with the arguments formatted as {\"original_column_name\" : \"New_name\"}\n",
    "testData = testData.rename(columns={\"COMPLETE_GENOME_BP\": 'genome_length',\"PROTEIN_BP\": 'MCP_len',\"ID\": 'Virus_ID','TRANSLATION':'MCP_Sequence'})\n"
   ]
  },
  {
   "cell_type": "code",
   "execution_count": 11,
   "metadata": {},
   "outputs": [],
   "source": [
    "# calculate T numbers and isoelectric point\n",
    "ny = testData.shape[0]\n",
    "Y_T = []\n",
    "\n",
    "for i in range(ny):\n",
    "    # ID\n",
    "    Y_T.append(testData.iloc[i][\"Virus_ID\"])\n",
    "    # isoelectric point\n",
    "    Y_T.append(IP(str(testData.iloc[i][\"MCP_Sequence\"])).pi())\n",
    "    # T raw\n",
    "    Y_T.append(round(tNum(testData.iloc[i][\"genome_length\"]/1000,0),4))\n",
    "    # Check and see if the structure is on the High-Res list\n",
    "    if(testData.iloc[i]['HR data']==\"x\"):\n",
    "        # T nearest\n",
    "        Y_T.append(testData.iloc[i]['HR_T'])\n",
    "        # T nearest err mar\n",
    "        Y_T.append(testData.iloc[i]['HR_T'])\n",
    "        # T nearest err mar code\n",
    "        Y_T.append(tdict2[testData.iloc[i]['HR_T']])\n",
    "    else:\n",
    "        # T nearest\n",
    "        Y_T.append(tNum(testData.iloc[i][\"genome_length\"]/1000,1))\n",
    "        # T nearest err mar\n",
    "        Y_T.append(tNum(testData.iloc[i][\"genome_length\"]/1000,2,errMar))\n",
    "        # T nearest err mar code\n",
    "        Y_T.append(tdict2[tNum(testData.iloc[i][\"genome_length\"]/1000,2,errMar)])\n",
    "    \n",
    "Y = np.asarray(Y_T)\n",
    "Y = np.reshape(np.ravel(Y), (ny, 6));\n",
    "Y = np.asarray(Y)\n",
    "\n",
    "df_T = pd.DataFrame(Y)\n",
    "df_T = df_T.rename(columns={0: 'Virus_ID', 1: 'IPC', 2: 'T_raw', 3: 'T_nearest', 4: 'T_nearest_errMar', 5: 'T_nearest_errMar_code'})\n",
    "\n",
    "df_T[\"T_raw\"] = df_T[\"T_raw\"].astype('float64')\n",
    "df_T[\"T_nearest\"] = df_T[\"T_nearest\"].astype('float64')\n",
    "df_T[\"T_nearest_errMar\"] = df_T[\"T_nearest_errMar\"].astype('float64')\n",
    "df_T[\"T_nearest_errMar_code\"] = df_T[\"T_nearest_errMar_code\"].astype('int64')\n",
    "df_T[\"IPC\"] = df_T[\"IPC\"].astype('float64')"
   ]
  },
  {
   "cell_type": "code",
   "execution_count": 12,
   "metadata": {},
   "outputs": [
    {
     "data": {
      "text/plain": [
       "(635, 16)"
      ]
     },
     "execution_count": 12,
     "metadata": {},
     "output_type": "execute_result"
    }
   ],
   "source": [
    "# add T predictions to the phage data\n",
    "testDataset = testData.merge(df_T, how='left', on='Virus_ID')\n",
    "testDataset.shape"
   ]
  },
  {
   "cell_type": "code",
   "execution_count": 13,
   "metadata": {},
   "outputs": [],
   "source": [
    "# create the random forest dataset for the full database \n",
    "xTest_Phage = createDataset3(testDataset)\n",
    "\n",
    "# assign the features and labels\n",
    "xTest_actual = (xTest_Phage[0:ny,1:23]).astype(float)\n",
    "yTest_actual = (xTest_Phage[0:ny,23]).astype(int)\n",
    "\n",
    "n_feat = xTest_actual.shape[1]"
   ]
  },
  {
   "cell_type": "code",
   "execution_count": 14,
   "metadata": {},
   "outputs": [],
   "source": [
    "# these are our best hyperparameters\n",
    "rfBest_clf = RandomForestClassifier(random_state = 42, max_features=4,n_estimators=250, max_depth=20, min_samples_split=24, min_samples_leaf=1,bootstrap = True, class_weight='balanced')"
   ]
  },
  {
   "cell_type": "code",
   "execution_count": 15,
   "metadata": {},
   "outputs": [
    {
     "data": {
      "text/plain": [
       "RandomForestClassifier(class_weight='balanced', max_depth=20, max_features=4,\n",
       "                       min_samples_split=24, n_estimators=250, random_state=42)"
      ]
     },
     "execution_count": 15,
     "metadata": {},
     "output_type": "execute_result"
    }
   ],
   "source": [
    "# train the random forest\n",
    "rfBest_clf.fit(xTest_actual, yTest_actual)"
   ]
  },
  {
   "cell_type": "code",
   "execution_count": 16,
   "metadata": {},
   "outputs": [],
   "source": [
    "# saves kernel state\n",
    "import dill\n",
    "dill.dump_session('MCP2T_RF_state(new).db')"
   ]
  }
 ],
 "metadata": {
  "kernelspec": {
   "display_name": "Python 3",
   "language": "python",
   "name": "python3"
  },
  "language_info": {
   "codemirror_mode": {
    "name": "ipython",
    "version": 3
   },
   "file_extension": ".py",
   "mimetype": "text/x-python",
   "name": "python",
   "nbconvert_exporter": "python",
   "pygments_lexer": "ipython3",
   "version": "3.8.5"
  }
 },
 "nbformat": 4,
 "nbformat_minor": 4
}
