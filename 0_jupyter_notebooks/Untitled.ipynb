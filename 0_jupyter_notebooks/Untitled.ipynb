{
 "cells": [
  {
   "cell_type": "code",
   "execution_count": 1,
   "id": "1843290d",
   "metadata": {},
   "outputs": [],
   "source": [
    "# basic imports\n",
    "import pandas as pd\n",
    "import numpy as np\n",
    "np.random.seed(8)\n",
    "import math\n",
    "import copy\n",
    "import csv"
   ]
  },
  {
   "cell_type": "code",
   "execution_count": null,
   "id": "246afabb",
   "metadata": {},
   "outputs": [],
   "source": [
    "from ipynb.fs.full.phage_functions import tNearest\n",
    "from ipynb.fs.full.phage_functions import tNearestValid\n",
    "from ipynb.fs.full.phage_functions import tModel\n",
    "from ipynb.fs.full.phage_functions import tNum\n",
    "from ipynb.fs.full.phage_functions import tList\n",
    "from ipynb.fs.full.phage_functions import tDictAll"
   ]
  }
 ],
 "metadata": {
  "kernelspec": {
   "display_name": "Python 3 (ipykernel)",
   "language": "python",
   "name": "python3"
  },
  "language_info": {
   "codemirror_mode": {
    "name": "ipython",
    "version": 3
   },
   "file_extension": ".py",
   "mimetype": "text/x-python",
   "name": "python",
   "nbconvert_exporter": "python",
   "pygments_lexer": "ipython3",
   "version": "3.9.7"
  }
 },
 "nbformat": 4,
 "nbformat_minor": 5
}
