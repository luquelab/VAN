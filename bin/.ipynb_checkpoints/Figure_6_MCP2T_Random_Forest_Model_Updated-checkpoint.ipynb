{
 "cells": [
  {
   "cell_type": "markdown",
   "metadata": {},
   "source": [
    "##### Author:\n",
    "    Diana Y. Lee, Luque Lab, SDSU\n",
    "    dlee@sdsu.edu\n",
    "\n",
    "##### Purpose:\n",
    "    Creates a random forest classification model for predicting the capsid architecture (as measured by the T-number) \n",
    "    of a tailed phage from the MCP sequence\n",
    "    Evaluates the accuracy of that model.\n",
    "    Creates the base illustrations for Figure 5 of the paper in preparation titled, [TBD]\n",
    "\n",
    "##### Requires: \n",
    "    phage_functions.ipynb\n",
    "    data\\PHAGE_TABLE3.xlsx : phage data with indexes, genome size, and translations\n",
    "    data\\PHAGE_TABLE10k.xlsx: hypothetical phage data for timing test\n",
    "    data\\isoelectric_points10k.csv: hypothetical phage data for timing test\n",
    "    \n",
    "##### Database file: \n",
    "    item4_updated_p1.db\n",
    "    item4_updated_p2.db\n",
    "    \n",
    "##### Creates:\n",
    "    Fig5a-RF Predicted T-numbers for MCP.svg .png\n",
    "    Fig5b-RF permutation feature importance.svg .png\n",
    "    statSim01.svg .png\n",
    "    Fig5c-RF model Rarification.svg .png\n",
    "    Fig5b-RF dropout feature importance.svg .png\n"
   ]
  },
  {
   "cell_type": "code",
   "execution_count": 1,
   "metadata": {},
   "outputs": [],
   "source": [
    "# imports\n",
    "import pandas as pd\n",
    "import numpy as np\n",
    "import matplotlib.pyplot as plt\n",
    "%matplotlib inline\n",
    "np.random.seed(42)\n",
    "import math\n",
    "import os \n",
    "import copy\n",
    "import csv\n",
    "import time\n",
    "import random\n",
    "import statistics\n",
    "\n",
    "import seaborn as sn"
   ]
  },
  {
   "cell_type": "code",
   "execution_count": 2,
   "metadata": {},
   "outputs": [],
   "source": [
    "# ML imports\n",
    "from sklearn.metrics import mean_squared_error\n",
    "from sklearn import metrics\n",
    "from sklearn.ensemble import RandomForestClassifier\n",
    "from sklearn.ensemble import RandomForestRegressor\n",
    "from sklearn.ensemble import VotingClassifier\n",
    "from sklearn.model_selection import cross_val_score\n",
    "from sklearn.model_selection import cross_val_predict\n",
    "from sklearn.base import BaseEstimator\n",
    "from sklearn.metrics import precision_score, recall_score, f1_score\n",
    "from sklearn.metrics import precision_recall_curve\n",
    "from sklearn.metrics import roc_curve\n",
    "from sklearn.metrics import roc_auc_score\n",
    "from sklearn.metrics import confusion_matrix\n",
    "from sklearn.metrics import mean_squared_error\n",
    "from sklearn.metrics import accuracy_score"
   ]
  },
  {
   "cell_type": "code",
   "execution_count": 3,
   "metadata": {},
   "outputs": [],
   "source": [
    "from sklearn.ensemble import RandomForestRegressor\n",
    "from sklearn.model_selection import cross_val_score, GridSearchCV\n",
    "from sklearn.ensemble import RandomForestRegressor\n",
    "from sklearn.preprocessing import MinMaxScaler\n",
    "from sklearn.model_selection import cross_val_score\n",
    "from sklearn import metrics"
   ]
  },
  {
   "cell_type": "code",
   "execution_count": 6,
   "metadata": {},
   "outputs": [],
   "source": [
    "from ipynb.fs.full.phage_functions import tNearest\n",
    "from ipynb.fs.full.phage_functions import tNearestValid\n",
    "from ipynb.fs.full.phage_functions import tModel\n",
    "from ipynb.fs.full.phage_functions import tNum\n",
    "from ipynb.fs.full.phage_functions import tList\n",
    "from ipynb.fs.full.phage_functions import tDictAll"
   ]
  },
  {
   "cell_type": "code",
   "execution_count": 17,
   "metadata": {},
   "outputs": [],
   "source": [
    "from Bio.SeqUtils.IsoelectricPoint import IsoelectricPoint as IP"
   ]
  },
  {
   "cell_type": "code",
   "execution_count": 7,
   "metadata": {},
   "outputs": [],
   "source": [
    "# set the fontsize\n",
    "font1 = 22\n",
    "font2 = 18\n",
    "font3 = 14"
   ]
  },
  {
   "cell_type": "code",
   "execution_count": 8,
   "metadata": {},
   "outputs": [],
   "source": [
    "#create a list of possible, valid T-numbers, as well as separate t-number lists for T_h and T_t \n",
    "tps2, tps, tps_t, tps_h = tList(7)\n",
    "\n",
    "# create T dictionaries\n",
    "tdict2,tdict2rev = tDictAll(7)\n",
    "\n",
    "# set the error margin\n",
    "errMar = 0.09"
   ]
  },
  {
   "cell_type": "code",
   "execution_count": 9,
   "metadata": {},
   "outputs": [
    {
     "name": "stdout",
     "output_type": "stream",
     "text": [
      "[  1.     1.33   3.     4.     5.33   7.     9.     9.33  12.    13.\n",
      "  16.    17.33  19.    21.    21.33  25.    25.33  27.    28.    31.\n",
      "  33.33  36.    37.    37.33  39.    41.33  43.    48.    49.    49.33\n",
      "  52.    57.33  61.    63.    64.    65.33  69.33  75.    76.    81.33\n",
      "  84.    91.   100.   101.33 108.   121.33 144.  ]\n",
      "[2.73784255e+00 4.08501700e+00 1.27906495e+01 1.91515259e+01\n",
      " 2.86505642e+01 4.19979458e+01 5.97553408e+01 6.28522970e+01\n",
      " 8.94720756e+01 1.00107080e+02 1.33967143e+02 1.49850563e+02\n",
      " 1.70499162e+02 1.96205952e+02 2.00545932e+02 2.50588718e+02\n",
      " 2.55242414e+02 2.79164929e+02 2.93780498e+02 3.38881914e+02\n",
      " 3.75155533e+02 4.17995534e+02 4.34378501e+02 4.39824416e+02\n",
      " 4.67680137e+02 5.07352762e+02 5.36350762e+02 6.25867537e+02\n",
      " 6.44239914e+02 6.50336202e+02 7.00260628e+02 8.03016105e+02\n",
      " 8.76066024e+02 9.16634730e+02 9.37115692e+02 9.64555719e+02\n",
      " 1.04843424e+03 1.17070007e+03 1.19266139e+03 1.31166414e+03\n",
      " 1.37248337e+03 1.53562218e+03 1.75289712e+03 1.78569754e+03\n",
      " 1.95279103e+03 2.29920882e+03 2.92392720e+03]\n"
     ]
    }
   ],
   "source": [
    "tMod = tModel()\n",
    "print(tps)\n",
    "TDNA = np.exp((np.log(tps)-tMod[2])/tMod[0])\n",
    "print(TDNA)"
   ]
  },
  {
   "cell_type": "code",
   "execution_count": 10,
   "metadata": {},
   "outputs": [],
   "source": [
    "# create a list of T-numbers for a list of genome sizes (in kbp)\n",
    "def createLabels(genomekbps, tMeth=2,CI=0.09):\n",
    "    LL = []\n",
    "    for i in range(len(genomekbps)):\n",
    "        LL.append(tdict2[tNum(genomebps[i]/1000,tMeth, CI)])\n",
    "    LL = np.asarray(LL)\n",
    "#    print(\"Success! Created a list of n T number indices, where n is the length of the list provided:\",n)\n",
    "    return LL"
   ]
  },
  {
   "cell_type": "code",
   "execution_count": 11,
   "metadata": {},
   "outputs": [],
   "source": [
    "# custom function to count amino acids\n",
    "# amino acids are hardcoded to avoid broken dependencies, since they do not change\n",
    "def createFreq(acidSeq, normF=None):\n",
    "    normF = normF or 0\n",
    "    if (normF > 1):\n",
    "        print(\"Valid tTypes are 0 (raw) or 1 (normalized by sample). Defaults to 0.\")\n",
    "        return\n",
    "    AA = []\n",
    "    aaList = np.asarray(['A', 'R', 'N', 'D', 'C', 'Q', 'E', 'G', 'H', 'I', 'L', 'K', 'M', 'F', 'P', 'S', 'T', 'W', 'Y', 'V'])\n",
    "    aaLen=len(aaList)\n",
    "    n = len(acidSeq)\n",
    "    for i in range(n):\n",
    "        for acid in (aaList):\n",
    "            trans1=str(acidSeq[i])\n",
    "            a = trans1.count(str(acid))\n",
    "            AA.append(a)\n",
    "    rFreq = np.asarray(AA).reshape((n, aaLen))\n",
    "    if (normF == 0):\n",
    "#        print(\"Success! Created an nx20 array, where n is the length of the list provided:\",n)\n",
    "#        print(\"Columns are frequency totals for each amino acid:\",aaList)\n",
    "        return rFreq\n",
    "    if (normF == 1):\n",
    "        nFreq = copy.copy(rFreq).astype(float)\n",
    "        fff3 = copy.copy(rFreq).astype(float)\n",
    "        nf = rFreq.shape[1]\n",
    "        for i in range(nf):\n",
    "            nFreq[:,i] = fff3[:,i]/fff3.sum(axis=1)\n",
    "#        print(\"Success! Created an nx20 array, where n is the length of the list provided:\",n)\n",
    "#        print(\"Columns are frequency percentages for each amino acid:\",aaList)\n",
    "        return nFreq"
   ]
  },
  {
   "cell_type": "code",
   "execution_count": 12,
   "metadata": {},
   "outputs": [],
   "source": [
    "# custom function to create dataset with only sequence length, frequency, and isoelectric point\n",
    "\n",
    "def createDataset2(translation, iso):\n",
    "    nn = len(translation)\n",
    "    freq = createFreq(translation, 1)\n",
    "    AAT = []\n",
    "    n = len(translation)\n",
    "    for i in range(nn):\n",
    "           AAT.append(len(str(translation[i]))/1000)\n",
    "    tdata1 = np.insert(freq, 0, AAT, axis=1)\n",
    "\n",
    "    II = []\n",
    "    for i in range (nn):\n",
    "        II.append(iso[i])\n",
    "    trainData = np.insert(tdata1, 0, II, axis=1)\n",
    "    \n",
    "#    print(\"Success! Created an nx22 array, where n is the length of the list provided:\",n)\n",
    "#    print(\"Column 0: Isoelectric Point\")\n",
    "#    print(\"Column 1: length of MCP sequence\")\n",
    "#    print(\"Columns 2-21 are frequency percentages for each amino acid\")\n",
    "    return trainData"
   ]
  },
  {
   "cell_type": "code",
   "execution_count": 13,
   "metadata": {},
   "outputs": [],
   "source": [
    "# custom function to create dataset with only sequence length, frequency, and isoelectric point\n",
    "# requires a dataframe with fields \"Virus_Name\", MCP_Sequence\",\"IPC\", and \"MCP_len\"\n",
    "\n",
    "def createDataset3(dF):\n",
    "    nn=dF.shape[0]\n",
    "    freq = createFreq(dF[\"MCP_Sequence\"], 1)\n",
    "    AAT = []\n",
    "    for i in range(nn):\n",
    "        AAT.append(dF.iloc[i][\"Virus_ID\"])\n",
    "        AAT.append(dF.iloc[i][\"IPC\"])\n",
    "        AAT.append(dF.iloc[i][\"MCP_len\"])\n",
    "        for j in range(20):\n",
    "            AAT.append(freq[i][j])\n",
    "        AAT.append(dF.iloc[i][\"T_nearest_errMar_code\"])\n",
    "    AAT = np.reshape(np.ravel(AAT), (nn, 24));\n",
    "    AAT = np.asarray(AAT)\n",
    "\n",
    "    \n",
    "#    print(\"Success! Created an nx24 array, where n is the length of the list provided:\",n)\n",
    "#    print(\"Column 0: Virus_Name\")\n",
    "#    print(\"Column 1: Isoelectric Point\")\n",
    "#    print(\"Column 2: length of MCP sequence\")\n",
    "#    print(\"Columns 3-22 are frequency percentages for each amino acid\")\n",
    "#    print(\"Column 23: Target T\")\n",
    "    return AAT"
   ]
  },
  {
   "cell_type": "code",
   "execution_count": 14,
   "metadata": {},
   "outputs": [],
   "source": [
    "# import phage data\n",
    "phageData = pd.read_excel(\"../data/PHAGE_TABLE3.xlsx\")\n",
    "# remove records from the dataframe if the ID is nan\n",
    "for i in range(len(phageData[\"ID\"])):\n",
    "    if(np.isnan(phageData[\"ID\"][i])):\n",
    "        phageData = phageData.drop(index=i)\n",
    "# get a count\n",
    "n = len(phageData[\"ID\"])"
   ]
  },
  {
   "cell_type": "code",
   "execution_count": 15,
   "metadata": {},
   "outputs": [],
   "source": [
    "# change any necessary column names using this command, with the arguments formatted as {\"original_column_name\" : \"New_name\"}\n",
    "phageData = phageData.rename(columns={\"COMPLETE_GENOME_BP\": 'genome_length',\"PROTEIN_BP\": 'MCP_len',\"ID\": 'Virus_ID','TRANSLATION':'MCP_Sequence'})"
   ]
  },
  {
   "cell_type": "code",
   "execution_count": null,
   "metadata": {},
   "outputs": [],
   "source": []
  },
  {
   "cell_type": "code",
   "execution_count": 20,
   "metadata": {},
   "outputs": [
    {
     "data": {
      "text/html": [
       "<div>\n",
       "<style scoped>\n",
       "    .dataframe tbody tr th:only-of-type {\n",
       "        vertical-align: middle;\n",
       "    }\n",
       "\n",
       "    .dataframe tbody tr th {\n",
       "        vertical-align: top;\n",
       "    }\n",
       "\n",
       "    .dataframe thead th {\n",
       "        text-align: right;\n",
       "    }\n",
       "</style>\n",
       "<table border=\"1\" class=\"dataframe\">\n",
       "  <thead>\n",
       "    <tr style=\"text-align: right;\">\n",
       "      <th></th>\n",
       "      <th>Virus_ID</th>\n",
       "      <th>T_raw</th>\n",
       "      <th>T_nearest</th>\n",
       "      <th>T_nearest_errMar</th>\n",
       "      <th>T_nearest_errMar_code</th>\n",
       "      <th>IPC</th>\n",
       "    </tr>\n",
       "  </thead>\n",
       "  <tbody>\n",
       "    <tr>\n",
       "      <th>0</th>\n",
       "      <td>0.0</td>\n",
       "      <td>5.2455</td>\n",
       "      <td>5.33</td>\n",
       "      <td>5.33</td>\n",
       "      <td>4</td>\n",
       "      <td>5.206759</td>\n",
       "    </tr>\n",
       "    <tr>\n",
       "      <th>1</th>\n",
       "      <td>1.0</td>\n",
       "      <td>7.8613</td>\n",
       "      <td>7.00</td>\n",
       "      <td>0.00</td>\n",
       "      <td>47</td>\n",
       "      <td>4.942344</td>\n",
       "    </tr>\n",
       "    <tr>\n",
       "      <th>2</th>\n",
       "      <td>2.0</td>\n",
       "      <td>6.2010</td>\n",
       "      <td>7.00</td>\n",
       "      <td>0.00</td>\n",
       "      <td>47</td>\n",
       "      <td>5.724960</td>\n",
       "    </tr>\n",
       "    <tr>\n",
       "      <th>3</th>\n",
       "      <td>3.0</td>\n",
       "      <td>6.1325</td>\n",
       "      <td>5.33</td>\n",
       "      <td>0.00</td>\n",
       "      <td>47</td>\n",
       "      <td>5.111894</td>\n",
       "    </tr>\n",
       "    <tr>\n",
       "      <th>4</th>\n",
       "      <td>5.0</td>\n",
       "      <td>5.9615</td>\n",
       "      <td>5.33</td>\n",
       "      <td>0.00</td>\n",
       "      <td>47</td>\n",
       "      <td>9.033197</td>\n",
       "    </tr>\n",
       "  </tbody>\n",
       "</table>\n",
       "</div>"
      ],
      "text/plain": [
       "   Virus_ID   T_raw  T_nearest  T_nearest_errMar  T_nearest_errMar_code  \\\n",
       "0       0.0  5.2455       5.33              5.33                      4   \n",
       "1       1.0  7.8613       7.00              0.00                     47   \n",
       "2       2.0  6.2010       7.00              0.00                     47   \n",
       "3       3.0  6.1325       5.33              0.00                     47   \n",
       "4       5.0  5.9615       5.33              0.00                     47   \n",
       "\n",
       "        IPC  \n",
       "0  5.206759  \n",
       "1  4.942344  \n",
       "2  5.724960  \n",
       "3  5.111894  \n",
       "4  9.033197  "
      ]
     },
     "execution_count": 20,
     "metadata": {},
     "output_type": "execute_result"
    }
   ],
   "source": [
    "# calculate T numbers and isoelectric point\n",
    "ny = phageData.shape[0]\n",
    "Y_T = []\n",
    "\n",
    "for i in range(ny):\n",
    "    Y_T.append(phageData.iloc[i][\"Virus_ID\"])\n",
    "    Y_T.append(round(tNum(phageData.iloc[i][\"genome_length\"]/1000,0),4))\n",
    "    Y_T.append(tNum(phageData.iloc[i][\"genome_length\"]/1000,1))\n",
    "    Y_T.append(tNum(phageData.iloc[i][\"genome_length\"]/1000,2,errMar))\n",
    "    Y_T.append(tdict2[tNum(phageData.iloc[i][\"genome_length\"]/1000,2,errMar)])\n",
    "    Y_T.append(IP(str(phageData.iloc[i][\"MCP_Sequence\"])).pi())\n",
    "    \n",
    "Y = np.asarray(Y_T)\n",
    "Y = np.reshape(np.ravel(Y), (ny, 6));\n",
    "Y = np.asarray(Y)\n",
    "\n",
    "df_T = pd.DataFrame(Y)\n",
    "df_T = df_T.rename(columns={0: 'Virus_ID', 1: 'T_raw', 2: 'T_nearest', 3: 'T_nearest_errMar', 4: 'T_nearest_errMar_code', 5: 'IPC'})\n",
    "\n",
    "df_T[\"T_raw\"] = df_T[\"T_raw\"].astype('float64')\n",
    "df_T[\"T_nearest\"] = df_T[\"T_nearest\"].astype('float64')\n",
    "df_T[\"T_nearest_errMar\"] = df_T[\"T_nearest_errMar\"].astype('float64')\n",
    "df_T[\"T_nearest_errMar_code\"] = df_T[\"T_nearest_errMar_code\"].astype('int64')\n",
    "df_T[\"IPC\"] = df_T[\"IPC\"].astype('float64')\n",
    "\n",
    "df_T [0:5]"
   ]
  },
  {
   "cell_type": "code",
   "execution_count": 21,
   "metadata": {},
   "outputs": [
    {
     "data": {
      "text/html": [
       "<div>\n",
       "<style scoped>\n",
       "    .dataframe tbody tr th:only-of-type {\n",
       "        vertical-align: middle;\n",
       "    }\n",
       "\n",
       "    .dataframe tbody tr th {\n",
       "        vertical-align: top;\n",
       "    }\n",
       "\n",
       "    .dataframe thead th {\n",
       "        text-align: right;\n",
       "    }\n",
       "</style>\n",
       "<table border=\"1\" class=\"dataframe\">\n",
       "  <thead>\n",
       "    <tr style=\"text-align: right;\">\n",
       "      <th></th>\n",
       "      <th>Virus_ID</th>\n",
       "      <th>GBK_ID</th>\n",
       "      <th>CDS</th>\n",
       "      <th>DEFINITION</th>\n",
       "      <th>HR data</th>\n",
       "      <th>LOCUS_COMPLETE_GENOME</th>\n",
       "      <th>genome_length</th>\n",
       "      <th>ORGANISM</th>\n",
       "      <th>NCBI_GENPEPT_PROTEIN_ID</th>\n",
       "      <th>PROTEIN_PRODUCT</th>\n",
       "      <th>GENE_LOCUS</th>\n",
       "      <th>MCP_len</th>\n",
       "      <th>MCP_Sequence</th>\n",
       "      <th>T_raw</th>\n",
       "      <th>T_nearest</th>\n",
       "      <th>T_nearest_errMar</th>\n",
       "      <th>T_nearest_errMar_code</th>\n",
       "      <th>IPC</th>\n",
       "    </tr>\n",
       "  </thead>\n",
       "  <tbody>\n",
       "    <tr>\n",
       "      <th>0</th>\n",
       "      <td>0</td>\n",
       "      <td>1262521.3</td>\n",
       "      <td>bp:11683..12636</td>\n",
       "      <td>Leuconostoc phage phiLNTR3, complete genome.</td>\n",
       "      <td>NaN</td>\n",
       "      <td>NC_024378_1_28015</td>\n",
       "      <td>28015</td>\n",
       "      <td>Viruses; dsDNA viruses, no RNA stage; Caudovir...</td>\n",
       "      <td>YP_009044222.1</td>\n",
       "      <td>putative major capsid protein</td>\n",
       "      <td>HL53_gp15</td>\n",
       "      <td>317</td>\n",
       "      <td>MGIEFLSTSKAVELYAKLALETQGNTETFSRKWKDIVSERSEQAIT...</td>\n",
       "      <td>5.2455</td>\n",
       "      <td>5.33</td>\n",
       "      <td>5.33</td>\n",
       "      <td>4</td>\n",
       "      <td>5.206759</td>\n",
       "    </tr>\n",
       "    <tr>\n",
       "      <th>1</th>\n",
       "      <td>1</td>\n",
       "      <td>1273740.3</td>\n",
       "      <td>bp:9604..10494</td>\n",
       "      <td>Bacillus phage Curly, complete genome.</td>\n",
       "      <td>NaN</td>\n",
       "      <td>NC_020479_1_49425</td>\n",
       "      <td>49425</td>\n",
       "      <td>Viruses; dsDNA viruses, no RNA stage; Caudovir...</td>\n",
       "      <td>YP_007517560.1</td>\n",
       "      <td>major capsid protein</td>\n",
       "      <td>CURLY_16</td>\n",
       "      <td>296</td>\n",
       "      <td>MADIVLGQHPLLKKVFLDRRIKDFTASGFVADQLFTNISVDALAIK...</td>\n",
       "      <td>7.8613</td>\n",
       "      <td>7.00</td>\n",
       "      <td>0.00</td>\n",
       "      <td>47</td>\n",
       "      <td>4.942344</td>\n",
       "    </tr>\n",
       "    <tr>\n",
       "      <th>2</th>\n",
       "      <td>2</td>\n",
       "      <td>1282994.3</td>\n",
       "      <td>bp:13216..14253</td>\n",
       "      <td>Burkholderia phage ST79, complete genome.</td>\n",
       "      <td>NaN</td>\n",
       "      <td>NC_021343_1_35430</td>\n",
       "      <td>35430</td>\n",
       "      <td>Viruses; dsDNA viruses, no RNA stage; Caudovir...</td>\n",
       "      <td>YP_008060494.1</td>\n",
       "      <td>major capsid protein</td>\n",
       "      <td>M190_gp20</td>\n",
       "      <td>345</td>\n",
       "      <td>MNPITRRALTRYMDNIAKLNGVASVAEKFAVAPSVQQTLEKRIQES...</td>\n",
       "      <td>6.2010</td>\n",
       "      <td>7.00</td>\n",
       "      <td>0.00</td>\n",
       "      <td>47</td>\n",
       "      <td>5.724960</td>\n",
       "    </tr>\n",
       "    <tr>\n",
       "      <th>3</th>\n",
       "      <td>3</td>\n",
       "      <td>633135.2</td>\n",
       "      <td>bp:4469..5662</td>\n",
       "      <td>Streptococcus phage Abc2</td>\n",
       "      <td>NaN</td>\n",
       "      <td>NC_013645_1_34882</td>\n",
       "      <td>34882</td>\n",
       "      <td>Viruses; dsDNA viruses, no RNA stage; Caudovir...</td>\n",
       "      <td>YP_003347415.1</td>\n",
       "      <td>Phage major capsid protein # ACLAME 20</td>\n",
       "      <td>SP-Abc2_gp06</td>\n",
       "      <td>397</td>\n",
       "      <td>MKTSNELHDLWVAQGDKVENLNEKLNVAMLDDSVTAEELQKIKNER...</td>\n",
       "      <td>6.1325</td>\n",
       "      <td>5.33</td>\n",
       "      <td>0.00</td>\n",
       "      <td>47</td>\n",
       "      <td>5.111894</td>\n",
       "    </tr>\n",
       "    <tr>\n",
       "      <th>4</th>\n",
       "      <td>5</td>\n",
       "      <td>1168563.3</td>\n",
       "      <td>bp:5642..6655</td>\n",
       "      <td>Stenotrophomonas phage Smp131, complete genome.</td>\n",
       "      <td>NaN</td>\n",
       "      <td>NC_023588_1_33525</td>\n",
       "      <td>33525</td>\n",
       "      <td>Viruses; dsDNA viruses, no RNA stage; Caudovir...</td>\n",
       "      <td>YP_009008364.1</td>\n",
       "      <td>phage major capsid protein precursor</td>\n",
       "      <td>CH36_gp09</td>\n",
       "      <td>337</td>\n",
       "      <td>MRTKTRRLFEGYTQQVATLNNVSGVANTFSVEPTVQQSLEARMQES...</td>\n",
       "      <td>5.9615</td>\n",
       "      <td>5.33</td>\n",
       "      <td>0.00</td>\n",
       "      <td>47</td>\n",
       "      <td>9.033197</td>\n",
       "    </tr>\n",
       "  </tbody>\n",
       "</table>\n",
       "</div>"
      ],
      "text/plain": [
       "   Virus_ID     GBK_ID              CDS  \\\n",
       "0         0  1262521.3  bp:11683..12636   \n",
       "1         1  1273740.3   bp:9604..10494   \n",
       "2         2  1282994.3  bp:13216..14253   \n",
       "3         3   633135.2    bp:4469..5662   \n",
       "4         5  1168563.3    bp:5642..6655   \n",
       "\n",
       "                                        DEFINITION HR data  \\\n",
       "0     Leuconostoc phage phiLNTR3, complete genome.     NaN   \n",
       "1           Bacillus phage Curly, complete genome.     NaN   \n",
       "2        Burkholderia phage ST79, complete genome.     NaN   \n",
       "3                         Streptococcus phage Abc2     NaN   \n",
       "4  Stenotrophomonas phage Smp131, complete genome.     NaN   \n",
       "\n",
       "  LOCUS_COMPLETE_GENOME  genome_length  \\\n",
       "0     NC_024378_1_28015          28015   \n",
       "1     NC_020479_1_49425          49425   \n",
       "2     NC_021343_1_35430          35430   \n",
       "3     NC_013645_1_34882          34882   \n",
       "4     NC_023588_1_33525          33525   \n",
       "\n",
       "                                            ORGANISM NCBI_GENPEPT_PROTEIN_ID  \\\n",
       "0  Viruses; dsDNA viruses, no RNA stage; Caudovir...          YP_009044222.1   \n",
       "1  Viruses; dsDNA viruses, no RNA stage; Caudovir...          YP_007517560.1   \n",
       "2  Viruses; dsDNA viruses, no RNA stage; Caudovir...          YP_008060494.1   \n",
       "3  Viruses; dsDNA viruses, no RNA stage; Caudovir...          YP_003347415.1   \n",
       "4  Viruses; dsDNA viruses, no RNA stage; Caudovir...          YP_009008364.1   \n",
       "\n",
       "                          PROTEIN_PRODUCT    GENE_LOCUS  MCP_len  \\\n",
       "0           putative major capsid protein     HL53_gp15      317   \n",
       "1                    major capsid protein      CURLY_16      296   \n",
       "2                    major capsid protein     M190_gp20      345   \n",
       "3  Phage major capsid protein # ACLAME 20  SP-Abc2_gp06      397   \n",
       "4    phage major capsid protein precursor     CH36_gp09      337   \n",
       "\n",
       "                                        MCP_Sequence   T_raw  T_nearest  \\\n",
       "0  MGIEFLSTSKAVELYAKLALETQGNTETFSRKWKDIVSERSEQAIT...  5.2455       5.33   \n",
       "1  MADIVLGQHPLLKKVFLDRRIKDFTASGFVADQLFTNISVDALAIK...  7.8613       7.00   \n",
       "2  MNPITRRALTRYMDNIAKLNGVASVAEKFAVAPSVQQTLEKRIQES...  6.2010       7.00   \n",
       "3  MKTSNELHDLWVAQGDKVENLNEKLNVAMLDDSVTAEELQKIKNER...  6.1325       5.33   \n",
       "4  MRTKTRRLFEGYTQQVATLNNVSGVANTFSVEPTVQQSLEARMQES...  5.9615       5.33   \n",
       "\n",
       "   T_nearest_errMar  T_nearest_errMar_code       IPC  \n",
       "0              5.33                      4  5.206759  \n",
       "1              0.00                     47  4.942344  \n",
       "2              0.00                     47  5.724960  \n",
       "3              0.00                     47  5.111894  \n",
       "4              0.00                     47  9.033197  "
      ]
     },
     "execution_count": 21,
     "metadata": {},
     "output_type": "execute_result"
    }
   ],
   "source": [
    "# add T predictions to the phage data\n",
    "currentDataset = phageData.merge(df_T, how='left', on='Virus_ID')\n",
    "currentDataset[0:5]"
   ]
  },
  {
   "cell_type": "code",
   "execution_count": 12,
   "metadata": {},
   "outputs": [],
   "source": [
    "\n",
    "\n",
    "# create the dataset\n",
    "x_Phage = createDataset2(translation,isoPt)\n",
    "\n",
    "# create T number table for nearest T\n",
    "Y = createLabels(genomebps,.25)"
   ]
  },
  {
   "cell_type": "code",
   "execution_count": 93,
   "metadata": {},
   "outputs": [],
   "source": [
    "# create a random shuffle of the phage table data\n",
    "shuffle_index = np.random.permutation(n)\n",
    "xS,yS = x_Phage[shuffle_index], Y[shuffle_index]\n",
    "\n",
    "# split into an 80/20 training set\n",
    "n80 = round(n*.80)\n",
    "n20 = n-n80\n",
    "x_train, x_test = xS[:n80], xS[n80:]\n",
    "y_train, y_test = yS[:n80], yS[n80:]\n",
    "\n",
    "# create a record of the shuffled phage numbers\n",
    "trainIX = np.asarray(phageData[\"IX\"][shuffle_index][:n80])\n",
    "testIX =  np.asarray(phageData[\"IX\"][shuffle_index][n80:])"
   ]
  },
  {
   "cell_type": "code",
   "execution_count": 15,
   "metadata": {},
   "outputs": [
    {
     "name": "stdout",
     "output_type": "stream",
     "text": [
      "{'n_estimators': [200, 400, 600, 800, 1000, 1200, 1400, 1600, 1800, 2000], 'max_features': ['auto', 'sqrt'], 'max_depth': [10, 20, 30, 40, 50, 60, 70, 80, 90, 100, 110, None], 'min_samples_split': [2, 5, 10], 'min_samples_leaf': [1, 2, 4], 'bootstrap': [True, False]}\n"
     ]
    }
   ],
   "source": [
    "from sklearn.model_selection import RandomizedSearchCV\n",
    "# Number of trees in random forest\n",
    "n_estimators = [int(x) for x in np.linspace(start = 200, stop = 2000, num = 10)]\n",
    "# Number of features to consider at every split\n",
    "max_features = ['auto', 'sqrt']\n",
    "# Maximum number of levels in tree\n",
    "max_depth = [int(x) for x in np.linspace(10, 110, num = 11)]\n",
    "max_depth.append(None)\n",
    "# Minimum number of samples required to split a node\n",
    "min_samples_split = [2, 5, 10]\n",
    "# Minimum number of samples required at each leaf node\n",
    "min_samples_leaf = [1, 2, 4]\n",
    "# Method of selecting samples for training each tree\n",
    "bootstrap = [True, False]\n",
    "# Create the random grid\n",
    "random_grid = {'n_estimators': n_estimators,\n",
    "               'max_features': max_features,\n",
    "               'max_depth': max_depth,\n",
    "               'min_samples_split': min_samples_split,\n",
    "               'min_samples_leaf': min_samples_leaf,\n",
    "               'bootstrap': bootstrap}\n",
    "print(random_grid)"
   ]
  },
  {
   "cell_type": "code",
   "execution_count": 16,
   "metadata": {},
   "outputs": [
    {
     "name": "stdout",
     "output_type": "stream",
     "text": [
      "Fitting 3 folds for each of 100 candidates, totalling 300 fits\n"
     ]
    },
    {
     "name": "stderr",
     "output_type": "stream",
     "text": [
      "C:\\Users\\nueve\\anaconda3\\lib\\site-packages\\sklearn\\model_selection\\_split.py:670: UserWarning: The least populated class in y has only 1 members, which is less than n_splits=3.\n",
      "  warnings.warn((\"The least populated class in y has only %d\"\n",
      "[Parallel(n_jobs=-1)]: Using backend LokyBackend with 12 concurrent workers.\n",
      "[Parallel(n_jobs=-1)]: Done  17 tasks      | elapsed:    9.2s\n",
      "[Parallel(n_jobs=-1)]: Done 138 tasks      | elapsed:   58.8s\n",
      "[Parallel(n_jobs=-1)]: Done 300 out of 300 | elapsed:  2.2min finished\n"
     ]
    },
    {
     "data": {
      "text/plain": [
       "RandomizedSearchCV(cv=3, estimator=RandomForestClassifier(), n_iter=100,\n",
       "                   n_jobs=-1,\n",
       "                   param_distributions={'bootstrap': [True, False],\n",
       "                                        'max_depth': [10, 20, 30, 40, 50, 60,\n",
       "                                                      70, 80, 90, 100, 110,\n",
       "                                                      None],\n",
       "                                        'max_features': ['auto', 'sqrt'],\n",
       "                                        'min_samples_leaf': [1, 2, 4],\n",
       "                                        'min_samples_split': [2, 5, 10],\n",
       "                                        'n_estimators': [200, 400, 600, 800,\n",
       "                                                         1000, 1200, 1400, 1600,\n",
       "                                                         1800, 2000]},\n",
       "                   random_state=42, verbose=2)"
      ]
     },
     "execution_count": 16,
     "metadata": {},
     "output_type": "execute_result"
    }
   ],
   "source": [
    "# Use the random grid to search for best hyperparameters\n",
    "# First create the base model to tune\n",
    "rf = RandomForestClassifier()\n",
    "# Random search of parameters, using 3 fold cross validation, \n",
    "# search across 100 different combinations, and use all available cores\n",
    "rf_random = RandomizedSearchCV(estimator = rf, param_distributions = random_grid, n_iter = 100, cv = 3, verbose=2, random_state=42, n_jobs = -1)\n",
    "# Fit the random search model\n",
    "rf_random.fit(xS,yS)"
   ]
  },
  {
   "cell_type": "code",
   "execution_count": 17,
   "metadata": {},
   "outputs": [
    {
     "data": {
      "text/plain": [
       "{'n_estimators': 800,\n",
       " 'min_samples_split': 2,\n",
       " 'min_samples_leaf': 2,\n",
       " 'max_features': 'sqrt',\n",
       " 'max_depth': 50,\n",
       " 'bootstrap': False}"
      ]
     },
     "execution_count": 17,
     "metadata": {},
     "output_type": "execute_result"
    }
   ],
   "source": [
    "rf_random.best_params_"
   ]
  },
  {
   "cell_type": "code",
   "execution_count": 18,
   "metadata": {},
   "outputs": [],
   "source": [
    "from sklearn.model_selection import GridSearchCV\n",
    "# Create the parameter grid based on the results of random search \n",
    "param_grid = {\n",
    "    'bootstrap': [True],\n",
    "    'max_depth': [10, 15, 20],\n",
    "    'max_features': [4, 6, 7, 8, 10, 12, 15],\n",
    "    'min_samples_leaf': [1, 2, 3],\n",
    "    'min_samples_split': [2, 4, 6],\n",
    "    'n_estimators': [250, 750, 1000, 1250, 1500],\n",
    "    'class_weight': ['balanced','None']\n",
    "}\n",
    "# Create a based model\n",
    "rf = RandomForestClassifier()\n",
    "# Instantiate the grid search model\n",
    "grid_search = GridSearchCV(estimator = rf, param_grid = param_grid, \n",
    "                          cv = 3, n_jobs = -1, verbose = 2)"
   ]
  },
  {
   "cell_type": "code",
   "execution_count": 19,
   "metadata": {},
   "outputs": [
    {
     "name": "stdout",
     "output_type": "stream",
     "text": [
      "Fitting 3 folds for each of 1890 candidates, totalling 5670 fits\n"
     ]
    },
    {
     "name": "stderr",
     "output_type": "stream",
     "text": [
      "C:\\Users\\nueve\\anaconda3\\lib\\site-packages\\sklearn\\model_selection\\_split.py:670: UserWarning: The least populated class in y has only 1 members, which is less than n_splits=3.\n",
      "  warnings.warn((\"The least populated class in y has only %d\"\n",
      "[Parallel(n_jobs=-1)]: Using backend LokyBackend with 12 concurrent workers.\n",
      "[Parallel(n_jobs=-1)]: Done  17 tasks      | elapsed:    8.5s\n",
      "[Parallel(n_jobs=-1)]: Done 138 tasks      | elapsed:   55.4s\n",
      "[Parallel(n_jobs=-1)]: Done 341 tasks      | elapsed:  2.4min\n",
      "[Parallel(n_jobs=-1)]: Done 624 tasks      | elapsed:  4.8min\n",
      "[Parallel(n_jobs=-1)]: Done 989 tasks      | elapsed:  8.5min\n",
      "[Parallel(n_jobs=-1)]: Done 1434 tasks      | elapsed: 11.9min\n",
      "[Parallel(n_jobs=-1)]: Done 1961 tasks      | elapsed: 17.2min\n",
      "[Parallel(n_jobs=-1)]: Done 2568 tasks      | elapsed: 22.3min\n",
      "[Parallel(n_jobs=-1)]: Done 5670 out of 5670 | elapsed: 25.3min finished\n"
     ]
    }
   ],
   "source": [
    "# Fit the grid search to the data\n",
    "grid_search.fit(xS,yS)\n",
    "grid_search.best_params_\n",
    "\n",
    "best_grid = grid_search.best_estimator_"
   ]
  },
  {
   "cell_type": "code",
   "execution_count": 20,
   "metadata": {},
   "outputs": [
    {
     "data": {
      "text/plain": [
       "{'bootstrap': True,\n",
       " 'class_weight': 'balanced',\n",
       " 'max_depth': 20,\n",
       " 'max_features': 4,\n",
       " 'min_samples_leaf': 3,\n",
       " 'min_samples_split': 2,\n",
       " 'n_estimators': 1000}"
      ]
     },
     "execution_count": 20,
     "metadata": {},
     "output_type": "execute_result"
    }
   ],
   "source": [
    "grid_search.best_params_"
   ]
  },
  {
   "cell_type": "code",
   "execution_count": 21,
   "metadata": {},
   "outputs": [
    {
     "data": {
      "text/html": [
       "<div>\n",
       "<style scoped>\n",
       "    .dataframe tbody tr th:only-of-type {\n",
       "        vertical-align: middle;\n",
       "    }\n",
       "\n",
       "    .dataframe tbody tr th {\n",
       "        vertical-align: top;\n",
       "    }\n",
       "\n",
       "    .dataframe thead th {\n",
       "        text-align: right;\n",
       "    }\n",
       "</style>\n",
       "<table border=\"1\" class=\"dataframe\">\n",
       "  <thead>\n",
       "    <tr style=\"text-align: right;\">\n",
       "      <th></th>\n",
       "      <th>mean_fit_time</th>\n",
       "      <th>std_fit_time</th>\n",
       "      <th>mean_score_time</th>\n",
       "      <th>std_score_time</th>\n",
       "      <th>param_bootstrap</th>\n",
       "      <th>param_class_weight</th>\n",
       "      <th>param_max_depth</th>\n",
       "      <th>param_max_features</th>\n",
       "      <th>param_min_samples_leaf</th>\n",
       "      <th>param_min_samples_split</th>\n",
       "      <th>param_n_estimators</th>\n",
       "      <th>params</th>\n",
       "      <th>split0_test_score</th>\n",
       "      <th>split1_test_score</th>\n",
       "      <th>split2_test_score</th>\n",
       "      <th>mean_test_score</th>\n",
       "      <th>std_test_score</th>\n",
       "      <th>rank_test_score</th>\n",
       "    </tr>\n",
       "  </thead>\n",
       "  <tbody>\n",
       "    <tr>\n",
       "      <th>662</th>\n",
       "      <td>4.759581</td>\n",
       "      <td>0.605961</td>\n",
       "      <td>0.325810</td>\n",
       "      <td>0.050039</td>\n",
       "      <td>True</td>\n",
       "      <td>balanced</td>\n",
       "      <td>20</td>\n",
       "      <td>4</td>\n",
       "      <td>3</td>\n",
       "      <td>2</td>\n",
       "      <td>1000</td>\n",
       "      <td>{'bootstrap': True, 'class_weight': 'balanced'...</td>\n",
       "      <td>0.757282</td>\n",
       "      <td>0.771845</td>\n",
       "      <td>0.809756</td>\n",
       "      <td>0.779627</td>\n",
       "      <td>0.022118</td>\n",
       "      <td>1</td>\n",
       "    </tr>\n",
       "    <tr>\n",
       "      <th>347</th>\n",
       "      <td>4.582364</td>\n",
       "      <td>0.093733</td>\n",
       "      <td>0.260636</td>\n",
       "      <td>0.002050</td>\n",
       "      <td>True</td>\n",
       "      <td>balanced</td>\n",
       "      <td>15</td>\n",
       "      <td>4</td>\n",
       "      <td>3</td>\n",
       "      <td>2</td>\n",
       "      <td>1000</td>\n",
       "      <td>{'bootstrap': True, 'class_weight': 'balanced'...</td>\n",
       "      <td>0.762136</td>\n",
       "      <td>0.757282</td>\n",
       "      <td>0.814634</td>\n",
       "      <td>0.778017</td>\n",
       "      <td>0.025968</td>\n",
       "      <td>2</td>\n",
       "    </tr>\n",
       "    <tr>\n",
       "      <th>717</th>\n",
       "      <td>5.491911</td>\n",
       "      <td>0.090935</td>\n",
       "      <td>0.258980</td>\n",
       "      <td>0.011521</td>\n",
       "      <td>True</td>\n",
       "      <td>balanced</td>\n",
       "      <td>20</td>\n",
       "      <td>6</td>\n",
       "      <td>3</td>\n",
       "      <td>6</td>\n",
       "      <td>1000</td>\n",
       "      <td>{'bootstrap': True, 'class_weight': 'balanced'...</td>\n",
       "      <td>0.771845</td>\n",
       "      <td>0.762136</td>\n",
       "      <td>0.800000</td>\n",
       "      <td>0.777994</td>\n",
       "      <td>0.016058</td>\n",
       "      <td>3</td>\n",
       "    </tr>\n",
       "    <tr>\n",
       "      <th>385</th>\n",
       "      <td>1.343629</td>\n",
       "      <td>0.020438</td>\n",
       "      <td>0.065365</td>\n",
       "      <td>0.002060</td>\n",
       "      <td>True</td>\n",
       "      <td>balanced</td>\n",
       "      <td>15</td>\n",
       "      <td>6</td>\n",
       "      <td>2</td>\n",
       "      <td>6</td>\n",
       "      <td>250</td>\n",
       "      <td>{'bootstrap': True, 'class_weight': 'balanced'...</td>\n",
       "      <td>0.762136</td>\n",
       "      <td>0.742718</td>\n",
       "      <td>0.824390</td>\n",
       "      <td>0.776415</td>\n",
       "      <td>0.034838</td>\n",
       "      <td>4</td>\n",
       "    </tr>\n",
       "    <tr>\n",
       "      <th>671</th>\n",
       "      <td>3.494723</td>\n",
       "      <td>0.150515</td>\n",
       "      <td>0.215091</td>\n",
       "      <td>0.027929</td>\n",
       "      <td>True</td>\n",
       "      <td>balanced</td>\n",
       "      <td>20</td>\n",
       "      <td>4</td>\n",
       "      <td>3</td>\n",
       "      <td>6</td>\n",
       "      <td>750</td>\n",
       "      <td>{'bootstrap': True, 'class_weight': 'balanced'...</td>\n",
       "      <td>0.757282</td>\n",
       "      <td>0.757282</td>\n",
       "      <td>0.814634</td>\n",
       "      <td>0.776399</td>\n",
       "      <td>0.027036</td>\n",
       "      <td>5</td>\n",
       "    </tr>\n",
       "    <tr>\n",
       "      <th>20</th>\n",
       "      <td>1.150597</td>\n",
       "      <td>0.015141</td>\n",
       "      <td>0.068151</td>\n",
       "      <td>0.003291</td>\n",
       "      <td>True</td>\n",
       "      <td>balanced</td>\n",
       "      <td>10</td>\n",
       "      <td>4</td>\n",
       "      <td>2</td>\n",
       "      <td>4</td>\n",
       "      <td>250</td>\n",
       "      <td>{'bootstrap': True, 'class_weight': 'balanced'...</td>\n",
       "      <td>0.766990</td>\n",
       "      <td>0.752427</td>\n",
       "      <td>0.809756</td>\n",
       "      <td>0.776391</td>\n",
       "      <td>0.024330</td>\n",
       "      <td>6</td>\n",
       "    </tr>\n",
       "    <tr>\n",
       "      <th>432</th>\n",
       "      <td>5.802573</td>\n",
       "      <td>0.137042</td>\n",
       "      <td>0.293881</td>\n",
       "      <td>0.042784</td>\n",
       "      <td>True</td>\n",
       "      <td>balanced</td>\n",
       "      <td>15</td>\n",
       "      <td>7</td>\n",
       "      <td>2</td>\n",
       "      <td>6</td>\n",
       "      <td>1000</td>\n",
       "      <td>{'bootstrap': True, 'class_weight': 'balanced'...</td>\n",
       "      <td>0.771845</td>\n",
       "      <td>0.752427</td>\n",
       "      <td>0.804878</td>\n",
       "      <td>0.776383</td>\n",
       "      <td>0.021652</td>\n",
       "      <td>7</td>\n",
       "    </tr>\n",
       "    <tr>\n",
       "      <th>348</th>\n",
       "      <td>5.755572</td>\n",
       "      <td>0.141902</td>\n",
       "      <td>0.330782</td>\n",
       "      <td>0.011754</td>\n",
       "      <td>True</td>\n",
       "      <td>balanced</td>\n",
       "      <td>15</td>\n",
       "      <td>4</td>\n",
       "      <td>3</td>\n",
       "      <td>2</td>\n",
       "      <td>1250</td>\n",
       "      <td>{'bootstrap': True, 'class_weight': 'balanced'...</td>\n",
       "      <td>0.762136</td>\n",
       "      <td>0.762136</td>\n",
       "      <td>0.804878</td>\n",
       "      <td>0.776383</td>\n",
       "      <td>0.020149</td>\n",
       "      <td>7</td>\n",
       "    </tr>\n",
       "    <tr>\n",
       "      <th>716</th>\n",
       "      <td>3.999953</td>\n",
       "      <td>0.043061</td>\n",
       "      <td>0.186502</td>\n",
       "      <td>0.001411</td>\n",
       "      <td>True</td>\n",
       "      <td>balanced</td>\n",
       "      <td>20</td>\n",
       "      <td>6</td>\n",
       "      <td>3</td>\n",
       "      <td>6</td>\n",
       "      <td>750</td>\n",
       "      <td>{'bootstrap': True, 'class_weight': 'balanced'...</td>\n",
       "      <td>0.766990</td>\n",
       "      <td>0.762136</td>\n",
       "      <td>0.800000</td>\n",
       "      <td>0.776375</td>\n",
       "      <td>0.016822</td>\n",
       "      <td>9</td>\n",
       "    </tr>\n",
       "  </tbody>\n",
       "</table>\n",
       "</div>"
      ],
      "text/plain": [
       "     mean_fit_time  std_fit_time  mean_score_time  std_score_time  \\\n",
       "662       4.759581      0.605961         0.325810        0.050039   \n",
       "347       4.582364      0.093733         0.260636        0.002050   \n",
       "717       5.491911      0.090935         0.258980        0.011521   \n",
       "385       1.343629      0.020438         0.065365        0.002060   \n",
       "671       3.494723      0.150515         0.215091        0.027929   \n",
       "20        1.150597      0.015141         0.068151        0.003291   \n",
       "432       5.802573      0.137042         0.293881        0.042784   \n",
       "348       5.755572      0.141902         0.330782        0.011754   \n",
       "716       3.999953      0.043061         0.186502        0.001411   \n",
       "\n",
       "    param_bootstrap param_class_weight param_max_depth param_max_features  \\\n",
       "662            True           balanced              20                  4   \n",
       "347            True           balanced              15                  4   \n",
       "717            True           balanced              20                  6   \n",
       "385            True           balanced              15                  6   \n",
       "671            True           balanced              20                  4   \n",
       "20             True           balanced              10                  4   \n",
       "432            True           balanced              15                  7   \n",
       "348            True           balanced              15                  4   \n",
       "716            True           balanced              20                  6   \n",
       "\n",
       "    param_min_samples_leaf param_min_samples_split param_n_estimators  \\\n",
       "662                      3                       2               1000   \n",
       "347                      3                       2               1000   \n",
       "717                      3                       6               1000   \n",
       "385                      2                       6                250   \n",
       "671                      3                       6                750   \n",
       "20                       2                       4                250   \n",
       "432                      2                       6               1000   \n",
       "348                      3                       2               1250   \n",
       "716                      3                       6                750   \n",
       "\n",
       "                                                params  split0_test_score  \\\n",
       "662  {'bootstrap': True, 'class_weight': 'balanced'...           0.757282   \n",
       "347  {'bootstrap': True, 'class_weight': 'balanced'...           0.762136   \n",
       "717  {'bootstrap': True, 'class_weight': 'balanced'...           0.771845   \n",
       "385  {'bootstrap': True, 'class_weight': 'balanced'...           0.762136   \n",
       "671  {'bootstrap': True, 'class_weight': 'balanced'...           0.757282   \n",
       "20   {'bootstrap': True, 'class_weight': 'balanced'...           0.766990   \n",
       "432  {'bootstrap': True, 'class_weight': 'balanced'...           0.771845   \n",
       "348  {'bootstrap': True, 'class_weight': 'balanced'...           0.762136   \n",
       "716  {'bootstrap': True, 'class_weight': 'balanced'...           0.766990   \n",
       "\n",
       "     split1_test_score  split2_test_score  mean_test_score  std_test_score  \\\n",
       "662           0.771845           0.809756         0.779627        0.022118   \n",
       "347           0.757282           0.814634         0.778017        0.025968   \n",
       "717           0.762136           0.800000         0.777994        0.016058   \n",
       "385           0.742718           0.824390         0.776415        0.034838   \n",
       "671           0.757282           0.814634         0.776399        0.027036   \n",
       "20            0.752427           0.809756         0.776391        0.024330   \n",
       "432           0.752427           0.804878         0.776383        0.021652   \n",
       "348           0.762136           0.804878         0.776383        0.020149   \n",
       "716           0.762136           0.800000         0.776375        0.016822   \n",
       "\n",
       "     rank_test_score  \n",
       "662                1  \n",
       "347                2  \n",
       "717                3  \n",
       "385                4  \n",
       "671                5  \n",
       "20                 6  \n",
       "432                7  \n",
       "348                7  \n",
       "716                9  "
      ]
     },
     "execution_count": 21,
     "metadata": {},
     "output_type": "execute_result"
    }
   ],
   "source": [
    "best_clfs = pd.DataFrame(grid_search.cv_results_).sort_values(by='mean_test_score',ascending=False)\n",
    "best_clfs[:9]"
   ]
  },
  {
   "cell_type": "code",
   "execution_count": 22,
   "metadata": {},
   "outputs": [],
   "source": [
    "# Create the random forest classifiers for the most useful feature/estimator combinations\n",
    "rf1_clf = RandomForestClassifier(random_state = 42, max_features=best_clfs.iloc[0][\"param_max_features\"],n_estimators=best_clfs.iloc[0][\"param_n_estimators\"], max_depth=best_clfs.iloc[0][\"param_max_depth\"], min_samples_split=best_clfs.iloc[0][\"param_min_samples_split\"], min_samples_leaf=best_clfs.iloc[0][\"param_min_samples_leaf\"],bootstrap = True, class_weight='balanced')\n",
    "rf2_clf = RandomForestClassifier(random_state = 42, max_features=best_clfs.iloc[1][\"param_max_features\"],n_estimators=best_clfs.iloc[1][\"param_n_estimators\"], max_depth=best_clfs.iloc[1][\"param_max_depth\"], min_samples_split=best_clfs.iloc[1][\"param_min_samples_split\"], min_samples_leaf=best_clfs.iloc[1][\"param_min_samples_leaf\"],bootstrap = True, class_weight='balanced')\n",
    "rf3_clf = RandomForestClassifier(random_state = 42, max_features=best_clfs.iloc[2][\"param_max_features\"],n_estimators=best_clfs.iloc[2][\"param_n_estimators\"], max_depth=best_clfs.iloc[2][\"param_max_depth\"], min_samples_split=best_clfs.iloc[2][\"param_min_samples_split\"], min_samples_leaf=best_clfs.iloc[2][\"param_min_samples_leaf\"],bootstrap = True, class_weight='balanced')\n",
    "rf4_clf = RandomForestClassifier(random_state = 42, max_features=best_clfs.iloc[3][\"param_max_features\"],n_estimators=best_clfs.iloc[3][\"param_n_estimators\"], max_depth=best_clfs.iloc[3][\"param_max_depth\"], min_samples_split=best_clfs.iloc[3][\"param_min_samples_split\"], min_samples_leaf=best_clfs.iloc[3][\"param_min_samples_leaf\"],bootstrap = True, class_weight='balanced')\n",
    "rf5_clf = RandomForestClassifier(random_state = 42, max_features=best_clfs.iloc[4][\"param_max_features\"],n_estimators=best_clfs.iloc[4][\"param_n_estimators\"], max_depth=best_clfs.iloc[4][\"param_max_depth\"], min_samples_split=best_clfs.iloc[4][\"param_min_samples_split\"], min_samples_leaf=best_clfs.iloc[4][\"param_min_samples_leaf\"],bootstrap = True, class_weight='balanced')\n",
    "rf6_clf = RandomForestClassifier(random_state = 42, max_features=best_clfs.iloc[5][\"param_max_features\"],n_estimators=best_clfs.iloc[5][\"param_n_estimators\"], max_depth=best_clfs.iloc[5][\"param_max_depth\"], min_samples_split=best_clfs.iloc[5][\"param_min_samples_split\"], min_samples_leaf=best_clfs.iloc[5][\"param_min_samples_leaf\"],bootstrap = True, class_weight='balanced')\n",
    "rf7_clf = RandomForestClassifier(random_state = 42, max_features=best_clfs.iloc[6][\"param_max_features\"],n_estimators=best_clfs.iloc[6][\"param_n_estimators\"], max_depth=best_clfs.iloc[6][\"param_max_depth\"], min_samples_split=best_clfs.iloc[6][\"param_min_samples_split\"], min_samples_leaf=best_clfs.iloc[6][\"param_min_samples_leaf\"],bootstrap = True, class_weight='balanced')\n",
    "rf8_clf = RandomForestClassifier(random_state = 42, max_features=best_clfs.iloc[7][\"param_max_features\"],n_estimators=best_clfs.iloc[7][\"param_n_estimators\"], max_depth=best_clfs.iloc[7][\"param_max_depth\"], min_samples_split=best_clfs.iloc[7][\"param_min_samples_split\"], min_samples_leaf=best_clfs.iloc[7][\"param_min_samples_leaf\"],bootstrap = True, class_weight='balanced')\n",
    "rf9_clf = RandomForestClassifier(random_state = 42, max_features=best_clfs.iloc[8][\"param_max_features\"],n_estimators=best_clfs.iloc[8][\"param_n_estimators\"], max_depth=best_clfs.iloc[8][\"param_max_depth\"], min_samples_split=best_clfs.iloc[8][\"param_min_samples_split\"], min_samples_leaf=best_clfs.iloc[8][\"param_min_samples_leaf\"],bootstrap = True, class_weight='balanced')\n",
    "\n",
    "# create a voting classifer for all of the random forests\n",
    "voting_clf = VotingClassifier(\n",
    "    estimators=[('rf1', rf1_clf), ('rf2', rf2_clf), ('rf3', rf3_clf), ('rf4', rf4_clf), ('rf5', rf5_clf), ('rf6', rf6_clf), ('rf7', rf7_clf), ('rf8', rf8_clf), ('rf9', rf9_clf)],\n",
    "    voting='hard')"
   ]
  },
  {
   "cell_type": "code",
   "execution_count": 23,
   "metadata": {},
   "outputs": [
    {
     "name": "stdout",
     "output_type": "stream",
     "text": [
      "RandomForestClassifier(class_weight='balanced', max_depth=20, max_features=4,\n",
      "                       min_samples_leaf=3, n_estimators=1000, random_state=42)\n",
      "RandomForestClassifier Accuracy:  0.7804878048780488 MSE:  1.5528455284552845\n",
      "RandomForestClassifier(class_weight='balanced', max_depth=15, max_features=4,\n",
      "                       min_samples_leaf=3, n_estimators=1000, random_state=42)\n",
      "RandomForestClassifier Accuracy:  0.7804878048780488 MSE:  1.5528455284552845\n",
      "RandomForestClassifier(class_weight='balanced', max_depth=20, max_features=6,\n",
      "                       min_samples_leaf=3, min_samples_split=6,\n",
      "                       n_estimators=1000, random_state=42)\n",
      "RandomForestClassifier Accuracy:  0.7642276422764228 MSE:  2.089430894308943\n",
      "RandomForestClassifier(class_weight='balanced', max_depth=15, max_features=6,\n",
      "                       min_samples_leaf=2, min_samples_split=6,\n",
      "                       n_estimators=250, random_state=42)\n",
      "RandomForestClassifier Accuracy:  0.7723577235772358 MSE:  1.8048780487804879\n",
      "RandomForestClassifier(class_weight='balanced', max_depth=20, max_features=4,\n",
      "                       min_samples_leaf=3, min_samples_split=6,\n",
      "                       n_estimators=750, random_state=42)\n",
      "RandomForestClassifier Accuracy:  0.7886178861788617 MSE:  1.5447154471544715\n",
      "RandomForestClassifier(class_weight='balanced', max_depth=10, max_features=4,\n",
      "                       min_samples_leaf=2, min_samples_split=4,\n",
      "                       n_estimators=250, random_state=42)\n",
      "RandomForestClassifier Accuracy:  0.7642276422764228 MSE:  1.6910569105691058\n",
      "RandomForestClassifier(class_weight='balanced', max_depth=15, max_features=7,\n",
      "                       min_samples_leaf=2, min_samples_split=6,\n",
      "                       n_estimators=1000, random_state=42)\n",
      "RandomForestClassifier Accuracy:  0.7886178861788617 MSE:  1.5203252032520325\n",
      "RandomForestClassifier(class_weight='balanced', max_depth=15, max_features=4,\n",
      "                       min_samples_leaf=3, n_estimators=1250, random_state=42)\n",
      "RandomForestClassifier Accuracy:  0.7886178861788617 MSE:  1.5447154471544715\n",
      "RandomForestClassifier(class_weight='balanced', max_depth=20, max_features=6,\n",
      "                       min_samples_leaf=3, min_samples_split=6,\n",
      "                       n_estimators=750, random_state=42)\n",
      "RandomForestClassifier Accuracy:  0.7560975609756098 MSE:  2.073170731707317\n",
      "VotingClassifier(estimators=[('rf1',\n",
      "                              RandomForestClassifier(class_weight='balanced',\n",
      "                                                     max_depth=20,\n",
      "                                                     max_features=4,\n",
      "                                                     min_samples_leaf=3,\n",
      "                                                     n_estimators=1000,\n",
      "                                                     random_state=42)),\n",
      "                             ('rf2',\n",
      "                              RandomForestClassifier(class_weight='balanced',\n",
      "                                                     max_depth=15,\n",
      "                                                     max_features=4,\n",
      "                                                     min_samples_leaf=3,\n",
      "                                                     n_estimators=1000,\n",
      "                                                     random_state=42)),\n",
      "                             ('rf3',\n",
      "                              RandomForestClassifier(class_weight='bal...\n",
      "                                                     min_samples_split=6,\n",
      "                                                     n_estimators=1000,\n",
      "                                                     random_state=42)),\n",
      "                             ('rf8',\n",
      "                              RandomForestClassifier(class_weight='balanced',\n",
      "                                                     max_depth=15,\n",
      "                                                     max_features=4,\n",
      "                                                     min_samples_leaf=3,\n",
      "                                                     n_estimators=1250,\n",
      "                                                     random_state=42)),\n",
      "                             ('rf9',\n",
      "                              RandomForestClassifier(class_weight='balanced',\n",
      "                                                     max_depth=20,\n",
      "                                                     max_features=6,\n",
      "                                                     min_samples_leaf=3,\n",
      "                                                     min_samples_split=6,\n",
      "                                                     n_estimators=750,\n",
      "                                                     random_state=42))])\n",
      "VotingClassifier Accuracy:  0.7804878048780488 MSE:  1.5528455284552845\n"
     ]
    }
   ],
   "source": [
    "# review the accuracy of all of the random forests \n",
    "for clf in (rf1_clf, rf2_clf, rf3_clf, rf4_clf,rf5_clf,rf6_clf, rf7_clf,rf8_clf,rf9_clf,voting_clf):\n",
    "    clf.fit(x_train, y_train)\n",
    "    yPred = clf.predict(x_test)\n",
    "    forest_mse2 = mean_squared_error(y_test, yPred)\n",
    "    print(clf)\n",
    "    print(clf.__class__.__name__, \"Accuracy: \", accuracy_score(y_test, yPred), \"MSE: \",forest_mse2)"
   ]
  },
  {
   "cell_type": "code",
   "execution_count": 24,
   "metadata": {},
   "outputs": [
    {
     "name": "stdout",
     "output_type": "stream",
     "text": [
      "0.0\n",
      "258\n",
      "0.05\n",
      "85\n",
      "0.1\n",
      "1\n",
      "0.15000000000000002\n",
      "0\n",
      "0.2\n",
      "0\n"
     ]
    }
   ],
   "source": [
    "incr=5\n",
    "for i in range(incr):\n",
    "    Y6 = createLabels(genomebps,2,(0.05+0.05*i))\n",
    "    xMCP100 = np.asarray([j for j in Y6 if (j==47)])\n",
    "    print(0.05*i)\n",
    "    print(len(xMCP100))"
   ]
  },
  {
   "cell_type": "code",
   "execution_count": 94,
   "metadata": {},
   "outputs": [],
   "source": [
    "Y2 = createLabels(genomebps,2,0.09)"
   ]
  },
  {
   "cell_type": "code",
   "execution_count": 114,
   "metadata": {
    "scrolled": true
   },
   "outputs": [
    {
     "name": "stdout",
     "output_type": "stream",
     "text": [
      "loop  0\n",
      "loop  10\n",
      "loop  20\n",
      "loop  30\n",
      "loop  40\n",
      "loop  50\n",
      "loop  60\n",
      "loop  70\n",
      "loop  80\n",
      "loop  90\n"
     ]
    }
   ],
   "source": [
    "n_iter = 100\n",
    "n_clf = 10\n",
    "results_RF = []\n",
    "\n",
    "for i in range(n_iter):\n",
    "    # create a random shuffle of the phage table data\n",
    "    shuffle_index = np.random.permutation(n)\n",
    "    xS,yS = x_Phage[shuffle_index], Y2[shuffle_index]\n",
    "\n",
    "    # split into an 80/20 training set\n",
    "    n80 = round(n*.80)\n",
    "    n20 = n-n80\n",
    "    x_train, x_test = xS[:n80], xS[n80:]\n",
    "    y_train, y_test = yS[:n80], yS[n80:]\n",
    "\n",
    "    # create a record of the shuffled phage numbers\n",
    "    trainIX = np.asarray(phageData[\"IX\"][shuffle_index][:n80])\n",
    "    testIX =  np.asarray(phageData[\"IX\"][shuffle_index][n80:])\n",
    "\n",
    "    # review the accuracy of all of the random forests \n",
    "    for clf in (rf1_clf, rf2_clf, rf3_clf, rf4_clf,rf5_clf,rf6_clf, rf7_clf,rf8_clf,rf9_clf,voting_clf):\n",
    "        clf.fit(x_train, y_train)\n",
    "        yPred = clf.predict(x_test)\n",
    "        forest_mse2 = mean_squared_error(y_test, yPred)\n",
    "        results_RF.append(accuracy_score(y_test, yPred))\n",
    "        #print(clf)\n",
    "        #print(clf.__class__.__name__, \"Accuracy: \", accuracy_score(y_test, yPred), \"MSE: \",forest_mse2)\n",
    "    if (i % 10 == 0):\n",
    "        print('loop ',i)\n",
    "        \n",
    "allResults = np.reshape(np.ravel(results_RF), (n_iter, n_clf));\n",
    "allResults = np.asarray(allResults);\n"
   ]
  },
  {
   "cell_type": "code",
   "execution_count": 115,
   "metadata": {},
   "outputs": [
    {
     "data": {
      "text/html": [
       "<div>\n",
       "<style scoped>\n",
       "    .dataframe tbody tr th:only-of-type {\n",
       "        vertical-align: middle;\n",
       "    }\n",
       "\n",
       "    .dataframe tbody tr th {\n",
       "        vertical-align: top;\n",
       "    }\n",
       "\n",
       "    .dataframe thead th {\n",
       "        text-align: right;\n",
       "    }\n",
       "</style>\n",
       "<table border=\"1\" class=\"dataframe\">\n",
       "  <thead>\n",
       "    <tr style=\"text-align: right;\">\n",
       "      <th></th>\n",
       "      <th>rf1_clf</th>\n",
       "      <th>rf2_clf</th>\n",
       "      <th>rf3_clf</th>\n",
       "      <th>rf4_clf</th>\n",
       "      <th>rf5_clf</th>\n",
       "      <th>rf6_clf</th>\n",
       "      <th>rf7_clf</th>\n",
       "      <th>rf8_clf</th>\n",
       "      <th>rf9_clf</th>\n",
       "      <th>voting_clf</th>\n",
       "    </tr>\n",
       "  </thead>\n",
       "  <tbody>\n",
       "    <tr>\n",
       "      <th>0</th>\n",
       "      <td>0.788618</td>\n",
       "      <td>0.788618</td>\n",
       "      <td>0.788618</td>\n",
       "      <td>0.764228</td>\n",
       "      <td>0.788618</td>\n",
       "      <td>0.764228</td>\n",
       "      <td>0.772358</td>\n",
       "      <td>0.788618</td>\n",
       "      <td>0.788618</td>\n",
       "      <td>0.788618</td>\n",
       "    </tr>\n",
       "    <tr>\n",
       "      <th>1</th>\n",
       "      <td>0.691057</td>\n",
       "      <td>0.691057</td>\n",
       "      <td>0.691057</td>\n",
       "      <td>0.682927</td>\n",
       "      <td>0.691057</td>\n",
       "      <td>0.691057</td>\n",
       "      <td>0.682927</td>\n",
       "      <td>0.691057</td>\n",
       "      <td>0.691057</td>\n",
       "      <td>0.691057</td>\n",
       "    </tr>\n",
       "    <tr>\n",
       "      <th>2</th>\n",
       "      <td>0.756098</td>\n",
       "      <td>0.756098</td>\n",
       "      <td>0.764228</td>\n",
       "      <td>0.764228</td>\n",
       "      <td>0.756098</td>\n",
       "      <td>0.764228</td>\n",
       "      <td>0.764228</td>\n",
       "      <td>0.756098</td>\n",
       "      <td>0.764228</td>\n",
       "      <td>0.764228</td>\n",
       "    </tr>\n",
       "    <tr>\n",
       "      <th>3</th>\n",
       "      <td>0.723577</td>\n",
       "      <td>0.723577</td>\n",
       "      <td>0.723577</td>\n",
       "      <td>0.739837</td>\n",
       "      <td>0.723577</td>\n",
       "      <td>0.723577</td>\n",
       "      <td>0.723577</td>\n",
       "      <td>0.723577</td>\n",
       "      <td>0.723577</td>\n",
       "      <td>0.723577</td>\n",
       "    </tr>\n",
       "    <tr>\n",
       "      <th>4</th>\n",
       "      <td>0.707317</td>\n",
       "      <td>0.707317</td>\n",
       "      <td>0.723577</td>\n",
       "      <td>0.707317</td>\n",
       "      <td>0.715447</td>\n",
       "      <td>0.715447</td>\n",
       "      <td>0.723577</td>\n",
       "      <td>0.707317</td>\n",
       "      <td>0.723577</td>\n",
       "      <td>0.715447</td>\n",
       "    </tr>\n",
       "    <tr>\n",
       "      <th>...</th>\n",
       "      <td>...</td>\n",
       "      <td>...</td>\n",
       "      <td>...</td>\n",
       "      <td>...</td>\n",
       "      <td>...</td>\n",
       "      <td>...</td>\n",
       "      <td>...</td>\n",
       "      <td>...</td>\n",
       "      <td>...</td>\n",
       "      <td>...</td>\n",
       "    </tr>\n",
       "    <tr>\n",
       "      <th>95</th>\n",
       "      <td>0.707317</td>\n",
       "      <td>0.715447</td>\n",
       "      <td>0.715447</td>\n",
       "      <td>0.707317</td>\n",
       "      <td>0.707317</td>\n",
       "      <td>0.699187</td>\n",
       "      <td>0.707317</td>\n",
       "      <td>0.715447</td>\n",
       "      <td>0.715447</td>\n",
       "      <td>0.715447</td>\n",
       "    </tr>\n",
       "    <tr>\n",
       "      <th>96</th>\n",
       "      <td>0.764228</td>\n",
       "      <td>0.764228</td>\n",
       "      <td>0.796748</td>\n",
       "      <td>0.756098</td>\n",
       "      <td>0.764228</td>\n",
       "      <td>0.780488</td>\n",
       "      <td>0.772358</td>\n",
       "      <td>0.764228</td>\n",
       "      <td>0.796748</td>\n",
       "      <td>0.764228</td>\n",
       "    </tr>\n",
       "    <tr>\n",
       "      <th>97</th>\n",
       "      <td>0.691057</td>\n",
       "      <td>0.699187</td>\n",
       "      <td>0.691057</td>\n",
       "      <td>0.691057</td>\n",
       "      <td>0.691057</td>\n",
       "      <td>0.699187</td>\n",
       "      <td>0.666667</td>\n",
       "      <td>0.691057</td>\n",
       "      <td>0.682927</td>\n",
       "      <td>0.691057</td>\n",
       "    </tr>\n",
       "    <tr>\n",
       "      <th>98</th>\n",
       "      <td>0.699187</td>\n",
       "      <td>0.699187</td>\n",
       "      <td>0.707317</td>\n",
       "      <td>0.699187</td>\n",
       "      <td>0.691057</td>\n",
       "      <td>0.682927</td>\n",
       "      <td>0.723577</td>\n",
       "      <td>0.699187</td>\n",
       "      <td>0.707317</td>\n",
       "      <td>0.699187</td>\n",
       "    </tr>\n",
       "    <tr>\n",
       "      <th>99</th>\n",
       "      <td>0.747967</td>\n",
       "      <td>0.747967</td>\n",
       "      <td>0.756098</td>\n",
       "      <td>0.747967</td>\n",
       "      <td>0.747967</td>\n",
       "      <td>0.723577</td>\n",
       "      <td>0.739837</td>\n",
       "      <td>0.747967</td>\n",
       "      <td>0.747967</td>\n",
       "      <td>0.756098</td>\n",
       "    </tr>\n",
       "  </tbody>\n",
       "</table>\n",
       "<p>100 rows × 10 columns</p>\n",
       "</div>"
      ],
      "text/plain": [
       "     rf1_clf   rf2_clf   rf3_clf   rf4_clf   rf5_clf   rf6_clf   rf7_clf  \\\n",
       "0   0.788618  0.788618  0.788618  0.764228  0.788618  0.764228  0.772358   \n",
       "1   0.691057  0.691057  0.691057  0.682927  0.691057  0.691057  0.682927   \n",
       "2   0.756098  0.756098  0.764228  0.764228  0.756098  0.764228  0.764228   \n",
       "3   0.723577  0.723577  0.723577  0.739837  0.723577  0.723577  0.723577   \n",
       "4   0.707317  0.707317  0.723577  0.707317  0.715447  0.715447  0.723577   \n",
       "..       ...       ...       ...       ...       ...       ...       ...   \n",
       "95  0.707317  0.715447  0.715447  0.707317  0.707317  0.699187  0.707317   \n",
       "96  0.764228  0.764228  0.796748  0.756098  0.764228  0.780488  0.772358   \n",
       "97  0.691057  0.699187  0.691057  0.691057  0.691057  0.699187  0.666667   \n",
       "98  0.699187  0.699187  0.707317  0.699187  0.691057  0.682927  0.723577   \n",
       "99  0.747967  0.747967  0.756098  0.747967  0.747967  0.723577  0.739837   \n",
       "\n",
       "     rf8_clf   rf9_clf  voting_clf  \n",
       "0   0.788618  0.788618    0.788618  \n",
       "1   0.691057  0.691057    0.691057  \n",
       "2   0.756098  0.764228    0.764228  \n",
       "3   0.723577  0.723577    0.723577  \n",
       "4   0.707317  0.723577    0.715447  \n",
       "..       ...       ...         ...  \n",
       "95  0.715447  0.715447    0.715447  \n",
       "96  0.764228  0.796748    0.764228  \n",
       "97  0.691057  0.682927    0.691057  \n",
       "98  0.699187  0.707317    0.699187  \n",
       "99  0.747967  0.747967    0.756098  \n",
       "\n",
       "[100 rows x 10 columns]"
      ]
     },
     "execution_count": 115,
     "metadata": {},
     "output_type": "execute_result"
    }
   ],
   "source": [
    "allResults = pd.DataFrame(allResults,columns=['rf1_clf', 'rf2_clf', 'rf3_clf', 'rf4_clf', 'rf5_clf', 'rf6_clf', 'rf7_clf', 'rf8_clf', 'rf9_clf', 'voting_clf'])\n",
    "allResults"
   ]
  },
  {
   "cell_type": "code",
   "execution_count": 134,
   "metadata": {},
   "outputs": [
    {
     "name": "stdout",
     "output_type": "stream",
     "text": [
      "0.7238211382113825\n",
      "0.7243089430894314\n",
      "0.7247154471544718\n",
      "0.7225203252032525\n",
      "0.7245528455284556\n",
      "0.720325203252033\n",
      "0.7241463414634148\n",
      "0.7239024390243908\n",
      "0.7255284552845533\n",
      "0.7252032520325206\n"
     ]
    }
   ],
   "source": [
    "for column in allResults.columns[0:]:\n",
    "    print(np.mean(allResults[column]))"
   ]
  },
  {
   "cell_type": "code",
   "execution_count": 117,
   "metadata": {},
   "outputs": [],
   "source": [
    "rfBest_clf=rf9_clf"
   ]
  },
  {
   "cell_type": "code",
   "execution_count": 118,
   "metadata": {},
   "outputs": [
    {
     "data": {
      "text/plain": [
       "array([ 5.33,  0.  ,  0.  ,  0.  ,  0.  ,  7.  ,  0.  , 17.33, 19.  ,\n",
       "       17.33,  5.33,  9.  , 19.  ,  0.  , 12.  , 19.  , 16.  ,  7.  ,\n",
       "        7.  ,  5.33,  7.  ,  7.  ,  0.  ,  9.  ,  7.  ,  7.  ,  7.  ,\n",
       "       17.33,  0.  ,  9.33, 17.33,  4.  ,  7.  ,  7.  , 12.  ,  0.  ,\n",
       "        7.  , 25.  ,  7.  ,  7.  , 12.  ,  0.  ,  7.  ,  7.  ,  5.33,\n",
       "        0.  , 21.  ,  7.  , 17.33, 19.  ,  0.  ,  7.  ,  9.  ,  7.  ,\n",
       "        0.  ,  7.  ,  0.  ,  7.  ,  0.  ,  7.  ,  9.  ,  5.33,  7.  ,\n",
       "        5.33,  9.  ,  5.33,  7.  ,  9.  ,  7.  , 19.  ,  9.  , 16.  ,\n",
       "       19.  , 16.  ,  7.  ,  7.  ,  0.  , 16.  ,  7.  , 17.33,  7.  ,\n",
       "        0.  ,  0.  , 31.  , 19.  ,  0.  , 19.  ,  7.  ,  7.  ,  0.  ,\n",
       "        9.  , 16.  , 12.  , 13.  ,  7.  , 17.33,  0.  ,  7.  ,  7.  ,\n",
       "       21.33,  9.33,  5.33,  0.  ,  0.  ,  7.  , 25.  ,  0.  , 16.  ,\n",
       "        0.  ,  7.  ,  7.  , 17.33,  0.  ,  0.  ,  7.  , 19.  ,  7.  ,\n",
       "        7.  ,  7.  , 19.  , 19.  ,  4.  , 19.  , 19.  ,  7.  ,  7.  ,\n",
       "        7.  ,  0.  , 19.  , 12.  ,  7.  ,  9.  , 19.  , 19.  , 17.33,\n",
       "        7.  ,  4.  ,  9.  , 21.  ,  7.  ,  9.  , 16.  ,  7.  ,  7.  ,\n",
       "       16.  ,  7.  ,  7.  ,  7.  , 16.  , 21.33,  9.33, 19.  ,  7.  ,\n",
       "       19.  , 19.  , 17.33,  9.  , 17.33,  0.  , 16.  , 19.  ,  0.  ,\n",
       "        5.33,  7.  ,  0.  ,  7.  ,  9.  ,  7.  ,  7.  ,  7.  , 17.33,\n",
       "       19.  ,  0.  , 12.  ,  0.  ,  9.  ,  9.  , 17.33,  0.  ,  7.  ,\n",
       "        5.33,  9.  ,  0.  ,  7.  , 19.  ,  0.  ,  7.  ,  0.  ,  7.  ,\n",
       "        7.  , 12.  , 16.  ,  7.  ,  4.  , 19.  ,  7.  ,  7.  ,  5.33,\n",
       "        9.  ,  0.  ,  9.  ,  9.  , 12.  ,  5.33,  9.33,  0.  , 19.  ,\n",
       "        7.  ,  7.  , 16.  , 21.33,  7.  ,  9.  ,  9.  , 31.  ,  9.  ,\n",
       "        0.  ,  7.  , 16.  ,  7.  ,  9.33,  5.33,  7.  ,  7.  , 21.33,\n",
       "       19.  ,  9.  , 19.  , 17.33, 19.  , 19.  ,  9.  ,  5.33,  7.  ,\n",
       "        7.  ,  9.  , 16.  ,  7.  ,  7.  , 19.  , 17.33, 19.  ,  7.  ,\n",
       "        0.  ,  0.  ,  7.  ,  0.  , 25.  ,  7.  , 19.  , 17.33,  7.  ,\n",
       "       19.  ,  4.  ,  9.  , 17.33,  7.  ,  7.  ,  7.  , 17.33, 19.  ,\n",
       "        0.  ,  0.  ,  0.  ,  9.  ,  4.  , 19.  , 13.  , 17.33,  0.  ,\n",
       "        7.  ,  0.  , 17.33, 17.33,  9.  , 16.  ,  5.33, 19.  ,  7.  ,\n",
       "       16.  , 19.  , 12.  , 17.33,  7.  ,  0.  ,  4.  ,  0.  ,  9.33,\n",
       "        7.  ,  0.  ,  4.  , 16.  , 17.33, 13.  ,  0.  ,  7.  ,  7.  ,\n",
       "       16.  ,  7.  ,  7.  ,  0.  ,  7.  ,  9.  ,  9.  ,  9.  ,  0.  ,\n",
       "        9.33, 17.33,  9.  ,  7.  , 21.33,  7.  ,  7.  ,  7.  , 25.  ,\n",
       "       17.33,  7.  ,  0.  ,  9.  ,  0.  ,  9.  ,  0.  , 17.33,  9.33,\n",
       "       17.33, 16.  ,  9.  ,  7.  ,  0.  ,  7.  , 31.  , 17.33,  5.33,\n",
       "        7.  , 12.  , 19.  ,  0.  ,  0.  ,  7.  ,  7.  ,  7.  , 19.  ,\n",
       "        7.  ,  0.  ,  7.  ,  9.  , 16.  , 19.  ,  0.  , 16.  ,  0.  ,\n",
       "       19.  , 17.33,  7.  , 19.  ,  0.  ,  9.33, 17.33,  0.  , 12.  ,\n",
       "        0.  ,  7.  , 19.  ,  0.  , 19.  , 17.33, 19.  ,  9.  , 19.  ,\n",
       "        7.  ,  7.  ,  0.  ,  7.  , 16.  , 19.  ,  9.33,  7.  ,  0.  ,\n",
       "       12.  ,  7.  ,  7.  ,  7.  , 16.  ,  7.  ,  7.  ,  0.  ,  5.33,\n",
       "       19.  , 13.  ,  9.  , 21.  ,  9.33, 17.33, 16.  ,  0.  ,  7.  ,\n",
       "       19.  ,  7.  ,  0.  ,  9.  ,  7.  ,  0.  ,  9.  ,  7.  ,  9.  ,\n",
       "       19.  ,  7.  ,  0.  , 19.  , 16.  ,  0.  , 19.  ,  7.  ,  7.  ,\n",
       "        0.  ,  0.  , 19.  ,  7.  ,  7.  ,  7.  ,  7.  , 19.  ,  7.  ,\n",
       "       17.33, 13.  , 25.  ,  7.  ,  9.  , 17.33,  0.  , 19.  ,  4.  ,\n",
       "        7.  , 25.  ,  0.  , 25.  ,  0.  ,  9.  , 21.  , 16.  ,  7.  ,\n",
       "       19.  ,  9.  ,  7.  ,  0.  , 13.  ,  7.  ,  7.  ,  7.  , 19.  ,\n",
       "       19.  ,  0.  ,  7.  , 16.  ,  9.  , 13.  ,  0.  , 19.  ,  9.33,\n",
       "       17.33,  7.  ,  9.  ,  7.  ,  7.  ,  7.  , 17.33,  7.  ,  9.  ,\n",
       "       25.  ,  7.  , 16.  ,  0.  ,  7.  ,  7.  , 27.  ,  0.  ,  7.  ,\n",
       "        0.  ,  5.33,  9.  , 19.  , 17.33,  0.  ,  4.  ,  7.  , 19.  ,\n",
       "        7.  ,  7.  ,  7.  ,  7.  ,  0.  ,  7.  , 17.33, 19.  ,  7.  ,\n",
       "       13.  ,  7.  ,  7.  ,  5.33,  4.  ,  9.33,  0.  ,  0.  , 16.  ,\n",
       "        9.  , 12.  ,  0.  ,  5.33,  7.  ,  0.  ,  5.33,  7.  , 19.  ,\n",
       "        7.  ,  7.  ,  7.  ,  0.  ,  7.  ,  0.  , 19.  , 16.  ,  7.  ,\n",
       "       19.  , 25.  , 13.  ,  0.  ,  0.  ,  7.  , 17.33,  7.  ,  0.  ,\n",
       "        9.  , 19.  ,  0.  ,  7.  ,  7.  ,  0.  , 17.33,  0.  ,  0.  ,\n",
       "        7.  ,  0.  , 19.  ,  7.  ,  7.  ,  9.  , 17.33,  0.  ,  0.  ,\n",
       "        7.  ,  9.  ,  7.  , 25.  ,  5.33,  7.  , 17.33,  0.  ,  0.  ,\n",
       "        7.  ,  9.33,  7.  ,  7.  ,  7.  ,  9.  , 17.33,  0.  ,  7.  ,\n",
       "        4.  ,  4.  ,  0.  , 16.  , 21.33,  7.  ,  7.  , 19.  , 13.  ,\n",
       "        7.  ,  7.  ,  7.  ,  5.33,  7.  ,  0.  ,  9.  ,  9.  , 17.33,\n",
       "       12.  ,  0.  ,  7.  ,  0.  ,  0.  ,  7.  ,  9.  , 17.33,  9.  ,\n",
       "        7.  ,  4.  ,  9.33,  9.  ,  7.  , 19.  , 17.33, 19.  ,  7.  ,\n",
       "        5.33, 19.  ,  7.  ,  0.  ,  7.  ,  5.33,  7.  ,  7.  ,  7.  ,\n",
       "        9.  ,  0.  ,  7.  ,  5.33,  9.  ])"
      ]
     },
     "execution_count": 118,
     "metadata": {},
     "output_type": "execute_result"
    }
   ],
   "source": [
    "tnumTEST = []\n",
    "n = len(genomebps)\n",
    "for i in range(n):\n",
    "    tnumTEST.append(tNum(genomebps[i]/1000,2, .09))\n",
    "tnumTEST = np.asarray(tnumTEST)\n",
    "tnumTEST"
   ]
  },
  {
   "cell_type": "code",
   "execution_count": 119,
   "metadata": {},
   "outputs": [
    {
     "name": "stdout",
     "output_type": "stream",
     "text": [
      "RandomForestClassifier(class_weight='balanced', max_depth=20, max_features=6,\n",
      "                       min_samples_leaf=3, min_samples_split=6,\n",
      "                       n_estimators=750, random_state=42)\n",
      "              precision    recall  f1-score   support\n",
      "\n",
      "           3       1.00      1.00      1.00         1\n",
      "           4       1.00      0.80      0.89         5\n",
      "           5       0.71      0.82      0.76        39\n",
      "           6       0.58      0.64      0.61        11\n",
      "           7       1.00      0.33      0.50         3\n",
      "           8       1.00      1.00      1.00         3\n",
      "          10       0.75      0.86      0.80         7\n",
      "          11       0.82      0.82      0.82        11\n",
      "          12       0.86      0.86      0.86        14\n",
      "          14       0.00      0.00      0.00         1\n",
      "          15       0.75      0.75      0.75         4\n",
      "          19       0.00      0.00      0.00         0\n",
      "          47       0.74      0.58      0.65        24\n",
      "\n",
      "    accuracy                           0.75       123\n",
      "   macro avg       0.71      0.65      0.66       123\n",
      "weighted avg       0.76      0.75      0.74       123\n",
      "\n",
      "[[ 1  0  0  0  0  0  0  0  0  0  0  0  0]\n",
      " [ 0  4  1  0  0  0  0  0  0  0  0  0  0]\n",
      " [ 0  0 32  2  0  0  0  0  1  0  0  0  4]\n",
      " [ 0  0  3  7  0  0  0  0  0  0  0  0  1]\n",
      " [ 0  0  0  1  1  0  0  0  0  0  0  1  0]\n",
      " [ 0  0  0  0  0  3  0  0  0  0  0  0  0]\n",
      " [ 0  0  0  0  0  0  6  1  0  0  0  0  0]\n",
      " [ 0  0  0  0  0  0  2  9  0  0  0  0  0]\n",
      " [ 0  0  1  0  0  0  0  1 12  0  0  0  0]\n",
      " [ 0  0  0  0  0  0  0  0  0  0  1  0  0]\n",
      " [ 0  0  0  0  0  0  0  0  1  0  3  0  0]\n",
      " [ 0  0  0  0  0  0  0  0  0  0  0  0  0]\n",
      " [ 0  0  8  2  0  0  0  0  0  0  0  0 14]]\n",
      "Accuracy Score: RandomForestClassifier 0.7479674796747967\n"
     ]
    },
    {
     "name": "stderr",
     "output_type": "stream",
     "text": [
      "C:\\Users\\nueve\\anaconda3\\lib\\site-packages\\sklearn\\metrics\\_classification.py:1221: UndefinedMetricWarning: Precision and F-score are ill-defined and being set to 0.0 in labels with no predicted samples. Use `zero_division` parameter to control this behavior.\n",
      "  _warn_prf(average, modifier, msg_start, len(result))\n",
      "C:\\Users\\nueve\\anaconda3\\lib\\site-packages\\sklearn\\metrics\\_classification.py:1221: UndefinedMetricWarning: Recall and F-score are ill-defined and being set to 0.0 in labels with no true samples. Use `zero_division` parameter to control this behavior.\n",
      "  _warn_prf(average, modifier, msg_start, len(result))\n"
     ]
    }
   ],
   "source": [
    "rfBest_clf.fit(x_train,y_train)\n",
    "print(rfBest_clf)\n",
    "expected = y_test\n",
    "predicted = rfBest_clf.predict(x_test)\n",
    "predictAll = rfBest_clf.predict(x_Phage)\n",
    "print(metrics.classification_report(expected,predicted))\n",
    "cmRF = confusion_matrix(expected,predicted)\n",
    "rfBest_acc = accuracy_score(expected, predicted)\n",
    "print(metrics.confusion_matrix(expected,predicted))\n",
    "print(\"Accuracy Score:\", rfBest_clf.__class__.__name__, accuracy_score(expected, predicted))"
   ]
  },
  {
   "cell_type": "code",
   "execution_count": 120,
   "metadata": {},
   "outputs": [],
   "source": [
    "# make a unique list of all T nums in the confusion matrix\n",
    "blerb= np.unique(np.concatenate([(expected),(predicted)]))"
   ]
  },
  {
   "cell_type": "code",
   "execution_count": 121,
   "metadata": {},
   "outputs": [
    {
     "name": "stdout",
     "output_type": "stream",
     "text": [
      "T-num  --  TP --  FP --  FN -- TN\n",
      "[[  4.     1.     0.     0.   122.  ]\n",
      " [  5.33   4.     0.     1.   118.  ]\n",
      " [  7.    32.    13.     7.    71.  ]\n",
      " [  9.     7.     5.     4.   107.  ]\n",
      " [  9.33   1.     0.     2.   120.  ]\n",
      " [ 12.     3.     0.     0.   120.  ]\n",
      " [ 16.     6.     2.     1.   114.  ]\n",
      " [ 17.33   9.     2.     2.   110.  ]\n",
      " [ 19.    12.     2.     2.   107.  ]\n",
      " [ 21.33   0.     0.     1.   122.  ]\n",
      " [ 25.     3.     1.     1.   118.  ]\n",
      " [ 31.     0.     1.     0.   122.  ]\n",
      " [  0.    14.     5.    10.    94.  ]]\n"
     ]
    }
   ],
   "source": [
    "# create a placeholder for the cm result verification\n",
    "tResult=[]\n",
    "# for each T-number\n",
    "for i in range(len(blerb)):\n",
    "    # T-number\n",
    "    tResult.append(tdict2rev[blerb[i]])\n",
    "    # true positives\n",
    "    tResult.append(cmRF[i][i])\n",
    "    # false positives\n",
    "    tResult.append(np.sum(cmRF[:,i])-cmRF[i][i])\n",
    "    # false negatives\n",
    "    tResult.append(np.sum(cmRF[i,:])-cmRF[i][i])\n",
    "    # true negatives\n",
    "    tResult.append(np.sum(cmRF)-np.sum(cmRF[i,:])-np.sum(cmRF[:,i])+cmRF[i][i])\n",
    "#    # precision\n",
    "#    if (np.sum(cmRF[:,i])>0):\n",
    "#        tResult.append((cmRF[i][i])/np.sum(cmRF[:,i]))\n",
    "#    else:\n",
    "#        tResult.append(0)\n",
    "#    # recall\n",
    "#    if (np.sum(cmRF[i,:])>0):\n",
    "#        tResult.append((cmRF[i][i])/np.sum(cmRF[i,:]))\n",
    "#    else:\n",
    "#        tResult.append(0)\n",
    "    \n",
    "tResult=np.asarray(tResult).reshape(-1,5)\n",
    "#tResult=np.asarray(tResult).reshape(-1,7)\n",
    "print(\"T-num  --  TP --  FP --  FN -- TN\")\n",
    "#print(\"T-num  --  TP --  FP --  FN -- TN -- Precision - Recall\")\n",
    "print(tResult)"
   ]
  },
  {
   "cell_type": "code",
   "execution_count": 130,
   "metadata": {},
   "outputs": [
    {
     "name": "stdout",
     "output_type": "stream",
     "text": [
      "T-num  --  TP  --  TP%  --  FP  --  FP% --  FN  --  FN% -- TN  --  TN%\n",
      "[[  4.      1.      1.      0.      0.      0.      0.    122.      0.992]\n",
      " [  5.33    4.      0.8     0.      0.      1.      0.2   118.      0.959]\n",
      " [  7.     32.      0.821  13.      0.333   7.      0.179  71.      0.577]\n",
      " [  9.      7.      0.636   5.      0.455   4.      0.364 107.      0.87 ]\n",
      " [  9.33    1.      0.333   0.      0.      2.      0.667 120.      0.976]\n",
      " [ 12.      3.      1.      0.      0.      0.      0.    120.      0.976]\n",
      " [ 16.      6.      0.857   2.      0.286   1.      0.143 114.      0.927]\n",
      " [ 17.33    9.      0.818   2.      0.182   2.      0.182 110.      0.894]\n",
      " [ 19.     12.      0.857   2.      0.143   2.      0.143 107.      0.87 ]\n",
      " [ 21.33    0.      0.      0.      0.      1.      1.    122.      0.992]\n",
      " [ 25.      3.      0.75    1.      0.25    1.      0.25  118.      0.959]\n",
      " [ 31.      0.      0.      1.      0.      0.      0.    122.      0.992]\n",
      " [  0.     14.      0.583   5.      0.208  10.      0.417  94.      0.764]]\n"
     ]
    }
   ],
   "source": [
    "# create a placeholder for the cm result verification\n",
    "tResult2=[]\n",
    "# for each T-number\n",
    "for i in range(len(blerb)):\n",
    "    # T-number\n",
    "    tResult2.append(tdict2rev[blerb[i]])\n",
    "    # true positives\n",
    "    tResult2.append(cmRF[i][i])\n",
    "    if (np.sum(cmRF[i,:])==0):\n",
    "        tResult2.append(0)\n",
    "    else:\n",
    "        tResult2.append((cmRF[i][i])/np.sum(cmRF[i,:]))   \n",
    "    # false positives\n",
    "    tResult2.append(np.sum(cmRF[:,i])-cmRF[i][i])\n",
    "    if (np.sum(cmRF[i,:])==0):\n",
    "        tResult2.append(0)\n",
    "    else:\n",
    "        tResult2.append((np.sum(cmRF[:,i])-cmRF[i][i])/np.sum(cmRF[i,:]))   \n",
    "    # false negatives\n",
    "    tResult2.append(np.sum(cmRF[i,:])-cmRF[i][i])\n",
    "    if (np.sum(cmRF[i,:])==0):\n",
    "        tResult2.append(0)\n",
    "    else:\n",
    "        tResult2.append((np.sum(cmRF[i,:])-cmRF[i][i])/np.sum(cmRF[i,:]))   \n",
    "    # true negatives\n",
    "    tResult2.append(np.sum(cmRF)-np.sum(cmRF[i,:])-np.sum(cmRF[:,i])+cmRF[i][i])\n",
    "    if (np.sum(cmRF)==0):\n",
    "        tResult2.append(0)\n",
    "    else:\n",
    "        tResult2.append((np.sum(cmRF)-np.sum(cmRF[i,:])-np.sum(cmRF[:,i])+cmRF[i][i])/np.sum(cmRF))\n",
    "#    # precision\n",
    "#    if (np.sum(cmRF[:,i])>0):\n",
    "#        tResult.append((cmRF[i][i])/np.sum(cmRF[:,i]))\n",
    "#    else:\n",
    "#        tResult.append(0)\n",
    "#    # recall\n",
    "#    if (np.sum(cmRF[i,:])>0):\n",
    "#        tResult.append((cmRF[i][i])/np.sum(cmRF[i,:]))\n",
    "#    else:\n",
    "#        tResult.append(0)\n",
    "    \n",
    "tResult2=np.asarray(tResult2).reshape(-1,9)\n",
    "print(\"T-num  --  TP  --  TP%  --  FP  --  FP% --  FN  --  FN% -- TN  --  TN%\")\n",
    "#print(\"T-num  --  TP --  FP --  FN -- TN -- Precision - Recall\")\n",
    "np.set_printoptions(precision=3,suppress=True)\n",
    "print(tResult2)"
   ]
  },
  {
   "cell_type": "code",
   "execution_count": 131,
   "metadata": {},
   "outputs": [
    {
     "name": "stdout",
     "output_type": "stream",
     "text": [
      "Avg TP 0.6505\n",
      "Avg FP 0.1428\n",
      "Avg FN 0.2726\n",
      "Avg TN 0.9037\n"
     ]
    }
   ],
   "source": [
    "print(\"Avg TP\", round(np.mean(tResult2[:,2]),4))\n",
    "print(\"Avg FP\", round(np.mean(tResult2[:,4]),4))\n",
    "print(\"Avg FN\", round(np.mean(tResult2[:,6]),4))\n",
    "print(\"Avg TN\", round(np.mean(tResult2[:,8]),4))"
   ]
  },
  {
   "cell_type": "code",
   "execution_count": 132,
   "metadata": {},
   "outputs": [
    {
     "name": "stderr",
     "output_type": "stream",
     "text": [
      "<ipython-input-132-785cd9db98e8>:12: RuntimeWarning: invalid value encountered in true_divide\n",
      "  TPR = TP/(TP+FN)\n",
      "<ipython-input-132-785cd9db98e8>:16: RuntimeWarning: invalid value encountered in true_divide\n",
      "  PPV = TP/(TP+FP)\n",
      "<ipython-input-132-785cd9db98e8>:22: RuntimeWarning: invalid value encountered in true_divide\n",
      "  FNR = FN/(TP+FN)\n",
      "<ipython-input-132-785cd9db98e8>:24: RuntimeWarning: invalid value encountered in true_divide\n",
      "  FDR = FP/(TP+FP)\n"
     ]
    }
   ],
   "source": [
    "FP = cmRF.sum(axis=0) - np.diag(cmRF)  \n",
    "FN = cmRF.sum(axis=1) - np.diag(cmRF)\n",
    "TP = np.diag(cmRF)\n",
    "TN = cmRF.sum() - (FP + FN + TP)\n",
    "\n",
    "FP = FP.astype(float)\n",
    "FN = FN.astype(float)\n",
    "TP = TP.astype(float)\n",
    "TN = TN.astype(float)\n",
    "\n",
    "# Sensitivity, hit rate, recall, or true positive rate\n",
    "TPR = TP/(TP+FN)\n",
    "# Specificity or true negative rate\n",
    "TNR = TN/(TN+FP) \n",
    "# Precision or positive predictive value\n",
    "PPV = TP/(TP+FP)\n",
    "# Negative predictive value\n",
    "NPV = TN/(TN+FN)\n",
    "# Fall out or false positive rate\n",
    "FPR = FP/(FP+TN)\n",
    "# False negative rate\n",
    "FNR = FN/(TP+FN)\n",
    "# False discovery rate\n",
    "FDR = FP/(TP+FP)\n",
    "# Overall accuracy\n",
    "ACC = (TP+TN)/(TP+FP+FN+TN)"
   ]
  },
  {
   "cell_type": "code",
   "execution_count": 50,
   "metadata": {},
   "outputs": [
    {
     "data": {
      "image/png": "[encoded data removed]",
      "text/plain": [
       "<Figure size 900x360 with 1 Axes>"
      ]
     },
     "metadata": {},
     "output_type": "display_data"
    }
   ],
   "source": [
    "ind = np.arange(len(tResult[:,0]))    # the x locations for the groups\n",
    "width = 0.5 \n",
    "\n",
    "# create a color map to make the 'No T' group gray\n",
    "barColors = []\n",
    "for p in ind:\n",
    "    if (p==np.max(ind)):\n",
    "        barColors.append('#929591')\n",
    "    else:\n",
    "        barColors.append('green')\n",
    "barColors = np.asarray(barColors)  \n",
    "\n",
    "# plot the histogram\n",
    "fig, ax = plt.subplots(nrows=1, ncols=1, figsize=(12.5,5))\n",
    "ax.set_facecolor('xkcd:white')\n",
    "plt.xlabel('Predicted T-Number', fontsize=font2)\n",
    "plt.ylabel('True positive rate (%)', fontsize=font2)\n",
    "ax.set_title('Random Forest Performance', fontsize=font2, pad=25)\n",
    "\n",
    "\n",
    "plt.text(9.25,.95, \"Average Accuracy: 74%\", {'fontsize': font2})\n",
    "\n",
    "\n",
    "plt.bar(ind, TPR, width, align='center',color=barColors)\n",
    "plt.xticks(ind, tResult[:,0], fontsize=font2)\n",
    "#plt.xticks(ind, objects2, fontsize=font2, rotation=45)\n",
    "plt.yticks(fontsize=font2)\n",
    "ax.tick_params(length=10, width=2)\n",
    "#plt.savefig(\"Fig5a-RF Predicted T-numbers for MCP.png\")\n",
    "#plt.savefig(\"Fig5a-RF Predicted T-numbers for MCP.svg\");"
   ]
  },
  {
   "cell_type": "code",
   "execution_count": 39,
   "metadata": {},
   "outputs": [
    {
     "name": "stdout",
     "output_type": "stream",
     "text": [
      "Feature ranking:\n",
      "1. feature 1 (0.091017)\n",
      "2. feature 9 (0.069909)\n",
      "3. feature 15 (0.066710)\n",
      "4. feature 18 (0.061364)\n",
      "5. feature 5 (0.058745)\n",
      "6. feature 4 (0.052598)\n",
      "7. feature 2 (0.050416)\n",
      "8. feature 20 (0.049076)\n",
      "9. feature 12 (0.045749)\n",
      "10. feature 3 (0.044200)\n",
      "11. feature 11 (0.043809)\n",
      "12. feature 13 (0.040996)\n",
      "13. feature 19 (0.040946)\n",
      "14. feature 14 (0.037749)\n",
      "15. feature 17 (0.035269)\n",
      "16. feature 8 (0.033968)\n",
      "17. feature 0 (0.032971)\n",
      "18. feature 16 (0.032865)\n",
      "19. feature 21 (0.031102)\n",
      "20. feature 10 (0.030534)\n",
      "21. feature 7 (0.029696)\n",
      "22. feature 6 (0.020312)\n"
     ]
    }
   ],
   "source": [
    "importances = rfBest_clf.feature_importances_\n",
    "std = np.std([tree.feature_importances_ for tree in rfBest_clf.estimators_],\n",
    "             axis=0)\n",
    "indices = np.argsort(importances)[::-1]\n",
    "\n",
    "# Print the feature ranking\n",
    "print(\"Feature ranking:\")\n",
    "\n",
    "for f in range(x_train.shape[1]):\n",
    "    print(\"%d. feature %d (%f)\" % (f + 1, indices[f], importances[indices[f]]))"
   ]
  },
  {
   "cell_type": "code",
   "execution_count": 40,
   "metadata": {},
   "outputs": [
    {
     "name": "stdout",
     "output_type": "stream",
     "text": [
      "Features Indices:\n",
      "Column 0: Isoelectric Point\n",
      "Column 1: length of MCP sequence\n",
      "Columns 2-21 are frequency percentages for each amino acid\n",
      "['IP' 'len' 'A' 'R' 'N' 'D' 'C' 'Q' 'E' 'G' 'H' 'I' 'L' 'K' 'M' 'F' 'P'\n",
      " 'S' 'T' 'W' 'Y' 'V']\n"
     ]
    }
   ],
   "source": [
    "print(\"Features Indices:\")\n",
    "print(\"Column 0: Isoelectric Point\")\n",
    "print(\"Column 1: length of MCP sequence\")\n",
    "print(\"Columns 2-21 are frequency percentages for each amino acid\")\n",
    "aa = np.asarray(['IP','len','A', 'R', 'N', 'D', 'C', 'Q', 'E', 'G', 'H', 'I', 'L', 'K', 'M', 'F', 'P', 'S', 'T', 'W', 'Y', 'V'])\n",
    "print(aa)"
   ]
  },
  {
   "cell_type": "code",
   "execution_count": 126,
   "metadata": {},
   "outputs": [
    {
     "data": {
      "image/png": "[encoded data removed]",
      "text/plain": [
       "<Figure size 432x288 with 1 Axes>"
      ]
     },
     "metadata": {},
     "output_type": "display_data"
    }
   ],
   "source": [
    "# Plot the feature importances of the forest\n",
    "plt.figure()\n",
    "plt.title(\"Feature importance\")\n",
    "plt.bar(range(x_train.shape[1]), importances[indices],\n",
    "       color=\"r\", yerr=std[indices], align=\"center\")\n",
    "plt.xticks(range(x_train.shape[1]), aa[indices])\n",
    "plt.xlim([-1, x_train.shape[1]])\n",
    "plt.show()"
   ]
  },
  {
   "cell_type": "code",
   "execution_count": 135,
   "metadata": {},
   "outputs": [],
   "source": [
    "# saves kernel state\n",
    "# note that all csv_writer functions are commented out, since they cannot be pickled\n",
    "import dill\n",
    "dill.dump_session('item4_updated_p1.db')"
   ]
  },
  {
   "cell_type": "markdown",
   "metadata": {},
   "source": [
    "# cells above are locked in at this point"
   ]
  },
  {
   "cell_type": "code",
   "execution_count": null,
   "metadata": {},
   "outputs": [],
   "source": [
    "## load kernel state\n",
    "## rerun imports cell as well\n",
    "##import dill\n",
    "##dill.load_session('item4_updated_p1.db')"
   ]
  },
  {
   "cell_type": "code",
   "execution_count": 43,
   "metadata": {},
   "outputs": [],
   "source": [
    "x_train2 = copy.copy(x_train)"
   ]
  },
  {
   "cell_type": "code",
   "execution_count": 6,
   "metadata": {},
   "outputs": [
    {
     "name": "stdout",
     "output_type": "stream",
     "text": [
      "loop  0 complete\n",
      "loop  1 complete\n",
      "loop  2 complete\n",
      "loop  3 complete\n",
      "loop  4 complete\n",
      "loop  5 complete\n",
      "loop  6 complete\n",
      "loop  7 complete\n",
      "loop  8 complete\n",
      "loop  9 complete\n",
      "loop  10 complete\n",
      "loop  11 complete\n",
      "loop  12 complete\n",
      "loop  13 complete\n",
      "loop  14 complete\n",
      "loop  15 complete\n",
      "loop  16 complete\n",
      "loop  17 complete\n",
      "loop  18 complete\n",
      "loop  19 complete\n",
      "loop  20 complete\n",
      "loop  21 complete\n",
      "loop  22 complete\n",
      "loop  23 complete\n",
      "loop  24 complete\n",
      "loop  25 complete\n",
      "loop  26 complete\n",
      "loop  27 complete\n",
      "loop  28 complete\n",
      "loop  29 complete\n",
      "loop  30 complete\n",
      "loop  31 complete\n",
      "loop  32 complete\n",
      "loop  33 complete\n",
      "loop  34 complete\n",
      "loop  35 complete\n",
      "loop  36 complete\n",
      "loop  37 complete\n",
      "loop  38 complete\n",
      "loop  39 complete\n",
      "loop  40 complete\n",
      "loop  41 complete\n",
      "loop  42 complete\n",
      "loop  43 complete\n",
      "loop  44 complete\n",
      "loop  45 complete\n",
      "loop  46 complete\n",
      "loop  47 complete\n",
      "loop  48 complete\n",
      "loop  49 complete\n",
      "loop  50 complete\n",
      "loop  51 complete\n",
      "loop  52 complete\n",
      "loop  53 complete\n",
      "loop  54 complete\n",
      "loop  55 complete\n",
      "loop  56 complete\n",
      "loop  57 complete\n",
      "loop  58 complete\n",
      "loop  59 complete\n",
      "loop  60 complete\n",
      "loop  61 complete\n",
      "loop  62 complete\n",
      "loop  63 complete\n",
      "loop  64 complete\n",
      "loop  65 complete\n",
      "loop  66 complete\n",
      "loop  67 complete\n",
      "loop  68 complete\n",
      "loop  69 complete\n",
      "loop  70 complete\n",
      "loop  71 complete\n",
      "loop  72 complete\n",
      "loop  73 complete\n",
      "loop  74 complete\n",
      "loop  75 complete\n",
      "loop  76 complete\n",
      "loop  77 complete\n",
      "loop  78 complete\n",
      "loop  79 complete\n",
      "loop  80 complete\n",
      "loop  81 complete\n",
      "loop  82 complete\n",
      "loop  83 complete\n",
      "loop  84 complete\n",
      "loop  85 complete\n",
      "loop  86 complete\n",
      "loop  87 complete\n",
      "loop  88 complete\n",
      "loop  89 complete\n",
      "loop  90 complete\n",
      "loop  91 complete\n",
      "loop  92 complete\n",
      "loop  93 complete\n",
      "loop  94 complete\n",
      "loop  95 complete\n",
      "loop  96 complete\n",
      "loop  97 complete\n",
      "loop  98 complete\n",
      "loop  99 complete\n",
      "[[0.00806452 0.05119215 0.00806452 ... 0.00806452 0.00806452 0.03506311]\n",
      " [0.03506311 0.00806452 0.03506311 ... 0.03506311 0.00806452 0.03506311]\n",
      " [0.00806452 0.00806452 0.03506311 ... 0.03506311 0.00806452 0.00806452]\n",
      " ...\n",
      " [0.00806452 0.00806452 0.03506311 ... 0.00806452 0.00806452 0.00806452]\n",
      " [0.00806452 0.00806452 0.00806452 ... 0.00806452 0.00806452 0.03506311]\n",
      " [0.00806452 0.00806452 0.00806452 ... 0.00806452 0.00806452 0.00806452]]\n",
      "[0.01211431 0.01065217 0.0140568  0.01130435 0.01324684 0.01162693\n",
      " 0.02112903 0.01853787 0.00914446 0.03580645 0.02102384 0.05382188\n",
      " 0.00860449 0.01859397 0.01076438 0.00806452 0.01454418 0.01130435\n",
      " 0.02658485 0.00995442 0.01373422]\n"
     ]
    }
   ],
   "source": [
    "# Run Permutation Feature Importance Analysis\n",
    "\n",
    "# rfBest_acc=accuracy_score(expected, predicted)\n",
    "nperm = x_train2.shape[1]\n",
    "n_iter = 100\n",
    "perm_acc = np.zeros((n_iter, nperm))\n",
    "\n",
    "for j in range(n_iter):\n",
    "    for i in range(nperm):\n",
    "        # copy x_train\n",
    "        x_train2 = copy.copy(x_train)\n",
    "        # create a shuffle index\n",
    "        shuf_ind = np.random.permutation(x_train2.shape[0])\n",
    "        # shuffle one column\n",
    "        x_train2[:,i] = x_train2[:,i][shuf_ind]\n",
    "\n",
    "        # train and fit the random forest\n",
    "        rfBest_clf.fit(x_train2,y_train)\n",
    "        expected2 = y_test\n",
    "        predicted2 = rfBest_clf.predict(x_test)\n",
    "\n",
    "        # compare accuracy to baseline\n",
    "        perm_acc[j,i] = np.abs(accuracy_score(expected2, predicted2)-rfBest_acc)/rfBest_acc\n",
    "        #print(\"feat \", i, \"complete\")\n",
    "    print(\"loop \", j, \"complete\")\n",
    "\n",
    "print(perm_acc)\n",
    "\n",
    "perm_acc_mean = []\n",
    "for i in range(nperm):\n",
    "    perm_acc_mean.append(np.mean(perm_acc[:,i]))\n",
    "perm_acc_mean = np.asarray(perm_acc_mean)\n",
    "\n",
    "print(perm_acc_mean)"
   ]
  },
  {
   "cell_type": "code",
   "execution_count": 7,
   "metadata": {},
   "outputs": [],
   "source": [
    "std2 = []\n",
    "for i in range(perm_acc.shape[1]):\n",
    "    std2.append(np.std(perm_acc[:,i]))\n",
    "\n",
    "std2 = np.asarray(std2)"
   ]
  },
  {
   "cell_type": "code",
   "execution_count": 8,
   "metadata": {},
   "outputs": [
    {
     "data": {
      "image/png": "[encoded data removed]",
      "text/plain": [
       "<Figure size 900x432 with 1 Axes>"
      ]
     },
     "metadata": {
      "needs_background": "light"
     },
     "output_type": "display_data"
    }
   ],
   "source": [
    "indices2 = perm_acc_mean.argsort()[::-1][:nperm]\n",
    "# Plot the feature importances of the forest\n",
    "\n",
    "from matplotlib.ticker import PercentFormatter\n",
    "\n",
    "fig, ax = plt.subplots(nrows=1, ncols=1, figsize=(12.5, 6))\n",
    "ax.set_facecolor('xkcd:white')\n",
    "plt.xlabel('Features', fontsize=font2)\n",
    "plt.ylabel('Effect on Accuracy (-%)', fontsize=font2)\n",
    "ax.set_title('Permutation Feature importance', fontsize=font1, pad=25)\n",
    "plt.bar(range(nperm), perm_acc_mean[indices2], width, yerr=std2[indices2], color='green', alpha=.7)\n",
    "plt.xticks(range(nperm), aa[indices2])\n",
    "plt.xlim([-1, x_train2.shape[1]])\n",
    "ax.yaxis.set_major_formatter(PercentFormatter(xmax=1))\n",
    "plt.show()\n",
    "\n",
    "fig.savefig(\"Fig5b-RF permutation feature importance.png\")\n",
    "fig.savefig(\"Fig5b-RF permutation feature importance.svg\")"
   ]
  },
  {
   "cell_type": "code",
   "execution_count": 136,
   "metadata": {},
   "outputs": [
    {
     "data": {
      "text/plain": [
       "[4.0, 5.33, 7.0, 9.0, 9.33, 12.0, 16.0, 17.33, 19.0, 21.33, 25.0, 31.0, 0]"
      ]
     },
     "execution_count": 136,
     "metadata": {},
     "output_type": "execute_result"
    }
   ],
   "source": [
    "t_labels=[]\n",
    "for i in range (len(blerb)):\n",
    "    t_labels.append(tdict2rev[blerb[i]])\n",
    "t_labels"
   ]
  },
  {
   "cell_type": "code",
   "execution_count": 31,
   "metadata": {},
   "outputs": [
    {
     "data": {
      "image/png": "[encoded data removed]",
      "text/plain": [
       "<Figure size 432x288 with 2 Axes>"
      ]
     },
     "metadata": {
      "needs_background": "light"
     },
     "output_type": "display_data"
    },
    {
     "data": {
      "text/plain": [
       "0.7479674796747967"
      ]
     },
     "execution_count": 31,
     "metadata": {},
     "output_type": "execute_result"
    }
   ],
   "source": [
    "fig = plt.figure()\n",
    "\n",
    "cm = confusion_matrix(expected, predicted)\n",
    "# print(cm)\n",
    "df_cm = pd.DataFrame(cm, index=[blerb],\n",
    "                  columns=[blerb], )\n",
    "sn.set(font_scale=1.4)#for label size\n",
    "sn.heatmap(df_cm, annot=True,annot_kws={\"size\": 14},cmap=\"YlGnBu\",yticklabels=t_labels,xticklabels=t_labels)# font size\n",
    "plt.title(\"T-number Prediction: Random Forest\") \n",
    "plt.xlabel(\"Predicted\")\n",
    "plt.ylabel(\"Actual\")\n",
    "\n",
    "fig.savefig('statSim01.svg')\n",
    "fig.savefig('statSim01.png')\n",
    "plt.show()\n",
    "\n",
    "accuracy_score(expected, predicted, normalize=True, sample_weight=None)"
   ]
  },
  {
   "cell_type": "code",
   "execution_count": 32,
   "metadata": {},
   "outputs": [
    {
     "name": "stdout",
     "output_type": "stream",
     "text": [
      "94\n",
      "0.7642276422764228\n",
      "14\n",
      "0.11382113821138211\n",
      "10\n",
      "0.08130081300813008\n",
      "5\n",
      "0.04065040650406504\n",
      "123\n",
      "123\n"
     ]
    }
   ],
   "source": [
    "# Create statistics for Assigned/Unassigned confusion matrix\n",
    "\n",
    "UU = cm[-1,-1]\n",
    "UA = np.sum(cm[-1,:])-UU\n",
    "AU = np.sum(cm[:,-1])-UU\n",
    "AA = np.sum(cm[:-1])-AU\n",
    "\n",
    "print(AA)\n",
    "print(AA/np.sum(cm))\n",
    "print(UU)\n",
    "print(UU/np.sum(cm))\n",
    "print(UA)\n",
    "print(UA/np.sum(cm))\n",
    "print(AU)\n",
    "print(AU/np.sum(cm))\n",
    "print(AA+UU+UA+AU)\n",
    "print(np.sum(cm))"
   ]
  },
  {
   "cell_type": "code",
   "execution_count": 49,
   "metadata": {},
   "outputs": [
    {
     "data": {
      "text/plain": [
       "array([1.        , 0.8       , 0.82051282, 0.63636364, 0.33333333,\n",
       "       1.        , 0.85714286, 0.81818182, 0.85714286, 0.        ,\n",
       "       0.75      , 1.        , 0.58333333])"
      ]
     },
     "execution_count": 49,
     "metadata": {},
     "output_type": "execute_result"
    }
   ],
   "source": [
    "ACC_T = []\n",
    "for i in range(cm.shape[0]):\n",
    "    if (np.sum(cm[i,:])>0):\n",
    "        ACC_T.append(cm[i,i]/np.sum(cm[i,:]))\n",
    "    else:\n",
    "        ACC_T.append(1)\n",
    "ACC_T = np.asarray(ACC_T) \n",
    "ACC_T"
   ]
  },
  {
   "cell_type": "code",
   "execution_count": 51,
   "metadata": {},
   "outputs": [
    {
     "data": {
      "text/plain": [
       "0.7273854350777428"
      ]
     },
     "execution_count": 51,
     "metadata": {},
     "output_type": "execute_result"
    }
   ],
   "source": [
    "np.mean(ACC_T)"
   ]
  },
  {
   "cell_type": "code",
   "execution_count": 52,
   "metadata": {},
   "outputs": [
    {
     "data": {
      "image/png": "[encoded data removed]",
      "text/plain": [
       "<Figure size 900x360 with 1 Axes>"
      ]
     },
     "metadata": {},
     "output_type": "display_data"
    }
   ],
   "source": [
    "ind = np.arange(len(tResult[:,0]))    # the x locations for the groups\n",
    "width = 0.5 \n",
    "\n",
    "# create a color map to make the 'No T' group gray\n",
    "barColors = []\n",
    "for p in ind:\n",
    "    if (p==np.max(ind)):\n",
    "        barColors.append('#929591')\n",
    "    else:\n",
    "        barColors.append('green')\n",
    "barColors = np.asarray(barColors)  \n",
    "\n",
    "# plot the histogram\n",
    "fig, ax = plt.subplots(nrows=1, ncols=1, figsize=(12.5,5))\n",
    "ax.set_facecolor('xkcd:white')\n",
    "plt.xlabel('Predicted T-Number', fontsize=font2)\n",
    "plt.ylabel('Accuracy (%)', fontsize=font2)\n",
    "ax.set_title('Random Forest Performance', fontsize=font2, pad=25)\n",
    "\n",
    "\n",
    "plt.text(9.25,.95, \"Average Accuracy: 73%\", {'fontsize': font2})\n",
    "\n",
    "\n",
    "plt.bar(ind, ACC_T, width, align='center',color=barColors)\n",
    "plt.xticks(ind, tResult[:,0], fontsize=font2)\n",
    "#plt.xticks(ind, objects2, fontsize=font2, rotation=45)\n",
    "plt.yticks(fontsize=font2)\n",
    "ax.tick_params(length=10, width=2)\n",
    "plt.savefig(\"Fig5a-RF Predicted T-numbers for MCP.png\")\n",
    "plt.savefig(\"Fig5a-RF Predicted T-numbers for MCP.svg\");"
   ]
  },
  {
   "cell_type": "code",
   "execution_count": 138,
   "metadata": {},
   "outputs": [
    {
     "name": "stdout",
     "output_type": "stream",
     "text": [
      "nTr 31 complete\n",
      "nTr 62 complete\n",
      "nTr 93 complete\n",
      "nTr 123 complete\n",
      "nTr 154 complete\n",
      "nTr 185 complete\n",
      "nTr 216 complete\n",
      "nTr 247 complete\n",
      "nTr 278 complete\n",
      "nTr 308 complete\n",
      "nTr 339 complete\n",
      "nTr 370 complete\n",
      "nTr 401 complete\n",
      "nTr 432 complete\n",
      "nTr 463 complete\n",
      "nTr 494 complete\n",
      "nTr 524 complete\n",
      "nTr 555 complete\n",
      "nTr 586 complete\n",
      "nTr -- mse -- accuracy -- acc std dev -- acc std err\n",
      "[[ 31.    426.781   0.386   0.042   0.001]\n",
      " [ 62.    360.883   0.466   0.035   0.001]\n",
      " [ 93.    329.085   0.52    0.031   0.001]\n",
      " [123.    305.885   0.561   0.028   0.001]\n",
      " [154.    292.077   0.591   0.026   0.001]\n",
      " [185.    280.144   0.616   0.025   0.001]\n",
      " [216.    271.706   0.634   0.024   0.001]\n",
      " [247.    265.47    0.652   0.024   0.001]\n",
      " [278.    260.119   0.664   0.024   0.001]\n",
      " [308.    256.331   0.675   0.024   0.001]\n",
      " [339.    249.721   0.685   0.026   0.001]\n",
      " [370.    248.028   0.694   0.026   0.001]\n",
      " [401.    244.605   0.702   0.028   0.001]\n",
      " [432.    241.45    0.71    0.031   0.001]\n",
      " [463.    237.479   0.718   0.033   0.001]\n",
      " [494.    237.586   0.721   0.039   0.001]\n",
      " [524.    235.56    0.724   0.044   0.001]\n",
      " [555.    236.784   0.73    0.055   0.002]\n",
      " [586.    232.354   0.734   0.075   0.002]]\n"
     ]
    }
   ],
   "source": [
    "# create a random shuffle of the phage table data\n",
    "shuffle_index = np.random.permutation(n)\n",
    "xS,yS = x_Phage[shuffle_index], Y2[shuffle_index]\n",
    "splits = 20\n",
    "n_iter = 1000\n",
    "\n",
    "incrementalRF = np.zeros((splits-1,5))\n",
    "\n",
    "for i in range(splits-1):\n",
    "    # split into training and test sets\n",
    "    nTr = round(n/splits*(i+1))\n",
    "    nTe = n-nTr\n",
    "    incr2 = np.zeros((n_iter,2))\n",
    "\n",
    "    for j in range(n_iter): \n",
    "\n",
    "        shuffle_index = np.random.permutation(n)\n",
    "        xS,yS = x_Phage[shuffle_index], Y2[shuffle_index]\n",
    "\n",
    "        x_train, x_test = xS[:nTr], xS[nTr:]\n",
    "        y_train, y_test = yS[:nTr], yS[nTr:]\n",
    "\n",
    "        rfBest_clf.fit(x_train, y_train)\n",
    "        yPred = rfBest_clf.predict(x_test)\n",
    "        incr2[j][0] = mean_squared_error(y_test, yPred) \n",
    "        incr2[j][1] = accuracy_score(y_test, yPred, normalize=True, sample_weight=None)\n",
    "\n",
    "    incrementalRF[i][0] = nTr\n",
    "    incrementalRF[i][1] = np.mean(incr2[:,0])\n",
    "    incrementalRF[i][2] = np.mean(incr2[:,1])\n",
    "    incrementalRF[i][3] = np.std(incr2[:,1])\n",
    "    incrementalRF[i][4] = np.std(incr2[:,1])/(np.sqrt(incr2.shape[0]))\n",
    "    \n",
    "    print(\"nTr\", nTr, \"complete\")\n",
    "    \n",
    "print(\"nTr -- mse -- accuracy -- acc std dev -- acc std err\")\n",
    "print(incrementalRF)"
   ]
  },
  {
   "cell_type": "code",
   "execution_count": 139,
   "metadata": {},
   "outputs": [
    {
     "data": {
      "text/plain": [
       "array([[168.548,   0.742],\n",
       "       [117.258,   0.774],\n",
       "       [119.452,   0.839],\n",
       "       ...,\n",
       "       [282.806,   0.677],\n",
       "       [279.258,   0.742],\n",
       "       [280.903,   0.742]])"
      ]
     },
     "execution_count": 139,
     "metadata": {},
     "output_type": "execute_result"
    }
   ],
   "source": [
    "incr2"
   ]
  },
  {
   "cell_type": "code",
   "execution_count": 140,
   "metadata": {},
   "outputs": [
    {
     "data": {
      "text/plain": [
       "Text(0, 0.5, '% accuracy')"
      ]
     },
     "execution_count": 140,
     "metadata": {},
     "output_type": "execute_result"
    },
    {
     "data": {
      "image/png": "[encoded data removed]",
      "text/plain": [
       "<Figure size 432x288 with 1 Axes>"
      ]
     },
     "metadata": {},
     "output_type": "display_data"
    }
   ],
   "source": [
    "plt.plot(incrementalRF[:,0],incrementalRF[:,2])\n",
    "plt.scatter(incrementalRF[:,0],incrementalRF[:,2])\n",
    "plt.xlabel(\"phages in training set\")\n",
    "plt.ylabel(\"% accuracy\")"
   ]
  },
  {
   "cell_type": "code",
   "execution_count": 141,
   "metadata": {},
   "outputs": [
    {
     "name": "stdout",
     "output_type": "stream",
     "text": [
      "y = 0.351808 1-e^(-0.010189x) 0.000167x +0.287734\n",
      "R-squared, robust least squares: 0.9996\n"
     ]
    }
   ],
   "source": [
    "from sklearn.metrics import mean_squared_error, r2_score, accuracy_score, explained_variance_score\n",
    "\n",
    "from scipy.optimize import least_squares\n",
    "# fit the mean relative error data to a exponential model\n",
    "\n",
    "# Define the function computing residuals for least-squares minimization:\n",
    "# y = a*(1-e^(-bx)) + cx + d, with ab as a vector of len 4 holding the initial guesses for those coefficients\n",
    "def fun(ab, x1, MSE):\n",
    "    return (ab[0]*(1-np.exp(-ab[1]*x1)))+ab[2]*x1 + ab[3]-MSE\n",
    "\n",
    "\n",
    "# use an estimate for a starting point\n",
    "abNought = [1,1,1,1]\n",
    "\n",
    "# robust least squares model (less prone to outlier error)\n",
    "res_robust = least_squares(fun, abNought, loss='soft_l1', f_scale=0.1, args=(incrementalRF[:,0],incrementalRF[:,2]))\n",
    "\n",
    "# generate plot data for least squares and robust least squares\n",
    "xlinD1 = np.linspace(0.1,650, 1000)\n",
    "ylinDrls = (res_robust.x[0]*(1-np.exp(-res_robust.x[1]*xlinD1)))+res_robust.x[2]*xlinD1+res_robust.x[3]\n",
    "\n",
    "# create an array to hold the coefficients\n",
    "MSE_coeff = np.zeros(4)\n",
    "for i in range(4):\n",
    "    MSE_coeff[i]=round(res_robust.x[i],4)\n",
    "\n",
    "# create text string for the function using calculated coefficients\n",
    "A_coef = str(round(res_robust.x[0],6))\n",
    "B_coef = str(round(res_robust.x[1],6))\n",
    "C_coef = str(round(res_robust.x[2],6))\n",
    "D_coef = str(round(res_robust.x[3],6))\n",
    "#D_coef = str(\"{0:.1E}\".format(res_robust.x[3]))\n",
    "\n",
    "A_txt = \"A = \" + A_coef \n",
    "B_txt = \"B = \" + B_coef \n",
    "C_txt = \"C = \" + C_coef\n",
    "D_txt = \"D = \" + D_coef\n",
    "\n",
    "MSEr = \"y = \"+ A_coef + \" 1-e^(-\" + B_coef + \"x) \" + C_coef+ \"x +\" + D_coef\n",
    "print(MSEr)\n",
    "\n",
    "# find r-squared\n",
    "r2_y1rls = res_robust.x[0]*(1-(np.exp(-res_robust.x[1]*incrementalRF[:,0])))+res_robust.x[2]*incrementalRF[:,0]+res_robust.x[3]\n",
    "DNAr3= '= ' + str(round(r2_score(incrementalRF[:,2], r2_y1rls),3))\n",
    "\n",
    "print('R-squared, robust least squares: %.4f' % r2_score(incrementalRF[:,2], r2_y1rls))"
   ]
  },
  {
   "cell_type": "code",
   "execution_count": 142,
   "metadata": {},
   "outputs": [
    {
     "data": {
      "image/png": "[encoded data removed]",
      "text/plain": [
       "<Figure size 576x432 with 1 Axes>"
      ]
     },
     "metadata": {},
     "output_type": "display_data"
    }
   ],
   "source": [
    "from matplotlib.ticker import PercentFormatter\n",
    "\n",
    "# plot results\n",
    "fig, ax = plt.subplots(nrows=1, ncols=1, figsize=(8, 6))\n",
    "ax.set_facecolor('xkcd:white')\n",
    "#fig.patch.set_facecolor('xkcd:light gray')\n",
    "plt.scatter(incrementalRF[:,0],incrementalRF[:,2], label='data', marker=\"x\", color=\"black\")\n",
    "# using std error for the error bars\n",
    "#plt.errorbar(incrementalRF[:,0],incrementalRF[:,2], yerr=incrementalRF[:,4], fmt='o',capsize=5)\n",
    "# using standard deviation for the error bars\n",
    "#plt.errorbar(incrementalRF[:,0],incrementalRF[:,2], yerr=incrementalRF[:,3], fmt='o',capsize=5)\n",
    "plt.plot(xlinD1, ylinDrls, label='robust least squares fit', color=\"gray\")\n",
    "plt.xlabel('Number of Data Points', fontsize=font2)\n",
    "plt.ylabel('Accuracy', fontsize=font2)\n",
    "ax.set_title('Model accuracy as sample size increases', fontsize=font1, pad=25)\n",
    "plt.ylim(.3,.8)\n",
    "#plt.legend(loc=\"upper right\")\n",
    "\n",
    "ax.yaxis.set_major_formatter(PercentFormatter(xmax=1))\n"
   ]
  },
  {
   "cell_type": "code",
   "execution_count": 143,
   "metadata": {},
   "outputs": [
    {
     "name": "stdout",
     "output_type": "stream",
     "text": [
      "y = 0.1205 ln(x) -0.021613\n",
      "R-squared, robust least squares: 0.9947\n"
     ]
    }
   ],
   "source": [
    "# fit the accuracy data to a exponential model\n",
    "\n",
    "from sklearn.metrics import mean_squared_error, r2_score, accuracy_score, explained_variance_score\n",
    "from scipy.optimize import least_squares\n",
    "\n",
    "# Define the function computing residuals for least-squares minimization:\n",
    "# y = a*ln(x) + d, with ab as a vector of len 2 holding the initial guesses for those coefficients\n",
    "def fun(ab, x1, MSE):\n",
    "    return (ab[0]*np.log(x1)) + ab[1]-MSE\n",
    "\n",
    "\n",
    "# use an estimate for a starting point\n",
    "abNought = [1,1]\n",
    "\n",
    "# robust least squares model (less prone to outlier error)\n",
    "res_robust = least_squares(fun, abNought, loss='soft_l1', f_scale=0.1, args=(incrementalRF[:,0],incrementalRF[:,2]))\n",
    "\n",
    "# generate plot data for least squares and robust least squares\n",
    "xlinD1 = np.linspace(0.1,700, 1001)\n",
    "ylinDrls = (res_robust.x[0]*(np.log(xlinD1)))+res_robust.x[1]\n",
    "\n",
    "# create an array to hold the coefficients\n",
    "MSE_coeff = np.zeros(2)\n",
    "for i in range(2):\n",
    "    MSE_coeff[i]=round(res_robust.x[i],4)\n",
    "\n",
    "# create text string for the function using calculated coefficients\n",
    "A_coef = str(round(res_robust.x[0],6))\n",
    "D_coef = str(round(res_robust.x[1],6))\n",
    "#D_coef = str(\"{0:.1E}\".format(res_robust.x[1]))\n",
    "\n",
    "A_txt = \"A = \" + A_coef \n",
    "D_txt = \"D = \" + D_coef\n",
    "\n",
    "MSEr = \"y = \"+ A_coef + \" ln(x) \" + D_coef\n",
    "print(MSEr)\n",
    "\n",
    "# find r-squared\n",
    "r2_y1rls = (res_robust.x[0]*(np.log(incrementalRF[:,0])))+res_robust.x[1]\n",
    "DNAr3= '= ' + str(round(r2_score(incrementalRF[:,2], r2_y1rls),3))\n",
    "\n",
    "print('R-squared, robust least squares: %.4f' % r2_score(incrementalRF[:,2], r2_y1rls))"
   ]
  },
  {
   "cell_type": "code",
   "execution_count": 144,
   "metadata": {},
   "outputs": [
    {
     "data": {
      "image/png": "[encoded data removed]",
      "text/plain": [
       "<Figure size 576x432 with 1 Axes>"
      ]
     },
     "metadata": {},
     "output_type": "display_data"
    }
   ],
   "source": [
    "from matplotlib.ticker import PercentFormatter\n",
    "\n",
    "# plot results\n",
    "fig, ax = plt.subplots(nrows=1, ncols=1, figsize=(8, 6))\n",
    "ax.set_facecolor('xkcd:white')\n",
    "#fig.patch.set_facecolor('xkcd:light gray')\n",
    "plt.scatter(incrementalRF[:,0],incrementalRF[:,2], label='data', marker=\"x\", color=\"black\")\n",
    "# using std error for the error bars\n",
    "plt.errorbar(incrementalRF[:,0],incrementalRF[:,2], yerr=incrementalRF[:,4], fmt='o',capsize=5)\n",
    "# using standard deviation for the error bars\n",
    "#plt.errorbar(incrementalRF[:,0],incrementalRF[:,2], yerr=incrementalRF[:,3], fmt='o',capsize=5)\n",
    "plt.plot(xlinD1, ylinDrls, label='robust least squares fit', color=\"gray\")\n",
    "plt.xlabel('Number of Data Points', fontsize=font2)\n",
    "plt.ylabel('Accuracy', fontsize=font2)\n",
    "ax.set_title('Model accuracy as sample size increases', fontsize=font1, pad=25)\n",
    "plt.ylim(.3,.8)\n",
    "#plt.legend(loc=\"upper right\")\n",
    "\n",
    "txt_strtY = max(incrementalRF[:,2])+.075\n",
    "txt_strtX = min(incrementalRF[:,0])\n",
    "\n",
    "#plt.text(min(D_err[:,0]+2), max(D_err[:,1]), MSEr, {'fontsize': font2})\n",
    "plt.text(txt_strtX, txt_strtY, \"y = A(ln(x)) + D\", {'fontsize': font2})\n",
    "plt.text(txt_strtX+1, txt_strtY-.035, A_txt, {'fontsize': font2})\n",
    "plt.text(txt_strtX+1, txt_strtY-.070, D_txt, {'fontsize': font2})\n",
    "plt.text(txt_strtX+1, txt_strtY-.105, (r'$R^2$'), {'fontsize': font2})\n",
    "plt.text(txt_strtX+40, txt_strtY-.105, DNAr3, {'fontsize': font2})\n",
    "\n",
    "\n",
    "ax.yaxis.set_major_formatter(PercentFormatter(xmax=1))\n"
   ]
  },
  {
   "cell_type": "code",
   "execution_count": 145,
   "metadata": {},
   "outputs": [],
   "source": [
    "def errorModel(xVal):\n",
    "    return (res_robust.x[0]*(np.log(xVal)))+res_robust.x[1]"
   ]
  },
  {
   "cell_type": "code",
   "execution_count": 146,
   "metadata": {},
   "outputs": [],
   "source": [
    "# custom function to numerically find the sample size necessary to hit a specific error percentage based on the error model\n",
    "# input arguments are the guess for what the x might be, and the y target range\n",
    "\n",
    "def numericalErrFinder(y_target, x_target, currentErr=100):\n",
    "\n",
    "    x_guess = copy.copy(x_target)\n",
    "    x_init = x_target-20\n",
    "    x_final = x_target+20\n",
    "    \n",
    "    for i in range(x_init-1,x_final+1):\n",
    "        if abs((errorModel(i))-y_target) < currentErr:\n",
    "            currentErr = abs((errorModel(i))-y_target) \n",
    "            x_guess = i\n",
    "#            print(currentErr)\n",
    "#            print(x_guess)\n",
    "      \n",
    "    if (x_guess == x_final or x_guess == x_init-1):\n",
    "        x_guess = numericalErrFinder(y_target, x_guess, currentErr)\n",
    "    \n",
    "    return x_guess"
   ]
  },
  {
   "cell_type": "code",
   "execution_count": 147,
   "metadata": {},
   "outputs": [
    {
     "data": {
      "text/plain": [
       "914"
      ]
     },
     "execution_count": 147,
     "metadata": {},
     "output_type": "execute_result"
    }
   ],
   "source": [
    "numericalErrFinder(.8,1000)"
   ]
  },
  {
   "cell_type": "code",
   "execution_count": 148,
   "metadata": {},
   "outputs": [
    {
     "data": {
      "text/plain": [
       "2097"
      ]
     },
     "execution_count": 148,
     "metadata": {},
     "output_type": "execute_result"
    }
   ],
   "source": [
    "numericalErrFinder(.9,3000)"
   ]
  },
  {
   "cell_type": "code",
   "execution_count": 149,
   "metadata": {},
   "outputs": [
    {
     "data": {
      "text/plain": [
       "3175"
      ]
     },
     "execution_count": 149,
     "metadata": {},
     "output_type": "execute_result"
    }
   ],
   "source": [
    "numericalErrFinder(.95,5000)"
   ]
  },
  {
   "cell_type": "code",
   "execution_count": 150,
   "metadata": {},
   "outputs": [
    {
     "data": {
      "text/plain": [
       "4808"
      ]
     },
     "execution_count": 150,
     "metadata": {},
     "output_type": "execute_result"
    }
   ],
   "source": [
    "numericalErrFinder(1,9000)"
   ]
  },
  {
   "cell_type": "code",
   "execution_count": 151,
   "metadata": {},
   "outputs": [
    {
     "data": {
      "text/plain": [
       "0.7525823329325463"
      ]
     },
     "execution_count": 151,
     "metadata": {},
     "output_type": "execute_result"
    }
   ],
   "source": [
    "errorModel(617)"
   ]
  },
  {
   "cell_type": "code",
   "execution_count": 152,
   "metadata": {},
   "outputs": [
    {
     "data": {
      "text/plain": [
       "0.7257911822576842"
      ]
     },
     "execution_count": 152,
     "metadata": {},
     "output_type": "execute_result"
    }
   ],
   "source": [
    "errorModel(494)"
   ]
  },
  {
   "cell_type": "code",
   "execution_count": 153,
   "metadata": {},
   "outputs": [
    {
     "name": "stdout",
     "output_type": "stream",
     "text": [
      "nTr -- mse -- accuracy -- acc std dev -- acc std err\n",
      "[[ 31.    426.781   0.386   0.042   0.001]\n",
      " [ 62.    360.883   0.466   0.035   0.001]\n",
      " [ 93.    329.085   0.52    0.031   0.001]\n",
      " [123.    305.885   0.561   0.028   0.001]\n",
      " [154.    292.077   0.591   0.026   0.001]\n",
      " [185.    280.144   0.616   0.025   0.001]\n",
      " [216.    271.706   0.634   0.024   0.001]\n",
      " [247.    265.47    0.652   0.024   0.001]\n",
      " [278.    260.119   0.664   0.024   0.001]\n",
      " [308.    256.331   0.675   0.024   0.001]\n",
      " [339.    249.721   0.685   0.026   0.001]\n",
      " [370.    248.028   0.694   0.026   0.001]\n",
      " [401.    244.605   0.702   0.028   0.001]\n",
      " [432.    241.45    0.71    0.031   0.001]\n",
      " [463.    237.479   0.718   0.033   0.001]\n",
      " [494.    237.586   0.721   0.039   0.001]\n",
      " [524.    235.56    0.724   0.044   0.001]\n",
      " [555.    236.784   0.73    0.055   0.002]\n",
      " [586.    232.354   0.734   0.075   0.002]]\n"
     ]
    }
   ],
   "source": [
    "print(\"nTr -- mse -- accuracy -- acc std dev -- acc std err\")\n",
    "print(incrementalRF)"
   ]
  },
  {
   "cell_type": "code",
   "execution_count": 154,
   "metadata": {},
   "outputs": [
    {
     "name": "stdout",
     "output_type": "stream",
     "text": [
      "standard error-based bootstrap\n",
      "mean - var - stddev - std err\n",
      "[[-51.904   0.      0.001   0.   ]\n",
      " [555.747   0.      0.003   0.001]]\n",
      "standard deviation-based bootstrap\n",
      "mean - var - stddev - std err\n",
      "[[-51.904   0.      0.018   0.004]\n",
      " [555.746   0.01    0.1     0.024]]\n"
     ]
    }
   ],
   "source": [
    "# estimate error on the curve fitting for the mean relative error by bootstrapping the data\n",
    "\n",
    "# set the number of sample runs\n",
    "n_iter = 1000\n",
    "\n",
    "# create placeholders for the mean, variance, and standard deviation at each data point for each iteration\n",
    "error_calc1 = np.zeros((n_iter,2))  # error calculations using the variance as the limits for selecting data\n",
    "error_calc2 = np.zeros((n_iter,2))  # error calcs using the standard deviation\n",
    "\n",
    "\n",
    "for j in range(n_iter):\n",
    "    # create a placeholder for the new generated dataset\n",
    "    coef_err = np.zeros((incrementalRF.shape[0],3))  \n",
    "    for i in range(incrementalRF.shape[0]):\n",
    "        # copy the x data point\n",
    "        coef_err[i][0] = incrementalRF[i][0]\n",
    "        # draw a random point within the standard error\n",
    "        coef_err[i][1] = random.randint(-100,100)/100*incrementalRF[i][4]+incrementalRF[i][1]\n",
    "        # draw a random point within the standard deviation\n",
    "        coef_err[i][2] = random.randint(-100,100)/100*incrementalRF[i][3]+incrementalRF[i][1]\n",
    "\n",
    "    # create a robust least squares model based on standard error dataset\n",
    "    res_robust_bs1 = least_squares(fun, abNought, loss='soft_l1', f_scale=0.1, args=(coef_err[:,0],coef_err[:,1]))\n",
    "    # create a robust least squares model based on standard deviation dataset\n",
    "    res_robust_bs2 = least_squares(fun, abNought, loss='soft_l1', f_scale=0.1, args=(coef_err[:,0],coef_err[:,2]))\n",
    "\n",
    "    # capture the calculated model coefficients\n",
    "    for i in range(2):\n",
    "        error_calc1[j][i]=res_robust_bs1.x[i]\n",
    "        error_calc2[j][i]=res_robust_bs2.x[i]\n",
    "        \n",
    "#    print(error_calc1)\n",
    "#    print(error_calc2)\n",
    "\n",
    "# hold stats on error spread\n",
    "final_err1 = np.zeros((2,4))\n",
    "final_err2 = np.zeros((2,4))\n",
    "\n",
    "\n",
    "for i in range(2):\n",
    "    # calculate mean, variance, standard deviation, and standard error\n",
    "    final_err1[i][0]=np.mean(error_calc1[:,i])\n",
    "    final_err1[i][1]=statistics.variance(error_calc1[:,i])\n",
    "    final_err1[i][2]=np.std(error_calc1[:,i])\n",
    "    final_err1[i][3]=np.std(error_calc1[:,i])/(np.sqrt(incrementalRF.shape[0]-1))\n",
    "\n",
    "    final_err2[i][0]=np.mean(error_calc2[:,i])\n",
    "    final_err2[i][1]=statistics.variance(error_calc2[:,i])\n",
    "    final_err2[i][2]=np.std(error_calc2[:,i])\n",
    "    final_err2[i][3]=np.std(error_calc2[:,i])/(np.sqrt(incrementalRF.shape[0]-1))\n",
    "    \n",
    "    # smooth any of the data points that are extreme outliers from fitting errors in the std dev set\n",
    "#    xTx100 = np.asarray([k for k in error_calc2[:,i] if (abs(k) < 10)])\n",
    "#    final_err2[i][0]=np.mean(xTx100)\n",
    "#    final_err2[i][1]=statistics.variance(xTx100)\n",
    "#    final_err2[i][2]=np.std(xTx100)\n",
    "#    final_err2[i][3]=np.std(xTx100)/(np.sqrt(len(xTx100)))\n",
    "\n",
    "print(\"standard error-based bootstrap\")\n",
    "print(\"mean - var - stddev - std err\")\n",
    "print(final_err1)\n",
    "print(\"standard deviation-based bootstrap\")\n",
    "print(\"mean - var - stddev - std err\")\n",
    "print(final_err2)"
   ]
  },
  {
   "cell_type": "code",
   "execution_count": 155,
   "metadata": {},
   "outputs": [
    {
     "name": "stdout",
     "output_type": "stream",
     "text": [
      "0.00433\n",
      "0.023601\n",
      "0.004\n",
      "0.02\n"
     ]
    }
   ],
   "source": [
    "##### print the std err error \n",
    "A_txt2 = round(final_err2[0][3],6)\n",
    "D_txt2 = round(final_err2[1][3],6)\n",
    "\n",
    "print(A_txt2)\n",
    "print(D_txt2)\n",
    "\n",
    "# print the std err error rounded to the correct sig fig \n",
    "A_txt2 = str(round(final_err2[0][3],3))\n",
    "D_txt2 = str(round(final_err2[1][3],2))\n",
    "#D_txt2 = str(\"{0:.1e}\".format(round(final_err1[3][3],2)))\n",
    "\n",
    "print(A_txt2)\n",
    "print(D_txt2)\n"
   ]
  },
  {
   "cell_type": "code",
   "execution_count": 156,
   "metadata": {},
   "outputs": [
    {
     "data": {
      "text/plain": [
       "0.12049983410241223"
      ]
     },
     "execution_count": 156,
     "metadata": {},
     "output_type": "execute_result"
    }
   ],
   "source": [
    "res_robust.x[0]"
   ]
  },
  {
   "cell_type": "code",
   "execution_count": 157,
   "metadata": {},
   "outputs": [
    {
     "data": {
      "text/plain": [
       "-0.02161331857778017"
      ]
     },
     "execution_count": 157,
     "metadata": {},
     "output_type": "execute_result"
    }
   ],
   "source": [
    "res_robust.x[1]"
   ]
  },
  {
   "cell_type": "code",
   "execution_count": 158,
   "metadata": {},
   "outputs": [
    {
     "name": "stdout",
     "output_type": "stream",
     "text": [
      "y = 0.12(ln(x)) + -0.02\n"
     ]
    }
   ],
   "source": [
    "# print the coefficients at the correct sig fig based on error\n",
    "A_coef = str(round(res_robust.x[0],3))\n",
    "D_coef = str(round(res_robust.x[1],2))\n",
    "\n",
    "MSEr = \"y = \"+ A_coef + \"(ln(x)) + \" + D_coef\n",
    "print(MSEr)\n",
    "\n",
    "A_txt = \"A = \" + A_coef \n",
    "D_txt = \"D = \" + D_coef"
   ]
  },
  {
   "cell_type": "code",
   "execution_count": 159,
   "metadata": {},
   "outputs": [],
   "source": [
    "A_test1 = \"A = \"+str(round(res_robust.x[0],3)*100)\n",
    "AE_test1 = str(round(final_err2[0][3]*100,1))+\"\" \n",
    "AE_test2 = \"\"\n",
    "\n",
    "D_test1 = \"D = \"+str(round(res_robust.x[1],3)*100)\n",
    "DE_test1 = str(round(final_err2[1][3],2)*100)+\"\" \n",
    "DE_test2 = \"\"\n"
   ]
  },
  {
   "cell_type": "code",
   "execution_count": 160,
   "metadata": {},
   "outputs": [
    {
     "data": {
      "text/plain": [
       "0.4"
      ]
     },
     "execution_count": 160,
     "metadata": {},
     "output_type": "execute_result"
    }
   ],
   "source": [
    "round(final_err2[0][3]*100,1)"
   ]
  },
  {
   "cell_type": "code",
   "execution_count": 161,
   "metadata": {},
   "outputs": [
    {
     "data": {
      "image/png": "[encoded data removed]",
      "text/plain": [
       "<Figure size 900x432 with 1 Axes>"
      ]
     },
     "metadata": {},
     "output_type": "display_data"
    }
   ],
   "source": [
    " # plot results\n",
    "fig, ax = plt.subplots(nrows=1, ncols=1, figsize=(12.5, 6))\n",
    "ax.set_facecolor('xkcd:white')\n",
    "#fig.patch.set_facecolor('xkcd:light gray')\n",
    "# using std error for the error bars\n",
    "#plt.errorbar(incrementalRF[:,0],incrementalRF[:,2], yerr=incrementalRF[:,4], fmt='o',capsize=3, capthick=1)\n",
    "# using standard deviation for the error bars\n",
    "plt.plot(xlinD1, ylinDrls, label='robust least squares fit', color=\"gray\")\n",
    "plt.errorbar(incrementalRF[:,0],incrementalRF[:,2], yerr=incrementalRF[:,3], fmt='o',capsize=3, color='green', ecolor='green', capthick=1)\n",
    "plt.scatter(incrementalRF[:,0],incrementalRF[:,2], label='data', marker=\"x\", color=\"black\")\n",
    "plt.xlabel('Number of Data Points in training set (n)', fontsize=font2)\n",
    "plt.ylabel('Accuracy', fontsize=font2)\n",
    "ax.set_title('Random forest model accuracy as sample size increases', fontsize=font1, pad=25)\n",
    "plt.ylim(.3,.9)\n",
    "plt.xlim(0,650)\n",
    "#plt.legend(loc=\"upper right\")\n",
    "\n",
    "txt_strtY = max(incrementalRF[:,2])+.075\n",
    "txt_strtX = min(incrementalRF[:,0])\n",
    "\n",
    "#plt.text(min(D_err[:,0]+2), max(D_err[:,1]), MSEr, {'fontsize': font2})\n",
    "plt.text(txt_strtX, txt_strtY, \"ACC = A(ln(n)) + D\", {'fontsize': font2})\n",
    "plt.text(txt_strtX, txt_strtY-.035, A_test1, {'fontsize': font2})\n",
    "plt.text(txt_strtX+75, txt_strtY-.035, (r'$\\pm$'), {'fontsize': font2})\n",
    "plt.text(txt_strtX+95, txt_strtY-.035, AE_test1, {'fontsize': font2})\n",
    "plt.text(txt_strtX+145, txt_strtY-.025, AE_test2, {'fontsize': font3})\n",
    "\n",
    "plt.text(txt_strtX+1, txt_strtY-.07, D_test1, {'fontsize': font2})\n",
    "plt.text(txt_strtX+67, txt_strtY-.07, (r'$\\pm$'), {'fontsize': font2})\n",
    "plt.text(txt_strtX+87, txt_strtY-.07, DE_test1, {'fontsize': font2})\n",
    "plt.text(txt_strtX+137, txt_strtY-.06, DE_test2, {'fontsize': font3})\n",
    "\n",
    "\n",
    "plt.text(txt_strtX+1, txt_strtY-.105, (r'$R^2$'), {'fontsize': font2})\n",
    "plt.text(txt_strtX+35, txt_strtY-.105, DNAr3, {'fontsize': font2})\n",
    "\n",
    "\n",
    "ax.yaxis.set_major_formatter(PercentFormatter(xmax=1))\n",
    "fig.savefig(\"Fig5c-RF model Rarification.png\")\n",
    "fig.savefig(\"Fig5c-RF model Rarification.svg\")"
   ]
  },
  {
   "cell_type": "code",
   "execution_count": 35,
   "metadata": {},
   "outputs": [
    {
     "data": {
      "text/plain": [
       "'2.0'"
      ]
     },
     "execution_count": 35,
     "metadata": {},
     "output_type": "execute_result"
    }
   ],
   "source": [
    "DE_test1"
   ]
  },
  {
   "cell_type": "code",
   "execution_count": 9,
   "metadata": {},
   "outputs": [
    {
     "name": "stdout",
     "output_type": "stream",
     "text": [
      "loop  0 complete\n",
      "loop  1 complete\n",
      "loop  2 complete\n",
      "loop  3 complete\n",
      "loop  4 complete\n",
      "loop  5 complete\n",
      "loop  6 complete\n",
      "loop  7 complete\n",
      "loop  8 complete\n",
      "loop  9 complete\n",
      "loop  10 complete\n",
      "loop  11 complete\n",
      "loop  12 complete\n",
      "loop  13 complete\n",
      "loop  14 complete\n",
      "loop  15 complete\n",
      "loop  16 complete\n",
      "loop  17 complete\n",
      "loop  18 complete\n",
      "loop  19 complete\n",
      "loop  20 complete\n",
      "loop  21 complete\n",
      "loop  22 complete\n",
      "loop  23 complete\n",
      "loop  24 complete\n",
      "loop  25 complete\n",
      "loop  26 complete\n",
      "loop  27 complete\n",
      "loop  28 complete\n",
      "loop  29 complete\n",
      "loop  30 complete\n",
      "loop  31 complete\n",
      "loop  32 complete\n",
      "loop  33 complete\n",
      "loop  34 complete\n",
      "loop  35 complete\n",
      "loop  36 complete\n",
      "loop  37 complete\n",
      "loop  38 complete\n",
      "loop  39 complete\n",
      "loop  40 complete\n",
      "loop  41 complete\n",
      "loop  42 complete\n",
      "loop  43 complete\n",
      "loop  44 complete\n",
      "loop  45 complete\n",
      "loop  46 complete\n",
      "loop  47 complete\n",
      "loop  48 complete\n",
      "loop  49 complete\n",
      "loop  50 complete\n",
      "loop  51 complete\n",
      "loop  52 complete\n",
      "loop  53 complete\n",
      "loop  54 complete\n",
      "loop  55 complete\n",
      "loop  56 complete\n",
      "loop  57 complete\n",
      "loop  58 complete\n",
      "loop  59 complete\n",
      "loop  60 complete\n",
      "loop  61 complete\n",
      "loop  62 complete\n",
      "loop  63 complete\n",
      "loop  64 complete\n",
      "loop  65 complete\n",
      "loop  66 complete\n",
      "loop  67 complete\n",
      "loop  68 complete\n",
      "loop  69 complete\n",
      "loop  70 complete\n",
      "loop  71 complete\n",
      "loop  72 complete\n",
      "loop  73 complete\n",
      "loop  74 complete\n",
      "loop  75 complete\n",
      "loop  76 complete\n",
      "loop  77 complete\n",
      "loop  78 complete\n",
      "loop  79 complete\n",
      "loop  80 complete\n",
      "loop  81 complete\n",
      "loop  82 complete\n",
      "loop  83 complete\n",
      "loop  84 complete\n",
      "loop  85 complete\n",
      "loop  86 complete\n",
      "loop  87 complete\n",
      "loop  88 complete\n",
      "loop  89 complete\n",
      "loop  90 complete\n",
      "loop  91 complete\n",
      "loop  92 complete\n",
      "loop  93 complete\n",
      "loop  94 complete\n",
      "loop  95 complete\n",
      "loop  96 complete\n",
      "loop  97 complete\n",
      "loop  98 complete\n",
      "loop  99 complete\n",
      "[[0.00806452 0.05119215 0.03506311 ... 0.00806452 0.03506311 0.00806452]\n",
      " [0.00806452 0.05119215 0.03506311 ... 0.00806452 0.03506311 0.00806452]\n",
      " [0.00806452 0.05119215 0.03506311 ... 0.00806452 0.03506311 0.00806452]\n",
      " ...\n",
      " [0.00806452 0.05119215 0.03506311 ... 0.00806452 0.03506311 0.00806452]\n",
      " [0.00806452 0.05119215 0.03506311 ... 0.00806452 0.03506311 0.00806452]\n",
      " [0.00806452 0.05119215 0.03506311 ... 0.00806452 0.03506311 0.00806452]]\n",
      "[0.00806452 0.05119215 0.03506311 0.03506311 0.00806452 0.00806452\n",
      " 0.03506311 0.00806452 0.00806452 0.00806452 0.07819074 0.07819074\n",
      " 0.00806452 0.03506311 0.03506311 0.00806452 0.00806452 0.00806452\n",
      " 0.03506311 0.00806452 0.03506311 0.00806452]\n"
     ]
    }
   ],
   "source": [
    "# Run Drop Out Feature Importance Analysis\n",
    "\n",
    "# rfBest_acc=accuracy_score(expected, predicted)\n",
    "nperm = x_train.shape[1]\n",
    "n_iter = 100\n",
    "dropout_acc = np.zeros((n_iter, nperm))\n",
    "\n",
    "for j in range(n_iter):\n",
    "    for i in range(nperm):\n",
    "        # copy x_train without one column\n",
    "        x_train2 = np.delete(x_train, i, 1)\n",
    "        x_test2 = np.delete(x_test, i, 1)\n",
    "\n",
    "        # train and fit the random forest\n",
    "        rfBest_clf.fit(x_train2,y_train)\n",
    "        expected2 = y_test\n",
    "        predicted2 = rfBest_clf.predict(x_test2)\n",
    "\n",
    "        # compare accuracy to baseline\n",
    "        dropout_acc[j,i] = np.abs(accuracy_score(expected2, predicted2)-rfBest_acc)/rfBest_acc\n",
    "        #print(\"feat \", i, \"complete\")\n",
    "    print(\"loop \", j, \"complete\")\n",
    "\n",
    "print(dropout_acc)\n",
    "\n",
    "dropout_acc_mean = []\n",
    "for i in range(nperm):\n",
    "    dropout_acc_mean.append(np.mean(dropout_acc[:,i]))\n",
    "dropout_acc_mean = np.asarray(dropout_acc_mean)\n",
    "\n",
    "print(dropout_acc_mean)"
   ]
  },
  {
   "cell_type": "code",
   "execution_count": 10,
   "metadata": {},
   "outputs": [],
   "source": [
    "std2 = []\n",
    "for i in range(perm_acc.shape[1]):\n",
    "    std2.append(np.std(perm_acc[:,i]))\n",
    "\n",
    "std2 = np.asarray(std2)"
   ]
  },
  {
   "cell_type": "code",
   "execution_count": 11,
   "metadata": {},
   "outputs": [
    {
     "data": {
      "text/plain": [
       "array([11,  9, 18,  6, 10, 13,  7, 16,  2, 20,  4,  0,  5,  3, 17, 14,  1,\n",
       "       19,  8, 12, 15], dtype=int64)"
      ]
     },
     "execution_count": 11,
     "metadata": {},
     "output_type": "execute_result"
    }
   ],
   "source": [
    "indices2"
   ]
  },
  {
   "cell_type": "code",
   "execution_count": 12,
   "metadata": {},
   "outputs": [
    {
     "ename": "ValueError",
     "evalue": "shape mismatch: objects cannot be broadcast to a single shape",
     "output_type": "error",
     "traceback": [
      "\u001b[1;31m---------------------------------------------------------------------------\u001b[0m",
      "\u001b[1;31mValueError\u001b[0m                                Traceback (most recent call last)",
      "\u001b[1;32m<ipython-input-12-48197fda9899>\u001b[0m in \u001b[0;36m<module>\u001b[1;34m\u001b[0m\n\u001b[0;32m      9\u001b[0m \u001b[0mplt\u001b[0m\u001b[1;33m.\u001b[0m\u001b[0mylabel\u001b[0m\u001b[1;33m(\u001b[0m\u001b[1;34m'Effect on Accuracy (-%)'\u001b[0m\u001b[1;33m,\u001b[0m \u001b[0mfontsize\u001b[0m\u001b[1;33m=\u001b[0m\u001b[0mfont2\u001b[0m\u001b[1;33m)\u001b[0m\u001b[1;33m\u001b[0m\u001b[1;33m\u001b[0m\u001b[0m\n\u001b[0;32m     10\u001b[0m \u001b[0max\u001b[0m\u001b[1;33m.\u001b[0m\u001b[0mset_title\u001b[0m\u001b[1;33m(\u001b[0m\u001b[1;34m'Drop Out Feature importance'\u001b[0m\u001b[1;33m,\u001b[0m \u001b[0mfontsize\u001b[0m\u001b[1;33m=\u001b[0m\u001b[0mfont1\u001b[0m\u001b[1;33m,\u001b[0m \u001b[0mpad\u001b[0m\u001b[1;33m=\u001b[0m\u001b[1;36m25\u001b[0m\u001b[1;33m)\u001b[0m\u001b[1;33m\u001b[0m\u001b[1;33m\u001b[0m\u001b[0m\n\u001b[1;32m---> 11\u001b[1;33m \u001b[0mplt\u001b[0m\u001b[1;33m.\u001b[0m\u001b[0mbar\u001b[0m\u001b[1;33m(\u001b[0m\u001b[0mrange\u001b[0m\u001b[1;33m(\u001b[0m\u001b[0mnperm\u001b[0m\u001b[1;33m)\u001b[0m\u001b[1;33m,\u001b[0m \u001b[0mperm_acc_mean\u001b[0m\u001b[1;33m[\u001b[0m\u001b[0mindices2\u001b[0m\u001b[1;33m]\u001b[0m\u001b[1;33m,\u001b[0m \u001b[0mwidth\u001b[0m\u001b[1;33m,\u001b[0m \u001b[0myerr\u001b[0m\u001b[1;33m=\u001b[0m\u001b[0mstd2\u001b[0m\u001b[1;33m[\u001b[0m\u001b[0mindices2\u001b[0m\u001b[1;33m]\u001b[0m\u001b[1;33m,\u001b[0m \u001b[0mcolor\u001b[0m\u001b[1;33m=\u001b[0m\u001b[1;34m'green'\u001b[0m\u001b[1;33m,\u001b[0m \u001b[0malpha\u001b[0m\u001b[1;33m=\u001b[0m\u001b[1;36m.7\u001b[0m\u001b[1;33m)\u001b[0m\u001b[1;33m\u001b[0m\u001b[1;33m\u001b[0m\u001b[0m\n\u001b[0m\u001b[0;32m     12\u001b[0m \u001b[0mplt\u001b[0m\u001b[1;33m.\u001b[0m\u001b[0mxticks\u001b[0m\u001b[1;33m(\u001b[0m\u001b[0mrange\u001b[0m\u001b[1;33m(\u001b[0m\u001b[0mnperm\u001b[0m\u001b[1;33m)\u001b[0m\u001b[1;33m,\u001b[0m \u001b[0maa\u001b[0m\u001b[1;33m[\u001b[0m\u001b[0mindices2\u001b[0m\u001b[1;33m]\u001b[0m\u001b[1;33m)\u001b[0m\u001b[1;33m\u001b[0m\u001b[1;33m\u001b[0m\u001b[0m\n\u001b[0;32m     13\u001b[0m \u001b[0mplt\u001b[0m\u001b[1;33m.\u001b[0m\u001b[0mxlim\u001b[0m\u001b[1;33m(\u001b[0m\u001b[1;33m[\u001b[0m\u001b[1;33m-\u001b[0m\u001b[1;36m1\u001b[0m\u001b[1;33m,\u001b[0m \u001b[0mx_train2\u001b[0m\u001b[1;33m.\u001b[0m\u001b[0mshape\u001b[0m\u001b[1;33m[\u001b[0m\u001b[1;36m1\u001b[0m\u001b[1;33m]\u001b[0m\u001b[1;33m]\u001b[0m\u001b[1;33m)\u001b[0m\u001b[1;33m\u001b[0m\u001b[1;33m\u001b[0m\u001b[0m\n",
      "\u001b[1;32m~\\anaconda3\\lib\\site-packages\\matplotlib\\pyplot.py\u001b[0m in \u001b[0;36mbar\u001b[1;34m(x, height, width, bottom, align, data, **kwargs)\u001b[0m\n\u001b[0;32m   2485\u001b[0m         \u001b[0mx\u001b[0m\u001b[1;33m,\u001b[0m \u001b[0mheight\u001b[0m\u001b[1;33m,\u001b[0m \u001b[0mwidth\u001b[0m\u001b[1;33m=\u001b[0m\u001b[1;36m0.8\u001b[0m\u001b[1;33m,\u001b[0m \u001b[0mbottom\u001b[0m\u001b[1;33m=\u001b[0m\u001b[1;32mNone\u001b[0m\u001b[1;33m,\u001b[0m \u001b[1;33m*\u001b[0m\u001b[1;33m,\u001b[0m \u001b[0malign\u001b[0m\u001b[1;33m=\u001b[0m\u001b[1;34m'center'\u001b[0m\u001b[1;33m,\u001b[0m\u001b[1;33m\u001b[0m\u001b[1;33m\u001b[0m\u001b[0m\n\u001b[0;32m   2486\u001b[0m         data=None, **kwargs):\n\u001b[1;32m-> 2487\u001b[1;33m     return gca().bar(\n\u001b[0m\u001b[0;32m   2488\u001b[0m         \u001b[0mx\u001b[0m\u001b[1;33m,\u001b[0m \u001b[0mheight\u001b[0m\u001b[1;33m,\u001b[0m \u001b[0mwidth\u001b[0m\u001b[1;33m=\u001b[0m\u001b[0mwidth\u001b[0m\u001b[1;33m,\u001b[0m \u001b[0mbottom\u001b[0m\u001b[1;33m=\u001b[0m\u001b[0mbottom\u001b[0m\u001b[1;33m,\u001b[0m \u001b[0malign\u001b[0m\u001b[1;33m=\u001b[0m\u001b[0malign\u001b[0m\u001b[1;33m,\u001b[0m\u001b[1;33m\u001b[0m\u001b[1;33m\u001b[0m\u001b[0m\n\u001b[0;32m   2489\u001b[0m         **({\"data\": data} if data is not None else {}), **kwargs)\n",
      "\u001b[1;32m~\\anaconda3\\lib\\site-packages\\matplotlib\\__init__.py\u001b[0m in \u001b[0;36minner\u001b[1;34m(ax, data, *args, **kwargs)\u001b[0m\n\u001b[0;32m   1436\u001b[0m     \u001b[1;32mdef\u001b[0m \u001b[0minner\u001b[0m\u001b[1;33m(\u001b[0m\u001b[0max\u001b[0m\u001b[1;33m,\u001b[0m \u001b[1;33m*\u001b[0m\u001b[0margs\u001b[0m\u001b[1;33m,\u001b[0m \u001b[0mdata\u001b[0m\u001b[1;33m=\u001b[0m\u001b[1;32mNone\u001b[0m\u001b[1;33m,\u001b[0m \u001b[1;33m**\u001b[0m\u001b[0mkwargs\u001b[0m\u001b[1;33m)\u001b[0m\u001b[1;33m:\u001b[0m\u001b[1;33m\u001b[0m\u001b[1;33m\u001b[0m\u001b[0m\n\u001b[0;32m   1437\u001b[0m         \u001b[1;32mif\u001b[0m \u001b[0mdata\u001b[0m \u001b[1;32mis\u001b[0m \u001b[1;32mNone\u001b[0m\u001b[1;33m:\u001b[0m\u001b[1;33m\u001b[0m\u001b[1;33m\u001b[0m\u001b[0m\n\u001b[1;32m-> 1438\u001b[1;33m             \u001b[1;32mreturn\u001b[0m \u001b[0mfunc\u001b[0m\u001b[1;33m(\u001b[0m\u001b[0max\u001b[0m\u001b[1;33m,\u001b[0m \u001b[1;33m*\u001b[0m\u001b[0mmap\u001b[0m\u001b[1;33m(\u001b[0m\u001b[0msanitize_sequence\u001b[0m\u001b[1;33m,\u001b[0m \u001b[0margs\u001b[0m\u001b[1;33m)\u001b[0m\u001b[1;33m,\u001b[0m \u001b[1;33m**\u001b[0m\u001b[0mkwargs\u001b[0m\u001b[1;33m)\u001b[0m\u001b[1;33m\u001b[0m\u001b[1;33m\u001b[0m\u001b[0m\n\u001b[0m\u001b[0;32m   1439\u001b[0m \u001b[1;33m\u001b[0m\u001b[0m\n\u001b[0;32m   1440\u001b[0m         \u001b[0mbound\u001b[0m \u001b[1;33m=\u001b[0m \u001b[0mnew_sig\u001b[0m\u001b[1;33m.\u001b[0m\u001b[0mbind\u001b[0m\u001b[1;33m(\u001b[0m\u001b[0max\u001b[0m\u001b[1;33m,\u001b[0m \u001b[1;33m*\u001b[0m\u001b[0margs\u001b[0m\u001b[1;33m,\u001b[0m \u001b[1;33m**\u001b[0m\u001b[0mkwargs\u001b[0m\u001b[1;33m)\u001b[0m\u001b[1;33m\u001b[0m\u001b[1;33m\u001b[0m\u001b[0m\n",
      "\u001b[1;32m~\\anaconda3\\lib\\site-packages\\matplotlib\\axes\\_axes.py\u001b[0m in \u001b[0;36mbar\u001b[1;34m(self, x, height, width, bottom, align, **kwargs)\u001b[0m\n\u001b[0;32m   2428\u001b[0m                 \u001b[0myerr\u001b[0m \u001b[1;33m=\u001b[0m \u001b[0mself\u001b[0m\u001b[1;33m.\u001b[0m\u001b[0m_convert_dx\u001b[0m\u001b[1;33m(\u001b[0m\u001b[0myerr\u001b[0m\u001b[1;33m,\u001b[0m \u001b[0my0\u001b[0m\u001b[1;33m,\u001b[0m \u001b[0my\u001b[0m\u001b[1;33m,\u001b[0m \u001b[0mself\u001b[0m\u001b[1;33m.\u001b[0m\u001b[0mconvert_yunits\u001b[0m\u001b[1;33m)\u001b[0m\u001b[1;33m\u001b[0m\u001b[1;33m\u001b[0m\u001b[0m\n\u001b[0;32m   2429\u001b[0m \u001b[1;33m\u001b[0m\u001b[0m\n\u001b[1;32m-> 2430\u001b[1;33m         x, height, width, y, linewidth = np.broadcast_arrays(\n\u001b[0m\u001b[0;32m   2431\u001b[0m             \u001b[1;31m# Make args iterable too.\u001b[0m\u001b[1;33m\u001b[0m\u001b[1;33m\u001b[0m\u001b[1;33m\u001b[0m\u001b[0m\n\u001b[0;32m   2432\u001b[0m             np.atleast_1d(x), height, width, y, linewidth)\n",
      "\u001b[1;32m<__array_function__ internals>\u001b[0m in \u001b[0;36mbroadcast_arrays\u001b[1;34m(*args, **kwargs)\u001b[0m\n",
      "\u001b[1;32m~\\anaconda3\\lib\\site-packages\\numpy\\lib\\stride_tricks.py\u001b[0m in \u001b[0;36mbroadcast_arrays\u001b[1;34m(subok, *args)\u001b[0m\n\u001b[0;32m    256\u001b[0m     \u001b[0margs\u001b[0m \u001b[1;33m=\u001b[0m \u001b[1;33m[\u001b[0m\u001b[0mnp\u001b[0m\u001b[1;33m.\u001b[0m\u001b[0marray\u001b[0m\u001b[1;33m(\u001b[0m\u001b[0m_m\u001b[0m\u001b[1;33m,\u001b[0m \u001b[0mcopy\u001b[0m\u001b[1;33m=\u001b[0m\u001b[1;32mFalse\u001b[0m\u001b[1;33m,\u001b[0m \u001b[0msubok\u001b[0m\u001b[1;33m=\u001b[0m\u001b[0msubok\u001b[0m\u001b[1;33m)\u001b[0m \u001b[1;32mfor\u001b[0m \u001b[0m_m\u001b[0m \u001b[1;32min\u001b[0m \u001b[0margs\u001b[0m\u001b[1;33m]\u001b[0m\u001b[1;33m\u001b[0m\u001b[1;33m\u001b[0m\u001b[0m\n\u001b[0;32m    257\u001b[0m \u001b[1;33m\u001b[0m\u001b[0m\n\u001b[1;32m--> 258\u001b[1;33m     \u001b[0mshape\u001b[0m \u001b[1;33m=\u001b[0m \u001b[0m_broadcast_shape\u001b[0m\u001b[1;33m(\u001b[0m\u001b[1;33m*\u001b[0m\u001b[0margs\u001b[0m\u001b[1;33m)\u001b[0m\u001b[1;33m\u001b[0m\u001b[1;33m\u001b[0m\u001b[0m\n\u001b[0m\u001b[0;32m    259\u001b[0m \u001b[1;33m\u001b[0m\u001b[0m\n\u001b[0;32m    260\u001b[0m     \u001b[1;32mif\u001b[0m \u001b[0mall\u001b[0m\u001b[1;33m(\u001b[0m\u001b[0marray\u001b[0m\u001b[1;33m.\u001b[0m\u001b[0mshape\u001b[0m \u001b[1;33m==\u001b[0m \u001b[0mshape\u001b[0m \u001b[1;32mfor\u001b[0m \u001b[0marray\u001b[0m \u001b[1;32min\u001b[0m \u001b[0margs\u001b[0m\u001b[1;33m)\u001b[0m\u001b[1;33m:\u001b[0m\u001b[1;33m\u001b[0m\u001b[1;33m\u001b[0m\u001b[0m\n",
      "\u001b[1;32m~\\anaconda3\\lib\\site-packages\\numpy\\lib\\stride_tricks.py\u001b[0m in \u001b[0;36m_broadcast_shape\u001b[1;34m(*args)\u001b[0m\n\u001b[0;32m    187\u001b[0m     \u001b[1;31m# use the old-iterator because np.nditer does not handle size 0 arrays\u001b[0m\u001b[1;33m\u001b[0m\u001b[1;33m\u001b[0m\u001b[1;33m\u001b[0m\u001b[0m\n\u001b[0;32m    188\u001b[0m     \u001b[1;31m# consistently\u001b[0m\u001b[1;33m\u001b[0m\u001b[1;33m\u001b[0m\u001b[1;33m\u001b[0m\u001b[0m\n\u001b[1;32m--> 189\u001b[1;33m     \u001b[0mb\u001b[0m \u001b[1;33m=\u001b[0m \u001b[0mnp\u001b[0m\u001b[1;33m.\u001b[0m\u001b[0mbroadcast\u001b[0m\u001b[1;33m(\u001b[0m\u001b[1;33m*\u001b[0m\u001b[0margs\u001b[0m\u001b[1;33m[\u001b[0m\u001b[1;33m:\u001b[0m\u001b[1;36m32\u001b[0m\u001b[1;33m]\u001b[0m\u001b[1;33m)\u001b[0m\u001b[1;33m\u001b[0m\u001b[1;33m\u001b[0m\u001b[0m\n\u001b[0m\u001b[0;32m    190\u001b[0m     \u001b[1;31m# unfortunately, it cannot handle 32 or more arguments directly\u001b[0m\u001b[1;33m\u001b[0m\u001b[1;33m\u001b[0m\u001b[1;33m\u001b[0m\u001b[0m\n\u001b[0;32m    191\u001b[0m     \u001b[1;32mfor\u001b[0m \u001b[0mpos\u001b[0m \u001b[1;32min\u001b[0m \u001b[0mrange\u001b[0m\u001b[1;33m(\u001b[0m\u001b[1;36m32\u001b[0m\u001b[1;33m,\u001b[0m \u001b[0mlen\u001b[0m\u001b[1;33m(\u001b[0m\u001b[0margs\u001b[0m\u001b[1;33m)\u001b[0m\u001b[1;33m,\u001b[0m \u001b[1;36m31\u001b[0m\u001b[1;33m)\u001b[0m\u001b[1;33m:\u001b[0m\u001b[1;33m\u001b[0m\u001b[1;33m\u001b[0m\u001b[0m\n",
      "\u001b[1;31mValueError\u001b[0m: shape mismatch: objects cannot be broadcast to a single shape"
     ]
    },
    {
     "data": {
      "image/png": "[encoded data removed]",
      "text/plain": [
       "<Figure size 900x432 with 1 Axes>"
      ]
     },
     "metadata": {
      "needs_background": "light"
     },
     "output_type": "display_data"
    }
   ],
   "source": [
    "indices2 = perm_acc_mean.argsort()[::-1][:nperm]\n",
    "# Plot the feature importances of the forest\n",
    "\n",
    "from matplotlib.ticker import PercentFormatter\n",
    "\n",
    "fig, ax = plt.subplots(nrows=1, ncols=1, figsize=(12.5, 6))\n",
    "ax.set_facecolor('xkcd:white')\n",
    "plt.xlabel('Features', fontsize=font2)\n",
    "plt.ylabel('Effect on Accuracy (-%)', fontsize=font2)\n",
    "ax.set_title('Drop Out Feature importance', fontsize=font1, pad=25)\n",
    "plt.bar(range(nperm), perm_acc_mean[indices2], width, yerr=std2[indices2], color='green', alpha=.7)\n",
    "plt.xticks(range(nperm), aa[indices2])\n",
    "plt.xlim([-1, x_train2.shape[1]])\n",
    "ax.yaxis.set_major_formatter(PercentFormatter(xmax=1))\n",
    "plt.show()\n",
    "\n",
    "fig.savefig(\"Fig5b-RF dropout feature importance.png\")\n",
    "fig.savefig(\"Fig5b-RF dropout feature importance.svg\")"
   ]
  },
  {
   "cell_type": "code",
   "execution_count": 84,
   "metadata": {},
   "outputs": [
    {
     "name": "stdout",
     "output_type": "stream",
     "text": [
      "loop  0\n",
      "loop  10\n",
      "loop  20\n",
      "loop  30\n",
      "loop  40\n",
      "loop  50\n",
      "loop  60\n",
      "loop  70\n",
      "loop  80\n",
      "loop  90\n",
      "[669, 1338, 2007, 2676, 3345, 4014, 4683, 5352, 6021, 6690, 7359, 8028, 8697, 9366, 10035, 669, 1338, 2007, 2676, 3345, 4014, 4683, 5352, 6021, 6690, 7359, 8028, 8697, 9366, 10035, 669, 1338, 2007, 2676, 3345, 4014, 4683, 5352, 6021, 6690, 7359, 8028, 8697, 9366, 10035, 669, 1338, 2007, 2676, 3345, 4014, 4683, 5352, 6021, 6690, 7359, 8028, 8697, 9366, 10035, 669, 1338, 2007, 2676, 3345, 4014, 4683, 5352, 6021, 6690, 7359, 8028, 8697, 9366, 10035, 669, 1338, 2007, 2676, 3345, 4014, 4683, 5352, 6021, 6690, 7359, 8028, 8697, 9366, 10035, 669, 1338, 2007, 2676, 3345, 4014, 4683, 5352, 6021, 6690, 7359, 8028, 8697, 9366, 10035, 669, 1338, 2007, 2676, 3345, 4014, 4683, 5352, 6021, 6690, 7359, 8028, 8697, 9366, 10035, 669, 1338, 2007, 2676, 3345, 4014, 4683, 5352, 6021, 6690, 7359, 8028, 8697, 9366, 10035, 669, 1338, 2007, 2676, 3345, 4014, 4683, 5352, 6021, 6690, 7359, 8028, 8697, 9366, 10035, 669, 1338, 2007, 2676, 3345, 4014, 4683, 5352, 6021, 6690, 7359, 8028, 8697, 9366, 10035, 669, 1338, 2007, 2676, 3345, 4014, 4683, 5352, 6021, 6690, 7359, 8028, 8697, 9366, 10035, 669, 1338, 2007, 2676, 3345, 4014, 4683, 5352, 6021, 6690, 7359, 8028, 8697, 9366, 10035, 669, 1338, 2007, 2676, 3345, 4014, 4683, 5352, 6021, 6690, 7359, 8028, 8697, 9366, 10035, 669, 1338, 2007, 2676, 3345, 4014, 4683, 5352, 6021, 6690, 7359, 8028, 8697, 9366, 10035, 669, 1338, 2007, 2676, 3345, 4014, 4683, 5352, 6021, 6690, 7359, 8028, 8697, 9366, 10035, 669, 1338, 2007, 2676, 3345, 4014, 4683, 5352, 6021, 6690, 7359, 8028, 8697, 9366, 10035, 669, 1338, 2007, 2676, 3345, 4014, 4683, 5352, 6021, 6690, 7359, 8028, 8697, 9366, 10035, 669, 1338, 2007, 2676, 3345, 4014, 4683, 5352, 6021, 6690, 7359, 8028, 8697, 9366, 10035, 669, 1338, 2007, 2676, 3345, 4014, 4683, 5352, 6021, 6690, 7359, 8028, 8697, 9366, 10035, 669, 1338, 2007, 2676, 3345, 4014, 4683, 5352, 6021, 6690, 7359, 8028, 8697, 9366, 10035, 669, 1338, 2007, 2676, 3345, 4014, 4683, 5352, 6021, 6690, 7359, 8028, 8697, 9366, 10035, 669, 1338, 2007, 2676, 3345, 4014, 4683, 5352, 6021, 6690, 7359, 8028, 8697, 9366, 10035, 669, 1338, 2007, 2676, 3345, 4014, 4683, 5352, 6021, 6690, 7359, 8028, 8697, 9366, 10035, 669, 1338, 2007, 2676, 3345, 4014, 4683, 5352, 6021, 6690, 7359, 8028, 8697, 9366, 10035, 669, 1338, 2007, 2676, 3345, 4014, 4683, 5352, 6021, 6690, 7359, 8028, 8697, 9366, 10035, 669, 1338, 2007, 2676, 3345, 4014, 4683, 5352, 6021, 6690, 7359, 8028, 8697, 9366, 10035, 669, 1338, 2007, 2676, 3345, 4014, 4683, 5352, 6021, 6690, 7359, 8028, 8697, 9366, 10035, 669, 1338, 2007, 2676, 3345, 4014, 4683, 5352, 6021, 6690, 7359, 8028, 8697, 9366, 10035, 669, 1338, 2007, 2676, 3345, 4014, 4683, 5352, 6021, 6690, 7359, 8028, 8697, 9366, 10035, 669, 1338, 2007, 2676, 3345, 4014, 4683, 5352, 6021, 6690, 7359, 8028, 8697, 9366, 10035, 669, 1338, 2007, 2676, 3345, 4014, 4683, 5352, 6021, 6690, 7359, 8028, 8697, 9366, 10035, 669, 1338, 2007, 2676, 3345, 4014, 4683, 5352, 6021, 6690, 7359, 8028, 8697, 9366, 10035, 669, 1338, 2007, 2676, 3345, 4014, 4683, 5352, 6021, 6690, 7359, 8028, 8697, 9366, 10035, 669, 1338, 2007, 2676, 3345, 4014, 4683, 5352, 6021, 6690, 7359, 8028, 8697, 9366, 10035, 669, 1338, 2007, 2676, 3345, 4014, 4683, 5352, 6021, 6690, 7359, 8028, 8697, 9366, 10035, 669, 1338, 2007, 2676, 3345, 4014, 4683, 5352, 6021, 6690, 7359, 8028, 8697, 9366, 10035, 669, 1338, 2007, 2676, 3345, 4014, 4683, 5352, 6021, 6690, 7359, 8028, 8697, 9366, 10035, 669, 1338, 2007, 2676, 3345, 4014, 4683, 5352, 6021, 6690, 7359, 8028, 8697, 9366, 10035, 669, 1338, 2007, 2676, 3345, 4014, 4683, 5352, 6021, 6690, 7359, 8028, 8697, 9366, 10035, 669, 1338, 2007, 2676, 3345, 4014, 4683, 5352, 6021, 6690, 7359, 8028, 8697, 9366, 10035, 669, 1338, 2007, 2676, 3345, 4014, 4683, 5352, 6021, 6690, 7359, 8028, 8697, 9366, 10035, 669, 1338, 2007, 2676, 3345, 4014, 4683, 5352, 6021, 6690, 7359, 8028, 8697, 9366, 10035, 669, 1338, 2007, 2676, 3345, 4014, 4683, 5352, 6021, 6690, 7359, 8028, 8697, 9366, 10035, 669, 1338, 2007, 2676, 3345, 4014, 4683, 5352, 6021, 6690, 7359, 8028, 8697, 9366, 10035, 669, 1338, 2007, 2676, 3345, 4014, 4683, 5352, 6021, 6690, 7359, 8028, 8697, 9366, 10035, 669, 1338, 2007, 2676, 3345, 4014, 4683, 5352, 6021, 6690, 7359, 8028, 8697, 9366, 10035, 669, 1338, 2007, 2676, 3345, 4014, 4683, 5352, 6021, 6690, 7359, 8028, 8697, 9366, 10035, 669, 1338, 2007, 2676, 3345, 4014, 4683, 5352, 6021, 6690, 7359, 8028, 8697, 9366, 10035, 669, 1338, 2007, 2676, 3345, 4014, 4683, 5352, 6021, 6690, 7359, 8028, 8697, 9366, 10035, 669, 1338, 2007, 2676, 3345, 4014, 4683, 5352, 6021, 6690, 7359, 8028, 8697, 9366, 10035, 669, 1338, 2007, 2676, 3345, 4014, 4683, 5352, 6021, 6690, 7359, 8028, 8697, 9366, 10035, 669, 1338, 2007, 2676, 3345, 4014, 4683, 5352, 6021, 6690, 7359, 8028, 8697, 9366, 10035, 669, 1338, 2007, 2676, 3345, 4014, 4683, 5352, 6021, 6690, 7359, 8028, 8697, 9366, 10035, 669, 1338, 2007, 2676, 3345, 4014, 4683, 5352, 6021, 6690, 7359, 8028, 8697, 9366, 10035, 669, 1338, 2007, 2676, 3345, 4014, 4683, 5352, 6021, 6690, 7359, 8028, 8697, 9366, 10035, 669, 1338, 2007, 2676, 3345, 4014, 4683, 5352, 6021, 6690, 7359, 8028, 8697, 9366, 10035, 669, 1338, 2007, 2676, 3345, 4014, 4683, 5352, 6021, 6690, 7359, 8028, 8697, 9366, 10035, 669, 1338, 2007, 2676, 3345, 4014, 4683, 5352, 6021, 6690, 7359, 8028, 8697, 9366, 10035, 669, 1338, 2007, 2676, 3345, 4014, 4683, 5352, 6021, 6690, 7359, 8028, 8697, 9366, 10035, 669, 1338, 2007, 2676, 3345, 4014, 4683, 5352, 6021, 6690, 7359, 8028, 8697, 9366, 10035, 669, 1338, 2007, 2676, 3345, 4014, 4683, 5352, 6021, 6690, 7359, 8028, 8697, 9366, 10035, 669, 1338, 2007, 2676, 3345, 4014, 4683, 5352, 6021, 6690, 7359, 8028, 8697, 9366, 10035, 669, 1338, 2007, 2676, 3345, 4014, 4683, 5352, 6021, 6690, 7359, 8028, 8697, 9366, 10035, 669, 1338, 2007, 2676, 3345, 4014, 4683, 5352, 6021, 6690, 7359, 8028, 8697, 9366, 10035, 669, 1338, 2007, 2676, 3345, 4014, 4683, 5352, 6021, 6690, 7359, 8028, 8697, 9366, 10035, 669, 1338, 2007, 2676, 3345, 4014, 4683, 5352, 6021, 6690, 7359, 8028, 8697, 9366, 10035, 669, 1338, 2007, 2676, 3345, 4014, 4683, 5352, 6021, 6690, 7359, 8028, 8697, 9366, 10035, 669, 1338, 2007, 2676, 3345, 4014, 4683, 5352, 6021, 6690, 7359, 8028, 8697, 9366, 10035, 669, 1338, 2007, 2676, 3345, 4014, 4683, 5352, 6021, 6690, 7359, 8028, 8697, 9366, 10035, 669, 1338, 2007, 2676, 3345, 4014, 4683, 5352, 6021, 6690, 7359, 8028, 8697, 9366, 10035, 669, 1338, 2007, 2676, 3345, 4014, 4683, 5352, 6021, 6690, 7359, 8028, 8697, 9366, 10035, 669, 1338, 2007, 2676, 3345, 4014, 4683, 5352, 6021, 6690, 7359, 8028, 8697, 9366, 10035, 669, 1338, 2007, 2676, 3345, 4014, 4683, 5352, 6021, 6690, 7359, 8028, 8697, 9366, 10035, 669, 1338, 2007, 2676, 3345, 4014, 4683, 5352, 6021, 6690, 7359, 8028, 8697, 9366, 10035, 669, 1338, 2007, 2676, 3345, 4014, 4683, 5352, 6021, 6690, 7359, 8028, 8697, 9366, 10035, 669, 1338, 2007, 2676, 3345, 4014, 4683, 5352, 6021, 6690, 7359, 8028, 8697, 9366, 10035, 669, 1338, 2007, 2676, 3345, 4014, 4683, 5352, 6021, 6690, 7359, 8028, 8697, 9366, 10035, 669, 1338, 2007, 2676, 3345, 4014, 4683, 5352, 6021, 6690, 7359, 8028, 8697, 9366, 10035, 669, 1338, 2007, 2676, 3345, 4014, 4683, 5352, 6021, 6690, 7359, 8028, 8697, 9366, 10035, 669, 1338, 2007, 2676, 3345, 4014, 4683, 5352, 6021, 6690, 7359, 8028, 8697, 9366, 10035, 669, 1338, 2007, 2676, 3345, 4014, 4683, 5352, 6021, 6690, 7359, 8028, 8697, 9366, 10035, 669, 1338, 2007, 2676, 3345, 4014, 4683, 5352, 6021, 6690, 7359, 8028, 8697, 9366, 10035, 669, 1338, 2007, 2676, 3345, 4014, 4683, 5352, 6021, 6690, 7359, 8028, 8697, 9366, 10035, 669, 1338, 2007, 2676, 3345, 4014, 4683, 5352, 6021, 6690, 7359, 8028, 8697, 9366, 10035, 669, 1338, 2007, 2676, 3345, 4014, 4683, 5352, 6021, 6690, 7359, 8028, 8697, 9366, 10035, 669, 1338, 2007, 2676, 3345, 4014, 4683, 5352, 6021, 6690, 7359, 8028, 8697, 9366, 10035, 669, 1338, 2007, 2676, 3345, 4014, 4683, 5352, 6021, 6690, 7359, 8028, 8697, 9366, 10035, 669, 1338, 2007, 2676, 3345, 4014, 4683, 5352, 6021, 6690, 7359, 8028, 8697, 9366, 10035, 669, 1338, 2007, 2676, 3345, 4014, 4683, 5352, 6021, 6690, 7359, 8028, 8697, 9366, 10035, 669, 1338, 2007, 2676, 3345, 4014, 4683, 5352, 6021, 6690, 7359, 8028, 8697, 9366, 10035, 669, 1338, 2007, 2676, 3345, 4014, 4683, 5352, 6021, 6690, 7359, 8028, 8697, 9366, 10035, 669, 1338, 2007, 2676, 3345, 4014, 4683, 5352, 6021, 6690, 7359, 8028, 8697, 9366, 10035, 669, 1338, 2007, 2676, 3345, 4014, 4683, 5352, 6021, 6690, 7359, 8028, 8697, 9366, 10035, 669, 1338, 2007, 2676, 3345, 4014, 4683, 5352, 6021, 6690, 7359, 8028, 8697, 9366, 10035, 669, 1338, 2007, 2676, 3345, 4014, 4683, 5352, 6021, 6690, 7359, 8028, 8697, 9366, 10035, 669, 1338, 2007, 2676, 3345, 4014, 4683, 5352, 6021, 6690, 7359, 8028, 8697, 9366, 10035, 669, 1338, 2007, 2676, 3345, 4014, 4683, 5352, 6021, 6690, 7359, 8028, 8697, 9366, 10035, 669, 1338, 2007, 2676, 3345, 4014, 4683, 5352, 6021, 6690, 7359, 8028, 8697, 9366, 10035, 669, 1338, 2007, 2676, 3345, 4014, 4683, 5352, 6021, 6690, 7359, 8028, 8697, 9366, 10035]\n",
      "[3.760639699999956, 5.582057999999961, 8.34963179999977, 14.106979800000772, 12.545590300000185, 12.372556500000428, 15.281282099998862, 16.005456299999423, 16.62781989999894, 18.352760200001285, 19.09907860000021, 19.055328999998892, 19.930785900000046, 20.46615920000113, 21.588927000000695, 3.8699147999996057, 5.3486917999998695, 6.261178299999301, 10.944400999998834, 12.009123300000283, 12.46362279999994, 14.390467200000785, 16.033975999998802, 16.675834300000133, 17.874499400000786, 18.942689499999688, 19.535346700000446, 19.993035499999678, 20.5281073999995, 21.560314300000755, 3.9090799000005063, 5.330249799999365, 6.481225400000767, 10.966175800000201, 11.73659250000128, 12.242103299999144, 13.960406900001544, 16.04164149999997, 16.64513210000041, 17.423901000000114, 18.782543899998927, 20.51394700000128, 20.305326100000457, 21.06398789999912, 22.86819789999936, 3.906697399999757, 5.4067756999993435, 6.417454599999473, 11.051703500001167, 11.776876699999775, 12.309841099999176, 14.071916599999895, 15.996667499999603, 16.769782700001088, 17.467388499999288, 18.581706699998904, 19.190641199998936, 19.850948600000265, 20.74378760000036, 21.344393899998977, 4.026292000000467, 5.3492597000004025, 6.5060106000000815, 10.984815400001025, 11.877381899999818, 12.284179700000095, 14.28734649999933, 15.955571600001349, 16.666495400000713, 17.50044479999997, 18.608178299999054, 19.413384899999073, 19.82426089999899, 20.710734799999045, 21.576010900000256, 4.794308000000456, 5.356185099999493, 6.297684600000139, 10.92384519999905, 11.775794299999689, 12.619107299999087, 14.892501100001027, 15.920212200000606, 16.6429705999999, 17.551500499999747, 18.552071799998885, 19.120909699999174, 19.804793400000563, 20.5228244000009, 21.60429440000007, 3.996527300001617, 5.439969699998983, 6.248177299999952, 11.025235799999791, 11.903239199999007, 12.341981900000974, 14.033604099999138, 15.891396900000473, 16.92376499999955, 17.46644600000036, 18.585519100000965, 19.321193899999344, 19.825801999999385, 20.49558269999943, 21.50372089999837, 3.8753909999995813, 5.313971200001106, 6.407098499999847, 10.978981800000838, 11.90914739999971, 12.246970999998666, 14.056034499999441, 18.764135200000965, 16.670603700000356, 17.50254430000132, 18.700150000000576, 19.252310600000783, 19.919505500000014, 20.81902690000061, 21.3018847000003, 3.918245200000456, 5.289344099999653, 6.325150399999984, 10.977048900000227, 11.619925400000284, 12.464333500000066, 14.084553300001062, 15.934150600000066, 16.53394979999939, 17.42634899999939, 18.63050689999909, 19.2635164000003, 19.873554599998897, 20.936149499999374, 21.29902299999958, 4.005290300001434, 5.33100530000047, 6.364784900000814, 10.829649100000097, 11.794940399999177, 12.32696179999948, 14.133036700000957, 15.87281880000046, 16.865324999998847, 17.69910600000003, 18.937746600000537, 19.389275600000474, 20.986476199999743, 20.97044409999944, 21.547924800001056, 4.472855800000616, 5.335250599999199, 6.254295099999581, 10.974667700000282, 11.702137700000094, 12.354147199999716, 13.977234399999361, 16.09664160000102, 16.612813800000367, 17.423235700000077, 18.53667150000001, 19.189952900000208, 19.77507009999863, 20.577646699999605, 21.456548699999985, 3.889308699999674, 5.465744600000107, 6.268538199999966, 11.122685199999978, 11.743230699999913, 12.435218000000532, 14.110310800000661, 16.030163499999617, 17.29721029999928, 17.361075700000583, 18.55020019999938, 19.237517300000036, 19.941523100000268, 20.514302199999292, 21.374002700000347, 3.8991160999994463, 5.292990500000087, 6.377376999998887, 11.638978699998916, 11.984004100000675, 12.329238500000429, 13.994388700000854, 16.221243899999536, 16.68110660000093, 17.607099500000913, 18.65281479999976, 19.25926690000051, 19.668113699999594, 21.44935339999938, 22.364517400001205, 3.8660021999985474, 5.371362199999567, 6.36335390000022, 11.720820900000035, 11.836093600000822, 12.341902900001514, 13.887810700000045, 15.852393299999676, 16.737114699999438, 17.364664799999446, 18.726353000000017, 19.23518949999925, 19.970433800001047, 20.616218000001027, 21.298373399999036, 4.010867199998756, 5.384070599999177, 6.269041399998969, 10.84963869999956, 11.801982300001328, 12.304268399999273, 14.14783880000141, 15.930790599999455, 16.770100300000195, 18.6398207000002, 18.579313599999296, 19.332001199998558, 20.767228000000614, 20.588200199999847, 21.60524129999976, 3.8981074999992416, 5.362293799998952, 6.2826820999998745, 10.974621200000911, 11.769907400001102, 12.309172799999942, 14.020497799998338, 15.932116100000712, 16.902257600000667, 17.508995300000606, 18.670473199999833, 19.153907099998833, 20.03941710000072, 20.465984200000094, 21.598703899999236, 3.8997532000012143, 5.462636500000372, 6.2178424000012456, 11.08948319999945, 11.804083699998955, 12.34678349999922, 13.979235299999345, 15.957786499999202, 16.618451500000447, 17.429605100000117, 18.67791049999869, 19.176293200000146, 19.69454389999919, 21.627883200000724, 21.35051469999962, 3.8783451999988756, 5.316731200000504, 6.351608099999794, 11.012670699999944, 11.946367200000168, 12.311728900000162, 14.193858999999065, 16.485820399999284, 16.795074300000124, 17.57783279999967, 18.61854839999978, 19.200286499999493, 19.783864099999846, 20.801740599999903, 21.289403000000675, 4.511512299999595, 5.3052975999999035, 6.403216200000315, 10.94181430000026, 11.729021600000124, 12.334424900000158, 13.958218300000226, 16.18198719999964, 16.651436500000273, 17.55496420000054, 18.86331220000102, 19.504139199998463, 19.818680999998833, 20.843326599999273, 21.401251199999024, 3.917683899999247, 5.338447199999791, 6.30199519999951, 10.944458900001337, 11.810407800001485, 12.418655699999363, 14.645632199999454, 16.255426599998827, 16.85020330000043, 18.367892700000084, 18.47959439999977, 19.143688899999688, 19.852829700001166, 20.526222500000586, 21.378236799999286, 3.915457300001435, 5.431994100001248, 6.263780600000246, 11.120302400000583, 11.908032399998774, 12.467801900000268, 14.016807600000902, 15.900144100000034, 16.70222830000057, 17.620279599999776, 19.171708199999557, 20.27548890000071, 20.034593500000483, 20.682729899999686, 21.442915699999503, 3.931125200000679, 5.523907099999633, 6.265198700000838, 10.981069199999183, 11.914348799999061, 12.290924900000391, 14.067197599999417, 16.235020000000077, 16.82710699999916, 17.74319640000067, 19.41554040000119, 19.14890060000107, 19.94333270000061, 23.27438540000003, 22.453325000000405, 3.9906866000001173, 5.532735599999796, 6.366313500000615, 11.241046899998764, 11.946302500000456, 12.667708200000561, 14.104381500001182, 16.262915199999043, 17.119654699999955, 18.186138999999457, 23.385697699999582, 19.407053400000223, 19.895876800001133, 24.93380369999977, 28.496007900001132, 4.509144199999355, 5.426266499998746, 6.260722500001066, 10.928480299999137, 11.802992000000813, 12.313224300000002, 13.971323600000687, 15.868494700000156, 16.65461200000027, 17.473498199999085, 18.479909699999553, 19.125334199999998, 20.021575000000666, 20.779559399999926, 21.62329160000081, 3.905697700000019, 5.290882000001147, 6.215174200000547, 10.944625300000553, 12.655935800001316, 12.213859400000729, 13.90433049999956, 15.920293400000446, 16.48979589999908, 17.339380299999902, 18.61060990000078, 19.03908550000051, 19.589439299999867, 20.67788870000004, 21.353101599999718, 4.0236765000008745, 5.299292599998807, 6.37763890000133, 10.790709299999435, 11.724334999998973, 12.614807800000563, 14.096500400000878, 16.115863900000477, 16.70519349999995, 17.595563400000174, 18.580634300000384, 19.34043770000062, 19.662826899999345, 20.65758260000075, 21.195303099999364, 3.8983522999988054, 5.446506899999804, 6.226496000001134, 11.015019300000858, 11.785758299998633, 12.552513700000418, 15.521534200001042, 15.927824899999905, 16.53869449999911, 17.605620299998918, 18.74685379999937, 19.44834179999816, 19.68985750000138, 20.463035000000673, 21.23515640000187, 3.9020405000010214, 5.44326430000001, 6.796265299999504, 11.111074099997495, 12.33300859999872, 13.438564300002326, 14.402356899998267, 16.94522589999906, 16.734054300002754, 17.299316099997668, 18.411075600000913, 19.08240229999865, 19.854515099999844, 20.356289300001663, 21.863819400001375, 3.9824429000000237, 5.508707900000445, 6.175881600000139, 10.93978319999951, 11.740028899999743, 12.208001599999989, 13.917266299999028, 15.914250500001799, 16.655900300000212, 17.404910400000517, 18.583184600000095, 20.450523300001805, 20.216404599999805, 21.110627800000657, 22.761023600000044, 3.9786697999988974, 5.476139799997327, 6.448451000000205, 11.261741599999368, 12.122781599999144, 12.652249299997493, 14.354590900002222, 16.321117499999673, 17.027454600000056, 17.883084600001894, 19.036152700002276, 19.55290640000021, 20.592899399998714, 21.131798399997933, 21.921380300002056, 4.016026600002078, 5.43361189999996, 6.529422600000544, 11.521590399999695, 12.101756600000954, 12.575942700001178, 14.41369730000224, 16.232448300001124, 16.920583899998746, 17.92683389999729, 19.067623700000695, 19.55533600000126, 20.442127599999367, 20.958729800000583, 22.673099499999807, 3.9832335999999486, 5.601201699999365, 6.407283299999108, 11.212962400000833, 12.051596100001916, 13.169496699996671, 14.327314999998634, 16.24259300000267, 17.10030910000205, 17.88362219999908, 18.89813739999954, 19.78434389999893, 20.291204000001017, 21.033574999997654, 21.987923100001353, 4.027194600002986, 5.5896429999993416, 6.3682431999986875, 11.458396599999105, 12.133885499999451, 12.603645300001517, 14.421111600000586, 16.34385459999976, 17.130839400000696, 17.835584100001142, 19.03498219999892, 19.662161500000366, 20.121939399999974, 21.068991299998743, 21.792602600002283, 3.9653265999986615, 5.587346500000422, 6.4002092000009725, 11.33601169999747, 12.072414499998558, 12.790089400001307, 14.960721399998874, 16.463948399999936, 17.1241071000004, 17.842165999998542, 19.912223499999527, 19.685430300000007, 20.289658699999563, 20.99040690000038, 21.68643250000241, 4.30539409999983, 5.450663499999791, 6.359016200000042, 11.09482669999852, 12.038774000000558, 12.550618299999769, 14.317903200000728, 16.179610699997284, 17.009727900000144, 17.858753000000434, 18.96685830000206, 19.668710199999623, 20.4170449000012, 21.091743699998915, 21.77957790000073, 4.077834300001996, 5.427049999998417, 6.554402500001743, 11.124359500001447, 12.083731100003206, 12.589843900001142, 14.311608399999386, 16.220514399999956, 17.115925900001457, 17.80298749999929, 20.670837099998607, 20.270007499999338, 20.19648740000048, 21.58919700000115, 21.857309000002715, 4.023534500000096, 5.458204499998828, 6.505936599998677, 11.29871490000005, 11.926621700000396, 12.474248599999555, 14.197323600001255, 16.34618859999682, 17.148055999998178, 17.91617629999746, 19.127973000002385, 19.525514200002362, 20.128136999999697, 21.197106300001906, 22.06252139999924, 3.964700199998333, 5.496466899996449, 6.677628900000855, 11.49313230000189, 12.170448299999407, 12.569589599999745, 14.383167399999365, 16.237332600001537, 17.174649299999146, 17.8624181999985, 18.97600980000061, 19.539511499999207, 20.205850700000155, 20.92573480000283, 23.01392919999853, 4.017724699999235, 5.4271413999995275, 6.413670800000546, 11.29300990000047, 12.003750300002139, 13.383024399998249, 14.361952899998869, 17.44771799999944, 19.836463999999978, 25.97025680000297, 25.40903410000101, 20.588036999997712, 20.73116090000258, 22.14063879999958, 21.961229299999104, 4.103823599998577, 5.728146400000696, 7.0416269000015745, 12.266999500003294, 11.9680365000022, 12.616287900000316, 14.496986999998626, 16.464955999999802, 17.057975600000645, 18.17182739999771, 19.06807729999855, 19.6374633000014, 20.432007300001715, 21.077692599999864, 21.969430699999066, 4.0410342999966815, 5.535125200000039, 6.557690999998158, 11.309850199999346, 12.577451599998312, 12.918957999998383, 14.412200300001132, 16.35940169999958, 17.52683590000015, 17.95576660000006, 18.989051099997596, 19.716999500000384, 20.748125499998423, 21.125413699999626, 22.5045910000008, 4.533165100001497, 5.846307600000728, 6.482487099998252, 11.360194499997306, 12.140009399998235, 13.82152529999803, 15.052972200002841, 16.50872420000087, 17.196477000001323, 18.08248900000035, 19.183274499999243, 19.863644199998816, 20.323546800002077, 21.293563399998675, 21.931927599998744, 4.143649699999514, 5.524118100001942, 6.398893900000985, 11.194988600000215, 13.508537099998648, 15.47705649999989, 15.182389300000068, 16.9016675999992, 19.63284980000026, 21.149804399999994, 26.681771700001264, 28.05589719999989, 32.36389059999783, 34.00253390000216, 36.141915100000915, 5.363874399998167, 10.023394799998641, 11.677341299997352, 18.106543499998224, 22.24810559999969, 22.45637120000174, 22.424124199998914, 22.95691589999842, 22.265780100002303, 27.08015819999855, 30.815273699998215, 36.64075340000272, 44.4134389000028, 50.95454649999738, 49.12876829999732, 9.143023299999186, 9.703929499999504, 12.70560370000021, 18.120809399999416, 19.720100500002445, 16.774540599999455, 19.481731399999262, 22.175596199998836, 26.198448400002235, 29.33671989999857, 27.558604300000297, 33.18720910000047, 31.486017700000957, 32.57325270000001, 35.02909119999822, 6.154805400001351, 9.261691800002154, 10.867282999999588, 16.261072299999796, 16.356242800000473, 19.88046039999972, 29.21129800000199, 29.22595039999942, 24.32839679999961, 27.285083400001895, 25.087212800000998, 24.009947500002454, 25.26462309999988, 25.74474249999912, 26.406328400000348, 4.7928135999973165, 6.735721000000922, 7.714447499998641, 13.337332500002958, 14.32414190000054, 14.9200036000002, 17.171359399999346, 19.3973971000014, 20.23591149999993, 21.398304299997108, 22.58939829999872, 23.76637110000229, 24.660178999998607, 23.320299900002283, 26.13835249999829, 4.983378299999458, 7.926746199998888, 9.377263099999254, 13.382016700001259, 14.467522999999346, 15.047974199998862, 17.809860500001378, 19.263178100001824, 20.342337600002793, 21.43217160000131, 22.887956000002305, 23.565466600000946, 24.236174600002414, 25.398393799998303, 26.224490100001276, 4.739577600001212, 6.8238416999993206, 7.716808799999853, 13.403007299999445, 14.280286299999716, 14.910002100001293, 17.119670100000803, 19.25688099999752, 20.179122599998664, 21.18826909999916, 22.737639999999374, 23.632450700002664, 24.187337799998204, 25.39796700000079, 26.251358400000754, 5.544465499999205, 6.746881099999882, 7.774214799999754, 13.191118999999162, 14.216196599998511, 15.9154157999983, 17.192807799998263, 19.30816579999737, 18.51372110000011, 21.04944859999887, 22.94865089999803, 23.582777999999962, 24.566067699997802, 25.595771100001002, 26.4316805999988, 5.046857799999998, 6.798951299999317, 8.05518210000082, 13.515423600001668, 14.434325800000806, 15.036857399998553, 17.035359299999982, 18.1890605999979, 20.06524850000278, 21.255049399998825, 22.68017880000116, 23.290916299996752, 23.4927792999988, 24.414221899998665, 26.934855999999854, 4.670730999998341, 6.2631317999985185, 7.847432300000946, 13.158003100001224, 14.254696999996668, 14.512599799996678, 16.549699799998052, 19.284965700000612, 20.036783399998967, 20.79450110000107, 23.428184699998383, 24.034955700000864, 24.635511400003452, 25.010844299999007, 26.355220800000097, 4.745850200000859, 6.414147600000433, 7.582047100000636, 13.132865600000514, 14.362493900000118, 14.801097900002787, 16.867042099998798, 19.95738210000127, 18.9512644000024, 18.24838969999837, 21.310775900001317, 22.190859000002092, 19.724350699998467, 20.54924530000062, 21.33126439999978, 4.749514300001465, 5.400595899998734, 6.259356300000945, 10.944905099997413, 11.768153699998948, 12.291046199999982, 14.823888599999918, 15.892662299997028, 16.635796499998833, 17.57171709999966, 18.482813599999645, 19.148743800000375, 19.926807399999234, 20.527145899999596, 21.523660099999688, 3.9244136000015715, 5.356181499999366, 6.345497400001477, 10.974296500000492, 11.779998499998328, 12.244410999999673, 14.017672499998298, 15.924195000003238, 16.726160499998514, 17.645211299997754, 18.590435400001297, 21.28214619999926, 23.993065800001204, 28.095577800002502, 26.470508900001732, 4.8632083000011335, 5.543269199999486, 8.3330277999994, 12.799077899999247, 13.923659200001566, 14.02730149999843, 16.578018899999734, 19.237558899996657, 22.15641020000112, 18.81959380000262, 19.8300648000004, 24.038154300000315, 23.594125100000383, 26.652228700000705, 25.760487299998204, 5.2397161000008055, 6.945840100001078, 8.267798199998651, 14.687226800000644, 12.888328299999557, 12.963813099999243, 14.76392549999946, 17.766773100000137, 18.009322599998995, 20.245515200000227, 19.176818900003127, 20.470800099999906, 24.516951800000243, 22.19237609999982, 24.534677399999055, 4.98875919999773, 5.542273099999875, 6.6563527999969665, 12.285179400001653, 14.315719099999114, 14.653516899998067, 16.17781969999851, 18.450627499998518, 18.608741299998655, 19.728770999998233, 21.074000499997055, 24.43172990000312, 23.218101899998146, 24.508828999998514, 23.95737889999873, 4.391871899999387, 6.373822599998675, 7.386618500000623, 15.446654200000921, 15.553394799997477, 17.94770029999927, 18.300137899997935, 21.130988299999444, 21.05569319999995, 27.67941570000039, 27.286376799998834, 27.742727699998795, 26.8534980000004, 26.21853430000192, 37.5780823999994, 6.018026900001132, 6.9700534000003245, 6.525272399998357, 13.049343300001055, 12.102411299998494, 16.21579279999787, 15.141858900002262, 16.813987099998485, 17.112269299999753, 17.678793800001586, 19.33047159999842, 28.06505560000005, 28.662377900000138, 21.892834700000094, 31.369813400000567, 5.747368600001209, 8.193597599998611, 7.354388800002198, 11.780478499997116, 13.16879820000031, 13.948277100000269, 14.83703510000123, 16.803818799999135, 19.48871959999815, 22.57646769999701, 23.721195400001307, 22.1211183000014, 26.911168399998132, 29.696066199998313, 31.315931799999817, 5.36747269999978, 8.275853399998596, 8.302571099997294, 13.125665899999149, 12.401877300002525, 12.882402600000205, 17.217601999996987, 17.170084599998518, 17.209319000001415, 18.76680420000048, 24.10608030000003, 25.5426088000022, 24.73671589999867, 26.42626150000069, 21.75856130000102, 3.934537100001762, 5.510094400000526, 6.309475300000486, 11.620836399997643, 11.806931099999929, 12.21141020000141, 14.27162739999767, 16.017771700000594, 16.861249500001577, 17.367720799997187, 18.521287499999744, 19.20453649999763, 23.188034799997695, 26.06112260000009, 25.71526359999916, 4.685069199997088, 6.637426099998265, 7.6599554999993416, 12.002518700002838, 12.86693970000124, 15.691512099998363, 15.41054780000195, 16.913566600000195, 17.74244869999893, 18.87783710000076, 26.12931490000119, 30.55912090000129, 29.462926000000152, 30.381764500001736, 31.013835000001563, 5.23648619999949, 6.0089048000008916, 7.972524600001634, 15.536133400000836, 14.14601059999768, 14.978702699998394, 17.55186390000017, 17.716885300000285, 24.92807249999896, 24.661314900000434, 23.20242280000093, 21.122144100001606, 21.5030227999996, 22.2392906999994, 29.024336599999515, 4.741301499998372, 6.478100199998153, 8.402978300000541, 13.19947460000185, 16.48572459999923, 17.5883345000002, 22.714132000000973, 21.385827599999175, 24.753366500000993, 25.717423199999757, 25.643091199999617, 27.76313989999835, 25.5986539000005, 27.175096700000722, 23.43691089999993, 4.018714300000283, 5.571559799998795, 6.266640199999529, 11.726817000002484, 13.405395100002352, 13.6482462999993, 14.959639300002891, 17.248995699999796, 17.437887600000977, 18.82844269999987, 25.026293299997633, 26.056763200002024, 22.559691399997973, 20.9624885000012, 22.97078899999906, 4.183253400002286, 5.469697100001213, 6.632005899999058, 11.169837800000096, 12.014619199999288, 16.874078299999383, 14.899844899999152, 16.14348880000034, 17.110887899998488, 18.043484100002388, 18.620991799998592, 19.34032659999866, 19.933364900000015, 20.5641226000007, 21.412180700001045, 3.913957600001595, 5.4410324999989825, 6.229706900001474, 11.208120400002372, 11.837959899999987, 12.320648900000378, 14.026782699998876, 15.897118500000943, 17.02388399999836, 18.201718500000425, 18.69967899999756, 19.154376099999354, 19.722121400001924, 20.682319300001836, 21.366820900002494, 3.873234399998182, 5.436746999999741, 6.262960000000021, 11.01572909999959, 11.750356399999873, 12.329515500001435, 14.26105550000284, 17.05284290000054, 16.69976470000256, 17.513792399997328, 18.639424800003326, 19.156413099997735, 19.886527299997397, 20.50465869999971, 21.303466699999262, 3.8953639999999723, 5.3239216999973, 6.372960499997134, 11.009343199999421, 11.762810000000172, 12.163247299999057, 13.973151500002132, 15.872817499999655, 16.594260199999553, 17.496767100001307, 18.490566300002683, 19.10135629999786, 20.1297865000015, 20.667485600002692, 21.217036499998358, 4.0318967000021075, 5.308852300000581, 6.36514360000001, 10.848448000000644, 11.712932700000238, 12.259465800001635, 14.033683999998175, 15.78665330000149, 16.78201849999823, 17.618195999999443, 18.49324980000165, 21.727637299998605, 19.72260350000215, 20.601635100003477, 21.399414700001216, 3.909177000001364, 5.337727900001482, 6.376686999999947, 10.986253699997178, 11.762819399998989, 12.27635409999857, 14.003181399999448, 15.9055397000011, 16.567345200001, 17.474891100002424, 19.07600309999907, 24.801271899999847, 30.186181700002635, 25.22208110000065, 21.729698299997835, 4.244971899999655, 7.633605499999248, 8.96345250000013, 13.591624699998647, 14.437598500000604, 16.269528099997842, 16.39324889999989, 19.315848899997945, 19.01569759999984, 22.711379500000476, 21.553096700001333, 21.226259499999287, 22.108892100000958, 22.80974199999764, 23.110376000000542, 4.219326900001761, 6.3965814000002865, 7.740657899998041, 12.56453540000075, 17.05629350000163, 13.902486800001498, 17.573581299999205, 19.93663679999736, 20.3720229999999, 20.56844600000113, 24.466122599998926, 23.342313599998306, 23.509332800000266, 26.076482500000566, 25.665836799998942, 4.072148899998865, 7.796639799998957, 7.19316180000169, 12.09536019999723, 13.437643899997056, 13.291452900000877, 15.02955909999946, 16.66630730000179, 18.70251509999798, 21.402391899999202, 23.013413000000583, 22.982410299999174, 22.225151599999663, 25.282827399998496, 22.813054100002773, 5.048785800001497, 5.894268800002465, 6.43244020000202, 11.094368699999904, 13.62129410000125, 14.56989590000012, 21.88897359999828, 16.539225799999258, 17.181754699999146, 18.30287920000046, 18.819708099999843, 19.339001899999857, 20.54706989999977, 22.281923700000334, 23.47453989999849, 4.188568900000973, 5.841231399997923, 7.423890400001255, 11.371273100001417, 12.495308300000033, 12.35379649999959, 14.106451299998298, 15.937642400000186, 17.011800499996752, 17.691113799999584, 18.57853199999954, 19.37315750000198, 19.826807100002043, 21.260870600002818, 21.292289200002415, 4.023798199999874, 5.35781599999973, 6.364130199999636, 12.15904529999898, 11.687686799999938, 12.248299899998528, 14.177140199997666, 16.076744699999836, 16.637508399999206, 17.604329099998722, 19.407480699999724, 19.22279790000175, 19.92427840000164, 20.750566499998968, 21.298402099997475, 4.025254300002416, 5.328196599999501, 6.378109999997832, 10.886309699999401, 11.864649200000713, 12.397534699997777, 14.146383100000094, 16.160762200001045, 16.897842900001706, 17.71336059999885, 18.62606450000021, 19.719961999999214, 20.999304400000256, 20.964903599997342, 22.021260500001517, 4.038858300002175, 5.491405299999315, 6.735576099999889, 11.03900259999864, 12.095090300001175, 12.536599999999453, 14.369620900000882, 15.988606599999912, 17.589786900000036, 17.868568300000334, 18.634242000000086, 19.670828899998014, 19.839380399997026, 20.962343600000167, 22.721707299999252, 4.064961199997924, 5.34302210000169, 6.271029200001067, 10.860082200000761, 11.917073900000105, 12.419697400000587, 14.10785770000075, 15.920438799999829, 16.906780199999048, 17.5921892999977, 18.6199560999994, 19.345843699997204, 19.849273400002858, 20.669988199999352, 21.589849500000128, 3.9551232999983768, 5.437634000001708, 6.390126099999179, 11.041116799999145, 11.83428339999955, 12.289431400000467, 14.015916399999696, 16.073886800000764, 16.631454499998654, 17.549317100001645, 19.038389400000597, 19.240168399999675, 19.897451900000306, 22.090742199998203, 21.406643199999962, 3.904287299999851, 5.441463400002249, 6.6118788000021596, 11.016900099999475, 11.78512899999987, 12.31888170000093, 14.234989299999143, 16.205972499999916, 16.679690400000254, 17.516646899999614, 18.577401099999406, 19.131024800000887, 19.972045399998024, 20.756633600001805, 21.350582200000645, 3.978336099993612, 5.361156899998605, 6.463584600001923, 11.045771899996907, 11.7345639999985, 12.21870299999864, 14.110521099995822, 16.035524600003555, 16.63378229999944, 17.56416679999529, 18.56504479999421, 19.182686100000865, 19.818529699994542, 20.72525670000323, 21.37758020000183, 3.986095699998259, 5.302432199998293, 6.430722399993101, 11.018706899994868, 13.066671600005066, 12.845740400000068, 14.037712600002124, 15.948894099994504, 17.387205900005938, 17.500101199999335, 18.643276199996762, 19.26746510000521, 19.828288599994266, 20.64470949999668, 21.606326699999045, 4.023879400003352, 5.357581900003424, 6.279891199999838, 10.901231700001517, 11.844732500001555, 12.34120719999919, 14.056921800001874, 15.995719300000928, 16.77610690000438, 17.527523500000825, 18.608801599999424, 19.56809290000092, 19.975334100003238, 20.89969949999795, 21.379869399999734, 3.8892345999993267, 5.434413399998448, 6.276798500002769, 11.106570199997805, 12.010536299996602, 12.6272547999979, 14.060392500003218, 15.975106599995343, 16.874387900003057, 17.46085010000388, 19.735138899995945, 19.25375680000434, 19.840956899999583, 20.845756700000493, 21.465250199995353, 3.9154992000039783, 5.5174127999998746, 6.34937880000507, 11.020024400000693, 11.815639000000374, 12.302039200003492, 14.159981900003913, 15.97891580000578, 16.870201600002474, 17.633244800003013, 18.640474300002097, 19.193859599996358, 20.04398829999991, 20.711983499997586, 21.559688699999242, 3.888778900000034, 5.358875500001886, 6.312609900000098, 11.055318800004898, 11.849494300004153, 12.63799629999994, 14.364742300000216, 16.108990900000208, 16.742335800001456, 17.553801200003363, 18.66037579999829, 19.30098149999685, 19.89131659999839, 20.610938500001794, 22.994056299998192, 3.9392719000024954, 5.427414799996768, 6.357399400003487, 11.029881399997976, 11.795035000002827, 12.369513999998162, 13.993142400002398, 15.92628379999951, 17.115620900003705, 17.572830600001907, 18.636811100004707, 19.460131899999396, 19.833489999997255, 20.825612499997078, 21.814086400001543, 4.110665499996685, 5.301946999999927, 6.401646400001482, 11.126890899999125, 12.70135719999962, 12.217992900004901, 14.453087399997457, 17.326609999996435, 16.872783599996183, 17.469214400000055, 18.699926699999196, 19.242416500004765, 19.873402000004717, 20.79916830000002, 21.42720620000182, 4.041725199997018, 5.3270357999936095, 6.452010000000882, 10.895331500003522, 11.722000000001572, 12.336714299999585, 15.113240500002576, 16.14545360000193, 16.773262399998202, 17.605792899994412, 18.82785299999523, 19.229586599998584, 19.84645029999956, 20.922276000004786, 21.248515600003884, 4.033716399993864, 5.299870299997565, 6.5786020000014105, 10.950002099998528, 11.794360200001393, 12.440661299995554, 14.034158199996455, 15.994177900000068, 17.04314119999617, 17.685978400004387, 18.58822070000315, 19.23266270000022, 19.87657620000391, 20.68030020000151, 22.553867199996603, 3.9651298000026145, 5.443421000003582, 6.231961900004535, 10.998661500001617, 11.82585200000176, 12.306815800002369, 14.016159899998456, 16.001587099999597, 16.724893599995994, 17.714256100000057, 18.60093730000517, 20.75827659999777, 19.84742379999807, 20.66621839999425, 21.91260880000482, 3.855414400000882, 5.461112999997567, 6.513744800002314, 11.128801400001976, 11.979425400000764, 12.359543399994436, 14.185780499996326, 16.26024150000012, 16.672353800000565, 17.430208500001754, 18.58733509999729, 19.265233400001307, 20.044242799995118, 20.68591390000074, 21.427390800003195, 3.9393111000026693, 5.338355799998681, 6.480099800006428, 11.894215200001781, 12.954743299997062, 13.002976200004923, 14.801423099997919, 17.273736199997074, 19.04404899999645, 17.958974000001035, 18.89798210000299, 19.98253640000621, 19.940465299994685, 20.660142699998687, 22.64098329999979, 3.9179482000035932, 5.36779750000278, 6.277823999997054, 10.977815099999134, 11.785156800004188, 12.471287600004871, 14.052202799997758, 15.952628599996387, 17.21039149999706, 17.75621780000074, 18.93088020000141, 20.018490800001018, 21.82892059999722, 26.857254900001863, 29.580110999995668, 4.922383099998115, 5.8670306999993045, 8.458558699996502, 16.382649300001503, 18.11140229999728, 14.618522900003882, 15.850869900001271, 16.31465470000694, 18.993545799996355, 17.82074619999912, 18.602187800002866, 19.329395299995667, 19.905052699999942, 20.706862800005183, 21.461791900001117, 3.8685270000059973, 5.301007099995331, 6.3069200000027195, 10.973322999998345, 12.89768929999991, 12.53336329999729, 13.985780299997714, 15.914061800001946, 17.03949790000479, 17.67819479999889, 18.82603240000026, 19.260223500001302, 19.803701699995145, 20.843960199999856, 21.53173620000598]\n",
      "[1.4510361000011471, 1.7421150999998645, 2.6848936999995203, 2.4533002999996825, 2.356277400000181, 2.6654332999987673, 2.673357499999838, 2.748608600000807, 2.8319771999995282, 2.780904700000974, 2.5764149000006, 2.876484399999754, 2.6421556000004784, 2.645515099999102, 2.706753200000094, 1.4249222999987978, 1.7386821000000054, 1.6220552999984648, 2.2613092999999935, 2.6529083999994327, 2.624456100000316, 2.6857128999999986, 2.5431501000002754, 2.642744799999491, 2.6909231999998156, 2.6654642000012245, 2.709494300001097, 2.775358900000356, 2.6764896999993653, 2.861568399999669, 1.4470636999994895, 1.622868099999323, 1.648798700000043, 2.247826900000291, 2.738494200000787, 2.7754631000007066, 2.787194399999862, 2.8069500000001426, 2.879077800000232, 2.693247999999585, 3.1402455999996164, 2.6935472000004665, 2.88132829999995, 2.72060269999929, 2.887485499999457, 1.425667199999225, 1.6462891999999556, 1.643244800001412, 2.2655586000000767, 2.69151630000124, 2.7413412000005337, 2.7810136999996757, 2.5662389999997686, 2.6037058000001707, 2.4647887000010087, 2.700957199998811, 2.6231337999997777, 2.6662210000013147, 2.7189744999996037, 2.782341100000849, 1.435808399999587, 1.6436023000005662, 1.6735848000007536, 2.288194400000066, 2.611959100000604, 2.641854199999216, 2.690750300000218, 2.8958709000016825, 2.8914499999991676, 2.728755699999965, 2.598322999998345, 2.631089200000133, 2.6810559000005014, 2.7929839000007632, 3.453211399999418, 1.5373283000008087, 1.6302310000010038, 1.7764991999993072, 2.2747404999990977, 2.6153684000000794, 2.7805561000004673, 2.648680100001002, 2.546642299999803, 2.6959912000002078, 2.446256100000028, 2.595415400001002, 2.8345010000011825, 2.665357399999266, 2.696569100000488, 2.7977805999998964, 1.4195177000001422, 1.6319678999989264, 1.6677639999998064, 2.2836844000012206, 2.5992119000002276, 2.6573621000006824, 2.680956899999728, 2.7639256000002206, 2.879086000000825, 2.8353418999995483, 2.5442701000010857, 2.6420854999996664, 2.663980100000117, 2.693222500000047, 2.8034977999996045, 1.4324085000007472, 1.641401400000177, 1.6558300999986386, 2.249701400000049, 2.6424420999992435, 2.7523393999999826, 2.717798600000606, 2.5840416999999434, 2.5866874999992433, 2.430238000000827, 2.9209817000009934, 2.660050599999522, 2.774828099998558, 2.6789590000007593, 2.9302872999996907, 1.4028230000003532, 1.6168828000008943, 1.6142285000005359, 2.2783171999999468, 2.7249819000007847, 2.8352242999990267, 2.8001135000013164, 2.771421100000225, 2.8531791000004887, 2.7052638999994087, 2.704460000000836, 2.6399215000001277, 2.7682158000006893, 2.69827499999883, 2.7709680999996635, 1.4402261999985058, 1.6766659999993863, 1.6817766000003758, 2.2451049000010244, 2.592491900000823, 2.668226300000242, 2.660208400000556, 2.563452900001721, 2.633305299999847, 2.990798000000723, 2.60224129999915, 2.673186199999691, 2.6648040000000037, 2.778590500000064, 2.959728499999983, 1.7020176999994874, 1.6344509000009566, 1.7519853000012517, 2.2394234999992477, 2.5760367999992013, 2.659502500000599, 2.6632656999991013, 2.7968691000005492, 3.0533968999989156, 2.6720867000003636, 2.5879379999987577, 2.771239499999865, 2.654801900000166, 2.66862779999974, 2.771187500000451, 1.4152515000005224, 1.6298365999991802, 1.6321204000014404, 2.230805200000759, 2.6740260000005946, 2.658345800000461, 2.6844169000014517, 2.530280599999969, 2.606803200000286, 2.569643200000428, 2.5683368999998493, 2.642559899999469, 2.7116423999996186, 2.746827300001314, 2.8373377000007167, 1.4328837000011845, 1.630671099999745, 1.6498983000001317, 3.0679567999995925, 2.6009205999998812, 2.676017599998886, 2.676095200000418, 3.031663600000684, 2.86039559999881, 2.6858446999995067, 2.558033900000737, 2.6154927000006865, 2.761328800001138, 2.6936638000006496, 2.8535922999999457, 1.4055834000009781, 1.616551699999036, 1.6646166999998968, 2.3825357999994594, 2.6824075000004086, 2.7368258999995305, 2.824515000000247, 2.5260416000000987, 2.5819556999995257, 2.4260199000000284, 2.686746499999572, 2.6403532000003906, 2.699031499998455, 2.6431640999999217, 2.7679416999999376, 1.4211243000008835, 1.6434740999993664, 1.7360728999992716, 2.263616300000649, 2.603574999999182, 2.6056166000016674, 2.6809756999991805, 2.798899100000199, 2.880984899999021, 2.728865900000528, 2.5725266999997984, 2.6410988999996334, 2.6287350000002334, 2.8047784000009415, 2.732658099999753, 1.5281106000002183, 1.612173999999868, 1.6279175999989093, 2.2365803999982745, 2.6284079999986716, 2.642446600000767, 2.6611772000014753, 2.5384978000001865, 2.7056944000014482, 2.4507057999999233, 2.569790199999261, 2.625444100000095, 2.6961375000009866, 2.6679822000005515, 2.7849448999986635, 1.4488765000005515, 1.642103500000303, 1.6540028999988863, 2.234729799998604, 2.6685976999997365, 2.624415099999169, 2.663835999999719, 2.7512387999995553, 2.840613399999711, 2.690089599998828, 2.598132600000099, 2.6395773999993253, 2.757289999999557, 2.6563707000004797, 2.9133810000002995, 1.4351720000013302, 1.6297974000008253, 1.6238947000001644, 2.479034900001352, 2.688074300000153, 2.845093599999018, 2.760962800000925, 2.5914647999998124, 2.6878704999999172, 2.4336987000006047, 2.7262457000015274, 2.6219182000004366, 2.6903152000013506, 2.6396358000001783, 2.7650966000001063, 1.513834699999279, 1.7388186000007408, 1.7025900000007823, 2.333704399999988, 2.629771800000526, 2.666472999999314, 2.752357999999731, 2.881033599998773, 2.8321654999999737, 2.7599179000008007, 2.6963448999995308, 2.6525944999993953, 2.637272699999812, 2.7145269000011467, 2.788747800001147, 1.5659703000001173, 1.6180413000001863, 1.6245256000001973, 2.266758600000685, 2.619274399999995, 3.7436507000002166, 2.6487908999988576, 2.6488585000006424, 2.6344556999993074, 2.4470510999999533, 2.5881563000002643, 2.7167461999997613, 2.6556416000003082, 2.7551588999995147, 2.7222031000001152, 1.4232637000004615, 1.6003552000001946, 1.6097778999992443, 2.258959799999502, 2.591585699999996, 2.69529220000004, 2.636119400000098, 2.7776036000013846, 2.8540876999995817, 2.731541600000128, 2.9938211999997293, 2.779886800000895, 2.7309212000000116, 2.665912999998909, 2.7594733999994787, 1.443298499998491, 1.6182868999985658, 1.6298895999989327, 2.251915900000313, 2.615313899999819, 2.634321400000772, 2.7300622000002477, 2.6835553999990225, 2.6720186000002286, 2.5749282999986463, 2.7931427999992593, 2.6458227000002807, 2.6715976000014052, 3.061192999999548, 2.7741494000001694, 1.5264641000012489, 1.6198966000010842, 1.7183136000003287, 2.393462500000169, 2.6149442000005365, 2.8192636000003404, 2.752688799999305, 2.836800899998707, 3.129898499999399, 3.614675700000589, 2.6086813999991136, 2.6328981000006024, 2.6924478000000818, 3.47853749999922, 3.562228499999037, 1.4293610000004264, 1.6575474000001122, 1.6352579000013066, 2.2349169999997684, 2.637822900000174, 2.6243969999995898, 2.640456200000699, 2.523095000000467, 2.592909699998927, 2.520832899999732, 2.5574094999992667, 2.6329397999998037, 2.6531609000012395, 3.3151584999995976, 2.761901300000318, 1.4246378999996523, 1.7309746999999334, 1.6283525000017107, 2.2449205000011716, 2.590725800000655, 2.627482099998815, 2.672607100001187, 2.7918794000015623, 2.811675999999352, 2.6816193999984534, 2.5793594000006124, 2.66267020000123, 2.6313489000003756, 2.666208099999494, 2.7336494000010134, 1.4378199000002496, 1.6313602999998693, 1.630169099998966, 2.3295050999986415, 2.6151666000005207, 2.659732399999484, 2.7220476000002236, 2.712621599999693, 2.675065800000084, 2.435179000000062, 2.5599452999995265, 2.640014300000985, 2.645593299999746, 2.789725399999952, 2.73744859999897, 1.4225337999996555, 1.6148267999997188, 1.6316310999991401, 2.23082500000055, 2.5848303999991913, 2.6151575000003504, 2.6580146000014793, 2.768157499998779, 2.973137400000269, 2.8801135000012437, 2.561246299999766, 2.7490686000019195, 2.648892599998362, 2.6343003000001772, 2.7522754999990866, 1.4130330000007234, 1.7763949000000139, 1.619256400001177, 2.2803356000003987, 2.690589399997407, 2.7971589000007953, 2.8070882000029087, 2.511219700001675, 2.721711600002891, 2.423790700002428, 2.528038299999025, 2.768716899998253, 2.687214599998697, 2.729846700000053, 2.8187188999982027, 1.4211232000016025, 1.6641526999992493, 1.6428678000011132, 2.2220978000004834, 2.6272571999979846, 2.624870900002861, 2.6659773999999743, 2.7478117999999085, 2.8345481000033033, 2.664859399999841, 2.560816299999715, 2.5990147000011348, 2.8640408999999636, 2.8779314999992494, 2.835722400002851, 1.464454699998896, 1.7685190000011062, 1.771754500001407, 2.350079800002277, 2.6593031999982486, 2.6980523000020185, 2.711897500001214, 2.646234200001345, 2.6652162999998836, 2.6414571999994223, 2.640576500001771, 2.7101422999985516, 2.7010565000018687, 2.720467200000712, 2.842247699998552, 1.4483843999987585, 1.7827876000010292, 1.6820047000001068, 2.4908494999981485, 2.6685275999989244, 2.716494699998293, 2.7297251999989385, 2.854739599999448, 2.919222600001376, 3.1406084000009287, 2.641828699997859, 2.707296000000497, 2.70979730000181, 2.7292498999995587, 3.0368973999975424, 1.4467603999983112, 1.6499492000002647, 1.678523499998846, 2.3083665000012843, 2.6943981000003987, 2.6973670000006678, 2.727774800001498, 2.6379358999984106, 2.698979799999506, 2.500203200001124, 2.640139700000873, 2.969985899999301, 2.75860560000001, 2.735710000000836, 2.8569700000007288, 1.45149489999676, 1.6606410999993386, 1.6669704999985697, 2.305953099999897, 2.664946000000782, 2.7023001999987173, 2.7292549000012514, 2.9467287000006763, 3.0385491000015463, 2.7660125000002154, 2.630890199998248, 2.8476994999982708, 2.7048108000017237, 2.8462035000011383, 2.8132685000018682, 1.458074599999236, 1.65046010000151, 1.6764308999991044, 2.3132766999988235, 2.6746517999999924, 2.7052311999977974, 3.785369200002606, 2.6558989999975893, 2.6662197999976343, 2.5520700000015495, 2.641718099999707, 2.757694600000832, 2.7232857999988482, 2.7442201000012574, 2.812344599999051, 1.4719400000030873, 1.6594000000004598, 1.8000348999994458, 2.306566200000816, 2.6473643999997876, 2.7399277000004076, 2.732273099998565, 2.96619759999885, 2.913249999997788, 2.7565577999994275, 2.6288604000001214, 2.922109700000874, 2.7395084999989194, 2.7176127999991877, 2.8242209999989427, 1.4521750000021711, 1.6600741000002017, 1.6922128000005614, 2.2893404999995255, 2.712300299997878, 2.6828628000002936, 2.7020549999979266, 2.717722199999116, 2.6651978000008967, 2.5183460999978706, 3.227536999998847, 2.7184558999979345, 2.714879800001654, 2.749473100000614, 2.9352815999991435, 1.4556665000018256, 1.6524820999984513, 1.6796179999982996, 2.3139870000013616, 2.78962269999829, 2.8136112000029243, 2.8518846000006306, 2.8460679999989225, 2.9188396999998076, 2.749753399999463, 2.6301020000028075, 2.707818299997598, 2.891615799999272, 2.7458265999994182, 2.9730178999998316, 1.4539325000005192, 1.7485014000012598, 1.6836400000029244, 2.3309388999987277, 2.679985200000374, 2.7099846999990405, 2.727090499996848, 2.5996062999984133, 2.6912889999985055, 2.503356100001838, 2.647613500001171, 2.6955888000011328, 2.8320746999997937, 2.7348053000023356, 2.8118562000017846, 1.453379099999438, 1.734969799999817, 1.6679833000016515, 2.2978101000007882, 2.65079329999935, 2.7184951000017463, 2.738410300000396, 3.142021499999828, 3.311791299998731, 4.321627599998465, 2.8702728999996907, 2.8616417000012007, 2.7944414999983564, 2.7428369999979623, 2.8186640000021725, 1.4601679999977932, 1.7006833999985247, 3.770701499997813, 2.2962683999976434, 2.824543899998389, 2.819555300000502, 2.8686722999991616, 2.620967599999858, 2.6827002999998513, 2.5214202999995905, 2.648243800002092, 2.729741600000125, 2.8445561999978963, 2.7377809999998135, 2.967844500002684, 1.4656671000011556, 1.6700845000013942, 1.7049045000021579, 2.3137086999995518, 3.5533550000000105, 2.695313200001692, 2.7374847999999474, 2.8705153000009886, 3.019798900000751, 2.897229199999856, 2.633350399999472, 2.7278425999975298, 2.7666883999991114, 2.7425817000003008, 3.0386238999999478, 1.5949010999975144, 1.6608195000007981, 1.6893662000002223, 2.3289552999995067, 2.7157972999993945, 2.8545650000014575, 2.722979599999235, 2.619521500000701, 2.697045699998853, 2.532314000000042, 2.657514499998797, 2.726848799997242, 2.797603099999833, 2.778655099999014, 2.8848561999984668, 1.4902551000013773, 1.6689755999977933, 1.7996302999999898, 2.300261500000488, 3.9354064999970433, 3.012098799998057, 2.7771042000022135, 2.920938799998112, 4.556500000002416, 4.848996900000202, 4.163254099999904, 4.067014099997323, 4.966600500003551, 6.456189900000027, 5.181001999997534, 2.180173199998535, 6.1715332999992825, 3.0447598999999173, 3.4665442000004987, 5.411249900000257, 5.6873053000017535, 4.437625700000353, 3.5651432999984536, 3.700988500000676, 4.357216700002027, 3.7752695999988646, 8.68688850000035, 7.511572600000363, 5.274503800003004, 6.494069999997009, 5.528223999997863, 4.647582000001421, 2.769548799999029, 5.756040500000381, 4.302184500000294, 3.785268299998279, 3.869599900001049, 4.514173800002027, 5.016716900001484, 5.198499499998434, 5.335055700001249, 4.5662760000013805, 3.713614199998119, 3.880139400000189, 5.609397199998057, 2.4021955999996862, 3.9089789999998175, 3.12796100000196, 3.2282648000000336, 4.606031899998925, 4.303989399999409, 6.699629099999584, 4.6154298999972525, 4.509364000001369, 4.460257300001103, 3.3476044999988517, 3.6125608000002103, 3.280197500000213, 3.2891780999998446, 3.3992336000010255, 1.7246951999986777, 2.0472405000000435, 2.189066599999933, 2.990111400002206, 3.246998499998881, 3.3024540999977035, 3.3644576000006055, 3.6307495000000927, 3.564740099998744, 3.5529513000001316, 3.2386154000014358, 3.356474200001685, 3.3683346999969217, 3.3235319999985222, 3.4036785999996937, 1.8258513000000676, 2.2999103000001924, 2.0744195000006584, 2.805011899999954, 3.290201199997682, 3.3520591000014974, 3.7254864999995334, 3.220156599996699, 3.4009503000015684, 3.1369314000003214, 3.435501899999508, 3.357071900001756, 3.242676300000312, 3.2473873999988427, 3.4205976000012015, 1.7256782000004023, 2.015859299997828, 2.045987499997864, 2.8120976999998675, 3.2358765000026324, 3.563190400000167, 3.6202319000003627, 3.489157100000739, 3.569222699999955, 3.614871800000401, 3.24448399999892, 3.4747919000001275, 3.240928299997904, 3.330548900001304, 3.5826207999998587, 1.9182639999999083, 2.0694866000012553, 2.1494091999993543, 2.9493135000011534, 3.226819200001046, 3.306149500000174, 3.355310599999939, 3.371723199998087, 3.281789000000572, 3.1865733999984514, 3.2591245000003255, 3.347542200001044, 3.421733700000914, 3.283888500001922, 3.395087799999601, 1.7471909999985655, 2.0092958999994153, 2.0787110999990546, 2.8005575999995926, 3.3539000999990094, 3.2176790999983496, 2.9557311999997182, 3.433431000001292, 3.488647000001947, 3.3759196999999403, 3.1913719000003766, 3.3218621000014537, 3.3418891000001167, 3.153010500001983, 3.2966742999997223, 1.6813571000020602, 1.9501619000002393, 2.0798582999996142, 2.67977830000018, 3.18401939999967, 3.1283614999993006, 3.1670185000002675, 3.1036924, 2.994445000000269, 3.069333799998276, 3.2850220000000263, 3.3918732999991335, 4.077826100001403, 3.319249000000127, 3.298685199999454, 1.7066292999988946, 1.966884100002062, 1.9727999999995518, 2.7715416999999434, 3.1382049999992887, 3.2130047000027844, 3.178467699999601, 3.3284889999995357, 2.994869199999812, 3.362531599999784, 3.107355699998152, 2.7482563000012306, 2.6507352000007813, 2.667033099998662, 2.9719954000029247, 1.4556016000024101, 1.6519755000008445, 1.6500938999997743, 2.2640508000004047, 2.5963903999981994, 2.680322799998976, 2.6028912000001583, 2.5706472999991092, 2.609384700001101, 2.503998000000138, 2.554141600001458, 2.6353814999965834, 2.6492025000006834, 2.6914282999969146, 2.741000599999097, 1.436645799996768, 1.8007695999986026, 1.621033499999612, 2.2406480999998166, 2.600062199999229, 2.755239199999778, 2.838387199997669, 2.776070100000652, 2.8627745999983745, 2.7131485999998404, 2.549751299997297, 3.1008077999977104, 3.3504122000013012, 3.276426700002048, 3.5660558000017772, 1.6635329999990063, 1.6671628000003693, 2.4521034999997937, 2.6712838999992528, 2.8867293000002974, 2.934711199999583, 2.7995884000010847, 3.060340799998812, 3.083274699998583, 2.6988219000013487, 2.6539153999983682, 4.004770300001837, 2.963591199997609, 5.2258529999999155, 4.086310599999706, 1.7837464999975055, 2.281862399999227, 1.779755399998976, 4.3146157000010135, 2.755903199999011, 2.7256745000013325, 2.765930400000798, 3.7664378999979817, 3.2798890999983996, 3.103943399997661, 2.7641986000016914, 2.7521295999977156, 3.411146499998722, 3.053371199999674, 3.8629299000022, 1.6513401000011072, 2.1432533000006515, 1.6876211000017065, 2.5267679000025964, 3.0785778999998, 3.105506300002162, 3.5177466999994067, 3.7334644999973534, 3.109433599998738, 3.06856229999903, 3.3333104999983334, 3.177607999998145, 2.9074929999987944, 2.9094136000021535, 3.226943999998184, 1.539030100000673, 1.880788599999505, 2.263513999998395, 3.372134199998982, 4.283503799997561, 3.184330600000976, 4.18679919999704, 2.916841599999316, 5.713623400002689, 3.9790874000027543, 5.143572600001789, 4.111066600002232, 4.056317700000363, 4.694060300000274, 5.242282200000773, 2.570267799997964, 1.6342461000022013, 2.4369254000012006, 2.868577600002027, 2.756845299998531, 4.375642599999992, 2.707166000000143, 2.588463699998101, 2.726812599998084, 2.6685887000021467, 3.5811218000017107, 4.028491599998233, 3.7575513000010687, 2.724344899997959, 4.371623700000782, 2.113301400000637, 1.765800400000444, 1.6561705999993137, 2.48477450000064, 3.30442419999963, 3.3627014999983658, 2.7120366000017384, 2.9401058000003104, 3.6005065999997896, 3.477998700000171, 2.9503034000008483, 3.8009783000015887, 3.9316290999995545, 4.360804599997209, 4.852323700000852, 2.053030099999887, 2.4628819999998086, 1.6654816000009305, 2.2933577000003424, 2.666523400002916, 2.7240781000000425, 3.047129999999015, 2.609348099998897, 2.6599210999993375, 2.896636199999193, 4.202398600002198, 3.017776099997718, 3.3622791999987385, 2.843006200000673, 2.7933877000032226, 1.418826799999806, 1.6420911000022897, 1.651936399997794, 2.3686612999990757, 2.6208400999967125, 2.6598582999977225, 2.6533769000016036, 2.9793629000014334, 3.043107699999382, 2.6672054000009666, 2.5655812000004516, 2.731070500001806, 3.983630099999573, 3.097204800000327, 3.681225699998322, 1.589029599999776, 2.181158900002629, 2.5460220999993908, 2.41151340000215, 2.8363631000029272, 2.7891065000003437, 2.940556800000195, 2.6154994999997143, 2.744548399998166, 3.6584321999980602, 3.6607876000016404, 4.326095799999166, 4.428925699998217, 4.1854275000005146, 4.561604099999386, 2.2691666999999143, 2.4769950000008976, 2.115923000001203, 3.4162997999992513, 3.2668735000006563, 2.94720839999718, 3.183124700000917, 3.7599733999995806, 4.861482299998897, 3.3079225000001315, 4.038238100001763, 2.951524600000994, 2.773042400000122, 2.870914000002813, 4.003157299997838, 1.8320908999994572, 2.1892251999997825, 2.293709500001569, 4.392109500000515, 5.161758299997018, 4.709360099997866, 4.951583199999732, 2.6364366999987396, 3.1002238000000943, 3.208306000000448, 4.940231599997787, 2.7041844999985187, 3.980827200000931, 3.0911470999999437, 2.7576832999984617, 1.4827077000009012, 1.6394564999973227, 1.6621607999986736, 2.3423392999975476, 2.897019799998816, 2.9510119000005943, 2.955114799999137, 3.2638990999985253, 2.899811100000079, 3.880861699999514, 4.009592399997928, 3.350776200000837, 2.732559100000799, 2.709892899998522, 3.3058974999985367, 1.60317390000273, 1.6464162999982364, 1.7870431000010285, 2.2742589999979828, 2.772299500000372, 3.9512777000018104, 2.712852299999213, 2.62445519999892, 2.6435347000006004, 2.454565599997295, 2.5741425000014715, 2.6695050000016636, 2.6823930999998993, 2.7855865999990783, 2.7679934999978286, 1.4283651000005193, 1.6329688000005262, 1.9266682000015862, 2.264985300000262, 2.607994400001189, 2.677368099997693, 2.692030499998509, 2.9130340999981854, 3.575968900000589, 2.6812419000016234, 2.5870360000008077, 2.7731773000014073, 2.654632399997354, 2.6529575000022305, 2.7562991000013426, 1.4403645999991568, 1.625720599997294, 1.6319678999971075, 2.2852750000020023, 2.6038590999996813, 2.6500458999980765, 3.013422100000753, 2.5479277999984333, 2.6169613000020036, 2.5936871000012616, 2.605951000001369, 2.648776000001817, 2.7051887000015995, 2.660239199998614, 2.816831500000262, 1.4364581000008911, 1.6891185999993468, 1.646059000002424, 2.2471726999974635, 2.607419200001459, 2.790160000000469, 2.7872004000018933, 2.7804361000016797, 2.8415650999995705, 2.693693400000484, 2.722828300000401, 2.6397394000014174, 2.677956899999117, 2.662935500000458, 2.804914700001973, 1.4319899999973131, 1.6346855999981926, 1.6270747000016854, 2.2560440999986895, 2.6120845999976154, 2.67339560000255, 2.6747795999981463, 2.5608919999976933, 2.599430800000846, 2.4815940000007686, 2.58481049999682, 2.953345599999011, 2.6483467999969434, 2.754211399998894, 2.781152399998973, 1.528786000002583, 1.665739100000792, 1.6638879999991332, 2.219379199999821, 2.665198800001235, 2.6505238999998255, 2.683735599999636, 2.796590099998866, 2.9744806999988214, 2.7212551000011445, 3.337210399997275, 4.8938374999997905, 2.9769200000009732, 2.7457587999997486, 3.0849201000019093, 1.697129500000301, 1.8857709000003524, 2.596792299998924, 2.286994300000515, 3.0347614999991492, 2.893188000001828, 3.17321549999906, 3.2796911999976146, 3.757062299999234, 3.538104999999632, 3.018524699997215, 2.836780199999339, 2.863773499997478, 3.073173199998564, 2.9841445999991265, 2.014108200000919, 1.832285899999988, 1.816126699999586, 2.4426901999977417, 2.9363728999996965, 2.877836699997715, 2.9687926999977208, 3.533536400002049, 3.172304499999882, 3.17443110000022, 3.018901100000221, 3.024705299998459, 4.04938089999996, 3.789962099999684, 3.213955499999429, 1.9573104000010062, 1.977103099998203, 1.8898294999999052, 2.5186862999980804, 3.58045520000087, 2.7450179000006756, 2.7897029999985534, 2.822404300000926, 3.2065363000001526, 2.7129187999998976, 3.923697499998525, 2.892647200002102, 3.2067974000019603, 2.871234900001582, 2.940736600001401, 1.826586999999563, 1.8687506999995094, 1.8772977999979048, 2.4341968999979144, 2.8959178000004613, 4.785373300001083, 3.1163844000002427, 2.873221099998773, 2.9532037999997556, 2.803358000001026, 2.610159299998486, 2.7474256999994395, 2.678202799997962, 2.6900217999973393, 2.8826735000002373, 1.5577362999974866, 1.9488205999987258, 1.8441898999990372, 2.3080332999998063, 3.102790199998708, 2.7600134999993315, 2.800723799999105, 2.5360648000023502, 2.6440051999998104, 2.471246400000382, 2.748004500001116, 2.670683000000281, 2.667551499998808, 2.683905499998218, 2.819238599997334, 1.4258434000003035, 1.6389746999993804, 1.6301773000013782, 2.3645867000013823, 2.6934671999988495, 2.655692899999849, 2.736876699997083, 2.8489991999995254, 2.8927642999988166, 2.7058858000018517, 2.7162373999999545, 2.6446252999994613, 2.6548806999999215, 2.741752900001302, 2.820467199999257, 1.4359701000030327, 1.6267976999988605, 1.7580563000010443, 2.2746617999982846, 2.647469200001069, 2.6372884000011254, 2.651050000000396, 2.5741640999985975, 2.6333483000016713, 2.4545108000020264, 2.6102705000012065, 2.676013899999816, 2.773145700000896, 2.8231852000026265, 2.9561243999996805, 1.5517483999974502, 1.6338018999995256, 1.825476300000446, 2.2550291000006837, 2.661646100001235, 2.7392875000005006, 2.8353476999982377, 2.9258316999985254, 3.101154600000882, 2.72726369999873, 2.606545200000255, 2.7136907999993127, 2.7210527999995975, 2.7172368000028655, 2.8124096999999892, 1.439486899998883, 1.624417099999846, 1.765082199999597, 2.2576506000004883, 2.6154057000021567, 2.6330545999990136, 2.6614158999982465, 2.5553459000002476, 2.6358658999997715, 2.431262499998411, 2.581521399999474, 2.7797423000010895, 2.7210090000007767, 2.802199499998096, 2.825938900001347, 1.4264939999993658, 1.6271927999987383, 1.6249032000014267, 2.2647855000031996, 2.61852910000016, 2.647057300000597, 2.694035599997733, 2.7742913000001863, 2.835394699999597, 2.7210959999974875, 2.592190600000322, 2.672561200000928, 2.688236500001949, 2.695029100003012, 2.7888683000019228, 1.4380956999993941, 1.6324727999999595, 1.802687799998239, 2.252266300001793, 2.5953417000018817, 2.652046799998061, 2.673913700000412, 2.5693370000008144, 2.6181711999997788, 2.5715538000004017, 2.570064600000478, 2.6350989999991725, 2.7727239999985613, 2.6861250000001746, 2.8917402000006405, 1.4362890999982483, 1.628682700000354, 1.6557862999979989, 2.261860999999044, 2.7377371999973548, 2.810626999998931, 2.7969360999995843, 2.795583600003738, 2.872581399999035, 2.6982480000006035, 2.6944831000000704, 2.6496170000027632, 2.670591800000693, 2.6869318000026396, 2.785431399999652, 1.439605899999151, 1.624832499997865, 1.654138599995349, 2.249381599998742, 3.691301200000453, 2.6808938999965903, 2.90807340000174, 2.561259699999937, 2.809026499999163, 2.4636669000028633, 2.711922800001048, 2.6420391999999993, 2.6848571999944397, 2.8298796999952174, 2.7642071999944164, 1.4465407000025152, 1.7133697000026586, 1.7301985000012792, 2.251982500005397, 2.654120500003046, 2.66947419999633, 2.6705624000023818, 2.906086899994989, 2.873793699996895, 2.7194042000046466, 2.7785155000019586, 2.8081080999982078, 2.6608982000034302, 3.025472200002696, 2.7781455000003916, 1.4516512000045623, 1.6004011000040919, 1.6626058999972884, 2.2774785999936284, 2.603218600001128, 2.655627399995865, 2.675114300000132, 2.5449397999982466, 2.734449299998232, 2.4495132000010926, 2.5755821999991895, 2.7530025000014575, 2.8211197999989963, 2.71649929999694, 2.764878799993312, 1.427836800001387, 1.6420437999986461, 1.642665899998974, 2.269372899994778, 2.648605400005181, 2.6472643000015523, 2.668363800003135, 2.7743617000014638, 2.864200099997106, 2.8375345000022207, 2.5936108000023523, 2.7785608999984106, 2.6786169999977574, 2.7079928999955882, 2.811241399998835, 1.4276651999971364, 1.7371908999994048, 1.6368562000061502, 2.2574363999956404, 2.6442443000050844, 3.0917217999958666, 2.691988799997489, 2.553416400005517, 2.6689832000047318, 2.46525180000026, 2.5779289999991306, 2.6637186000007205, 2.7819006999998237, 2.678967299994838, 2.882683100004215, 1.444123600005696, 1.635963200002152, 1.6556295999980648, 2.251014199995552, 2.76179250000132, 2.7740029000051436, 2.830313300000853, 2.7862402999962796, 2.8436131999987992, 2.7159132000015234, 2.671042200003285, 2.6617994000043836, 2.6758771000022534, 2.666447599993262, 3.075190700001258, 1.4320069000023068, 1.6330024999988382, 1.6429596000016318, 2.474275900000066, 2.7563874999977998, 2.763279300001159, 3.525836900000286, 2.579404699994484, 2.6120391999938875, 2.431050500003039, 2.6282085999991978, 2.687112399995385, 2.6852541000043857, 2.666538600002241, 2.7323355999978958, 1.432881399996404, 1.6223543000014615, 1.6477372999943327, 2.4271372000002884, 2.6259090999956243, 2.662704300004407, 2.7148637999998755, 2.865146600001026, 2.8653008000037516, 2.710909500005073, 2.7043207999959122, 2.645993800004362, 2.657422199998109, 2.6487134999988484, 2.77881989999878, 1.4492297999968287, 1.6205218999966746, 1.7499725000016042, 2.2577439000015147, 2.6246793000027537, 2.6825763000015286, 2.722421399994346, 2.557446799997706, 2.7773586999974214, 2.447494599997299, 2.625227399999858, 2.855954099999508, 2.670357499999227, 2.7402887000062037, 3.0039009999964037, 1.4286529000019073, 1.6493316999985836, 1.6463690000018687, 2.234074599997257, 2.6861045000041486, 2.646243900002446, 2.672945600003004, 2.8045195000013337, 2.8480291000014404, 2.723799699997471, 2.5546783000027062, 2.743378399994981, 2.660477899997204, 2.7362652999945567, 2.7585927000036463, 1.4217658000052324, 1.6222216000023764, 1.6415569000018877, 2.3833999000053154, 2.6000617000026978, 2.6285791999980574, 2.666567299995222, 2.5512403000029735, 2.614568299999519, 2.5650195999987773, 2.6022685000061756, 2.6573875000030966, 2.721035700000357, 2.675152900003013, 2.7678701000040746, 1.431314100002055, 1.6077745000002324, 1.686068900002283, 2.2803620000049705, 2.778240300001926, 2.844946400000481, 2.9476006999975652, 3.0185982000039076, 3.0525622999994084, 2.756270500001847, 2.664178600003652, 2.805711100001645, 2.6683880999989924, 2.800227799998538, 3.3868660000007367, 1.5103884999989532, 1.6378144000045722, 1.6715487000037683, 2.2827287999971304, 2.612074399999983, 2.640432000000146, 2.64737569999852, 2.5562396000023, 2.861307700004545, 2.5774948000034783, 2.6329386999932467, 2.7823971999969217, 3.4495660999964457, 2.904058799998893, 2.9755196000041906, 1.9510002000024542, 1.6928647000022465, 3.121279599996342, 4.224400999999489, 5.044536300003529, 3.8845946000001277, 2.7284431000007316, 2.837261300002865, 3.46443420000287, 2.8023900000043795, 2.590244899998652, 2.6777839999995194, 2.6827564999985043, 2.70093690000067, 2.7569071000034455, 1.4013908999986597, 1.6834247999940999, 1.6540878000014345, 2.2447822999965865, 2.6074047000001883, 2.640729499995359, 2.6749905000033323, 2.5391804999962915, 2.60590609999781, 2.447971499997948, 2.5757078000024194, 2.6450408000018797, 2.774921899996116, 2.670150300000387, 2.8794049999996787]\n"
     ]
    }
   ],
   "source": [
    "# timing for hypothetical databases through 10K in size(n=669 through 10035)\n",
    "\n",
    "stat_iter = 100\n",
    "base_time = []\n",
    "base_time_train = []\n",
    "base_time_predict = []\n",
    "n_iter = 15\n",
    "mult_iter = 15\n",
    "n_temp = 669\n",
    "rfBest_clf = RandomForestClassifier(random_state = 42, max_features=6,n_estimators=750, max_depth=20, min_samples_split=6, min_samples_leaf=3,bootstrap=True, class_weight='balanced')\n",
    "\n",
    "\n",
    "for gg in range(stat_iter):\n",
    "\n",
    "    for m in range(n_iter):\n",
    "        start1 = time.perf_counter()\n",
    "\n",
    "        # import phage data\n",
    "        phageData_T = pd.read_excel(\"data\\PHAGE_TABLE10k.xlsx\")[:n_temp]\n",
    "\n",
    "        # isolate the genome size\n",
    "        genomekbps_T = np.asarray(phageData_T[\"COMPLETE_GENOME_BP\"])\n",
    "        genomekbps_T = genomekbps_T[~(np.isnan(genomekbps_T))]\n",
    "\n",
    "        # isolate the MCP translation data\n",
    "        translation_T=np.asarray(phageData_T[\"TRANSLATION\"])\n",
    "\n",
    "        # import the isoelectric points\n",
    "        isoelectricPT_T = pd.read_csv(\"data\\isoelectric_points10k.csv\")[:n_temp]\n",
    "        isoPt_T = np.asarray(isoelectricPT_T[\"IPC_protein\"])  \n",
    "        isoPt_T = isoPt_T[~(np.isnan(isoPt_T))]\n",
    "\n",
    "        # create the dataset\n",
    "        x_Phage_T = createDataset2(translation_T,isoPt_T)\n",
    "\n",
    "        # create T number table for nearest T\n",
    "        Y_T = []\n",
    "        for i in range(len(genomekbps_T)):\n",
    "            Y_T.append(tdict2[tNum(genomekbps_T[i]/1000,2,.25)])\n",
    "        Y_T = np.asarray(Y_T)\n",
    "\n",
    "        # train the random forest \n",
    "        rfBest_clf.fit(x_Phage_T,Y_T)\n",
    "\n",
    "        finish1 = time.perf_counter()\n",
    "\n",
    "        start2 = time.perf_counter()\n",
    "\n",
    "        x_Phage_T[:50]\n",
    "        predicted = rfBest_clf.predict(x_Phage_T)\n",
    "\n",
    "        finish2 = time.perf_counter()\n",
    "\n",
    "        base_time.append(n_temp)\n",
    "        n_temp=n_temp+669\n",
    "        base_time_train.append(finish1-start1)\n",
    "        base_time_predict.append(finish2-start2)\n",
    "        \n",
    "    #print(base_time)\n",
    "    n_temp=669\n",
    "    if (gg%10==0):\n",
    "        print(\"loop \",gg)\n",
    "    \n",
    "print(base_time)\n",
    "print(base_time_train)\n",
    "print(base_time_predict)"
   ]
  },
  {
   "cell_type": "code",
   "execution_count": 110,
   "metadata": {},
   "outputs": [
    {
     "name": "stdout",
     "output_type": "stream",
     "text": [
      "loop  0\n",
      "loop  10\n",
      "loop  20\n",
      "loop  30\n",
      "loop  40\n",
      "loop  50\n",
      "loop  60\n",
      "loop  70\n",
      "loop  80\n",
      "loop  90\n",
      "[0.04716570000164211, 0.04642460000468418, 0.050352800004475284, 0.04865820000122767, 0.04791539999860106, 0.04885600000125123, 0.047585100001015235, 0.04679729999770643, 0.047299500001827255, 0.048606299998937175, 0.048226300001260825, 0.04753619999974035, 0.048804999998537824, 0.04857630000333302, 0.047609200002625585, 0.05743369999981951, 0.04960300000675488, 0.047662699995271396, 0.04802449999988312, 0.05514479999692412, 0.047563499996613245, 0.04795580000063637, 0.0488681999995606, 0.04795839999860618, 0.04916660000162665, 0.047844000000623055, 0.0481352999995579, 0.04664119999506511, 0.046629500000562984, 0.04796809999970719, 0.04933359999995446, 0.04861069999606116, 0.04823400000168476, 0.04770210000424413, 0.047882799997751135, 0.04785049999918556, 0.04758570000558393, 0.047110799998336006, 0.04727929999353364, 0.047415599998203106, 0.04753979999804869, 0.046997199999168515, 0.049796799998148344, 0.04740130000573117, 0.04801980000047479, 0.047111100000620354, 0.04740329999913229, 0.04878399999870453, 0.04796840000199154, 0.04953040000691544, 0.04719250000198372, 0.04715269999724114, 0.0469641000017873, 0.047573299998475704, 0.05028859999583801, 0.04772310000407742, 0.04716770000231918, 0.04883009999321075, 0.04714119999698596, 0.04736370000318857, 0.047531600001093466, 0.047582699997292366, 0.04781440000078874, 0.047299400001065806, 0.04769059999671299, 0.047077299997908995, 0.04700280000542989, 0.04686780000338331, 0.04678360000252724, 0.05035739999584621, 0.047948100000212435, 0.04722980000224197, 0.04861759999766946, 0.05084730000089621, 0.04863739999564132, 0.04850079999596346, 0.049622599995927885, 0.04757229999813717, 0.04879839999921387, 0.04774369999358896, 0.0476351999968756, 0.04890989999694284, 0.048538600000028964, 0.04840820000390522, 0.048168599998462014, 0.04809019999811426, 0.04744850000133738, 0.04696529999637278, 0.04727689999708673, 0.04702050000196323, 0.04685089999838965, 0.046738899996853434, 0.04734699999971781, 0.04730169999675127, 0.04705190000095172, 0.048119500002940185, 0.04901450000033947, 0.0470800999974017, 0.04818959999829531, 0.04767599999468075, 0.04666499999439111, 0.0488377000001492, 0.04722290000063367, 0.04717990000062855, 0.04690090000076452, 0.047270100003515836, 0.04834530000516679, 0.0479609000030905, 0.048187400003371295, 0.047292399998696055, 0.047287300003517885, 0.04783999999926891, 0.047174399995128624, 0.049731499995687045, 0.04772850000153994, 0.04818159999558702, 0.048153799994906876, 0.047229799994966015, 0.046944100002292544, 0.04852359999495093, 0.05009520000021439, 0.05086699999810662, 0.048819199997524265, 0.048565099998086225, 0.04791809999733232, 0.04652419999911217, 0.04648589999851538, 0.049631900001259055, 0.04796689999784576, 0.05021370000031311, 0.04793950000021141, 0.04739010000048438, 0.047660399999585934, 0.04698590000043623, 0.04822279999643797, 0.04781430000002729, 0.04881490000116173, 0.04943920000368962, 0.04810350000479957, 0.047238999999535736, 0.048339900000428315, 0.048112700002093334, 0.08965130000433419, 0.04739040000276873, 0.04802690000360599, 0.04790499999944586, 0.050108399998862296, 0.04891999999381369, 0.047677000002295244, 0.047379700001329184, 0.046827999998640735, 0.04725809999945341, 0.047531800002616365, 0.047355499998957384, 0.04889250000269385, 0.047384599994984455, 0.04988420000154292, 0.0472864000039408, 0.047715799999423325, 0.04933380000147736, 0.048942100002022926, 0.04837050000060117, 0.04805630000191741, 0.047299799996835645, 0.04681020000134595, 0.05694180000136839, 0.04774399999587331, 0.04772869999578688, 0.04702089999773307, 0.05582469999353634, 0.048959799998556264, 0.04764140000042971, 0.04947030000039376, 0.048676699996576644, 0.04740520000632387, 0.04782179999892833, 0.049201000001630746, 0.0508546999990358, 0.049869199996464886, 0.04927990000578575, 0.04806310000276426, 0.04945959999895422, 0.04947639999591047, 0.047870499998680316, 0.04762320000008913, 0.0503441999971983, 0.04920239999773912, 0.04706140000052983, 0.04944180000165943, 0.04726659999869298, 0.04855039999529254, 0.0496837000027881, 0.04809669999667676, 0.04728839999734191, 0.04791779999504797, 0.04700629999570083, 0.047817200000281446, 0.047514900004898664, 0.04893230000016047, 0.04962909999449039, 0.04756869999982882, 0.049264999994193204, 0.05252160000236472, 0.05350619999808259, 0.052403100002266, 0.0514063000009628, 0.04949920000217389, 0.04914679999637883, 0.04797919999691658, 0.049100999996881, 0.04891470000438858, 0.04852200000459561, 0.04815070000040578, 0.04787029999715742, 0.04797410000173841, 0.046873999999661464, 0.047057300005690195, 0.048877599998377264, 0.048915999999735504, 0.04764959999738494, 0.0472040000022389, 0.04717230000096606, 0.04737110000132816, 0.04883339999651071, 0.04809549999481533, 0.04719990000012331, 0.047009200003230944, 0.047243400003935676, 0.047422600000572857, 0.04719199999817647, 0.048107800001162104, 0.0484403000009479, 0.048506400002224836, 0.04789170000003651, 0.04869270000199322, 0.04843480000272393, 0.05125370000314433, 0.04868459999852348, 0.04823230000329204, 0.047817500002565794, 0.050040999994962476, 0.0485910999996122, 0.04820399999880465, 0.050473999996029306, 0.049479100001917686, 0.047970100000384264, 0.04843519999849377, 0.06122740000137128, 0.055063599997083656, 0.051473100000293925, 0.05022540000209119, 0.04851990000315709, 0.04890429999795742, 0.05050629999459488, 0.04991689999587834, 0.049627000000327826, 0.04759619999822462, 0.04731090000132099, 0.047708300000522286, 0.04757220000465168, 0.04764140000042971, 0.04759380000177771, 0.04800170000089565, 0.05009540000173729, 0.04850270000315504, 0.047931299995980226, 0.04840400000102818, 0.04781949999596691, 0.04887659999803873, 0.04913759999908507, 0.048173399998631794, 0.04810640000505373, 0.048927600000752136, 0.049036600001272745, 0.04829020000033779, 0.05122709999704966, 0.048289499995007645, 0.04849670000112383, 0.09179679999942891, 0.04906979999941541, 0.048937200001091696, 0.0483509999976377, 0.04715269999724114, 0.04753509999864036, 0.0480293000000529, 0.04727650000131689, 0.048937799998384435, 0.04928180000570137, 0.049824500005343, 0.04725809999945341, 0.0472107000023243, 0.04700439999578521, 0.047553899996273685, 0.04742499999701977, 0.048189400004048366, 0.04777609999291599, 0.051180700000259094, 0.05387650000193389, 0.04927989999850979, 0.049222800000279676, 0.04977830000279937, 0.04913930000475375, 0.049199000000953674, 0.05083159999776399, 0.04909919999772683, 0.04891269999643555, 0.05029829999693902, 0.04746359999990091, 0.046571300001232885, 0.04747829999541864, 0.05025700000260258, 0.050788799999281764, 0.049382500001229346, 0.05149899999378249, 0.050846799997088965, 0.05627469999308232, 0.04882190000353148, 0.05015129999810597, 0.05784049999783747, 0.05042459999822313, 0.049053399998229, 0.049815100006526336, 0.04962619999423623, 0.04935339999792632, 0.04920059999858495, 0.04930639999656705, 0.050379300002532545, 0.05009500000596745, 0.05122869999468094, 0.05158839999785414, 0.05241439999372233, 0.053605099994456396, 0.053270600001269486, 0.05328509999526432, 0.05329489999712678, 0.05206789999647299, 0.05198729999392526, 0.05382079999981215, 0.05635630000324454, 0.05716719999327324, 0.05736639999668114, 0.05684830000245711, 0.056507799999963026, 0.05486660000315169, 0.05868400000326801, 0.056140300002880394, 0.05775549999816576, 0.05754650000017136, 0.06167390000337036, 0.06074319999606814, 0.060728199998266064, 0.06054989999393001, 0.06062519999977667, 0.059157600000617094, 0.058027899998705834, 0.058555000003252644, 0.0589966000043205, 0.0596090999970329, 0.0609416000006604, 0.06273789999977453, 0.06084939999709604, 0.05907870000373805, 0.0580063000015798, 0.05847240000002785, 0.05608660000143573, 0.05585799999971641, 0.05477699999755714, 0.05489069999748608, 0.054456699996080715, 0.05507720000605332, 0.05427599999529775, 0.0925098999941838, 0.05449439999938477, 0.052983399997174274, 0.051962099998490885, 0.052207099994120654, 0.05231739999726415, 0.05240780000167433, 0.05203890000120737, 0.050756999997247476, 0.05091230000107316, 0.05114619999949355, 0.050996400001167785, 0.05099680000421358, 0.05094130000361474, 0.05114099999627797, 0.05273489999672165, 0.05137489999469835, 0.050776399999449495, 0.05076969999936409, 0.050936599996930454, 0.05149689999961993, 0.0511631999979727, 0.05051600000297185, 0.05274170000484446, 0.05147479999868665, 0.05077470000105677, 0.05057379999925615, 0.05074299999978393, 0.05352799999673152, 0.05187429999932647, 0.051806400006171316, 0.051047000000835396, 0.05073780000384431, 0.05076190000545466, 0.052467699999397155, 0.05195339999772841, 0.05217429999902379, 0.051272200005769264, 0.05057850000594044, 0.050764699997671414, 0.051192300001275726, 0.0520535999967251, 0.05226839999522781, 0.051224399998318404, 0.051161199997295626, 0.052477699995506555, 0.05224929999531014, 0.05215019999741344, 0.05228209999768296, 0.05216949999885401, 0.052114400001300965, 0.05253430000448134, 0.052254200003517326, 0.052329400001326576, 0.0521152000001166, 0.05227999999624444, 0.0517349000001559, 0.05080150000139838, 0.050875200002337806, 0.05146539999986999, 0.05165800000395393, 0.050604600000951905, 0.050702099993941374, 0.05098980000184383, 0.050914799998281524, 0.051572399999713525, 0.05043019999720855, 0.05084050000004936, 0.051267499999084976, 0.05074629999580793, 0.051133700006175786, 0.05243959999643266, 0.05320740000024671, 0.053420800002641045, 0.05332469999848399, 0.05338099999789847, 0.05355750000308035, 0.05359100000350736, 0.053065299995068926, 0.05214639999758219, 0.051925400002801325, 0.051848799994331785, 0.05374770000344142, 0.05231320000166306, 0.05220629999530502, 0.05185679999704007, 0.05187809999915771, 0.051555899997765664, 0.05063710000104038, 0.05076349999580998, 0.05073400000401307, 0.050766899999871384, 0.050861100004112814, 0.050694599995040335, 0.06211839999741642, 0.05104340000252705, 0.05092359999980545, 0.05632530000002589, 0.054267699997581076, 0.051756399996520486, 0.05238459999964107, 0.050430600000254344, 0.050734900003590155, 0.05150069999945117, 0.05174179999448825, 0.05147700000088662, 0.05142540000088047, 0.05164420000073733, 0.0515293999997084, 0.0528409999969881, 0.05180380000092555, 0.0516217999975197, 0.0526116999972146, 0.0515808999989531, 0.05160139999497915, 0.05350190000172006, 0.05235779999929946, 0.051555699996242765, 0.051819299995258916, 0.05180660000041826, 0.05164540000259876, 0.05155679999734275, 0.05165919999853941, 0.05168330000014976, 0.051577300000644755, 0.05140199999732431, 0.051458300004014745, 0.05126750000636093, 0.05144060000020545, 0.0512693999990006, 0.050159400001575705, 0.051826799994159956, 0.05048730000271462, 0.05076849999750266, 0.052070600002480205, 0.051608599998871796, 0.050858700000389945, 0.05315040000277804, 0.052261700002418365, 0.052377500003785826, 0.05332310000085272, 0.05278760000510374, 0.05423290000180714, 0.05608099999517435, 0.06300009999540634, 0.0647428999945987, 0.0651815000019269, 0.06198329999460839, 0.059580500004813075, 0.05769360000704182, 0.05887580000126036, 0.062157200001820456, 0.061843499999667984, 0.05968310000025667, 0.05996959999902174, 0.06145290000131354, 0.06138420000206679, 0.06121459999849321, 0.05973390000144718, 0.06100229999719886, 0.061258199995791074, 0.061194999994768295, 0.06115280000085477, 0.0637332999976934, 0.06382070000108797, 0.0663838000036776, 0.06625350000103936, 0.07121270000061486, 0.06956429999991087, 0.07258949999959441, 0.07216340000013588, 0.0720521999974153, 0.06828740000491962, 0.07062550000409828, 0.06743000000278698, 0.06439949999912642, 0.06165560000226833, 0.061225800003740005, 0.05803919999743812, 0.05643580000469228, 0.05481860000145389, 0.05463369999779388, 0.053479399997740984, 0.05508920000283979, 0.05495379999774741, 0.05494410000392236, 0.05846820000442676, 0.054246499996224884, 0.05616820000432199, 0.05418340000323951, 0.05432670000300277, 0.05534450000413926, 0.0561872999969637, 0.057478799993987195, 0.058828100001846906, 0.059796000001369976, 0.05960159999813186, 0.059353299999202136, 0.05978599999798462, 0.06171190000168281, 0.06149530000402592, 0.060026200000720564, 0.06021340000006603, 0.06067659999825992, 0.06093989999499172, 0.06066590000409633, 0.058194600002025254, 0.056404499999189284, 0.05560479999985546, 0.05535319999762578, 0.05428770000435179, 0.05362790000071982, 0.05282219999935478, 0.05248990000109188, 0.054676400002790615, 0.05818189999990864, 0.05724699999700533, 0.05790399999386864, 0.05803810000361409, 0.05795560000115074, 0.06433310000284109, 0.06760619999840856, 0.06301119999989169, 0.06283010000333888, 0.06246059999830322, 0.06100419999711448, 0.06189940000331262, 0.061241099996550474, 0.061092999996617436, 0.06107450000126846, 0.061961999999766704, 0.06377280000015162, 0.06534880000253906, 0.06469479999941541, 0.06333420000009937, 0.06516890000057174, 0.06179379999957746, 0.06374900000082562, 0.06017710000014631, 0.05898159999924246, 0.05832370000280207, 0.05646050000359537, 0.055513799998152535, 0.05474110000068322, 0.06408150000061141, 0.053587800000968855, 0.05292630000622012, 0.0580100000006496, 0.05238999999710359, 0.05243519999930868, 0.05219779999606544, 0.05153060000156984, 0.09437489999982063, 0.052268999999796506, 0.052063600000110455, 0.05022099999769125, 0.05103650000091875, 0.050195799994980916, 0.05076060000283178, 0.05077799999708077, 0.05217309999716235, 0.05089569999836385, 0.050967399998626206, 0.051598900005046744, 0.051705599995329976, 0.05070939999859547, 0.05100459999812301, 0.050987299997359514, 0.05092359999980545, 0.050026600001729093, 0.04972299999644747, 0.050384599999233615, 0.05062550000002375, 0.05213589999766555, 0.0509232999975211, 0.050906600001326296, 0.0509232999975211, 0.051299300001119263, 0.05193199999484932, 0.055942099999811035, 0.05467279999720631, 0.05488770000374643, 0.05792240000300808, 0.05614480000076583, 0.056203300002380274, 0.05424219999986235, 0.0539890000000014, 0.05335670000204118, 0.0537116000050446, 0.05244230000243988, 0.0517792999962694, 0.051804899994749576, 0.05131940000137547, 0.05109860000084154, 0.05268609999620821, 0.05097319999913452, 0.05276400000002468, 0.06024940000497736, 0.0737989999979618, 0.05953079999744659, 0.05901100000482984, 0.057500000002619345, 0.0570542999994359, 0.05476150000322377, 0.054349600002751686, 0.05344860000332119, 0.05326760000025388, 0.05211250000138534, 0.05230460000166204, 0.05118599999696016, 0.0515806999974302, 0.051528800002415664, 0.051115200003550854, 0.05154159999801777, 0.05118869999569142, 0.051410499996563885, 0.051093499998387415, 0.051410200001555495, 0.0511603000049945, 0.052464799999143, 0.051582499996584374, 0.050843700002587866, 0.05076049999479437, 0.051063700004306156, 0.051308599999174476, 0.05169870000099763, 0.051233699996373616, 0.05145249999623047, 0.05114070000126958, 0.05111150000448106, 0.055394800001522526, 0.05137309999554418, 0.051311199997144286, 0.05209829999512294, 0.05132240000239108, 0.05101670000294689, 0.05206690000341041, 0.052908099998603575, 0.052344199997605756, 0.05217580000316957, 0.05202510000526672, 0.05084060000081081, 0.05118680000305176, 0.05077349999919534, 0.05078170000342652, 0.050256299997272436, 0.04968229999940377, 0.050033799998345785, 0.05026969999744324, 0.05139680000138469, 0.05122680000204127, 0.05018640000344021, 0.05030149999947753, 0.05023380000056932, 0.0523895000005723, 0.05253380000067409, 0.05129509999824222, 0.051143700002285186, 0.05130249999638181, 0.051291899995703716, 0.052431899996008724, 0.05181530000118073, 0.05130759999883594, 0.05108050000126241, 0.0512929999968037, 0.050411099997290876, 0.051533600002585445, 0.05106299999897601, 0.05149840000376571, 0.05287510000198381, 0.05078759999742033, 0.05093959999794606, 0.07123090000095544, 0.05557070000213571, 0.05522740000014892, 0.05530390000058105, 0.05497339999419637, 0.05439450000267243, 0.05631649999850197, 0.0540982999955304, 0.05256589999771677, 0.0513753999985056, 0.05177269999694545, 0.052403100002266, 0.051371200002904516, 0.05104929999652086, 0.05105779999576043, 0.05125659999612253, 0.09251229999790667, 0.051209299999754876, 0.05195590000221273, 0.05132220000086818, 0.05101170000125421, 0.05129389999638079, 0.06607839999924181, 0.05389099999592872, 0.062050600005022716, 0.06382559999474324, 0.057691599999088794, 0.05587470000318717, 0.054720499996619765, 0.0539342000047327, 0.05294980000326177, 0.051915600000938866, 0.05231659999844851, 0.05182210000202758, 0.052709000003233086, 0.05109470000024885, 0.05145259999699192, 0.05111890000262065, 0.05102710000210209, 0.050565700003062375, 0.0538109000044642, 0.05769560000044294, 0.05916960000467952, 0.06036820000008447, 0.058310300002631266, 0.05865099999937229, 0.056772199997794814, 0.054816200005006976, 0.05438090000097873, 0.05457120000210125, 0.05239540000184206, 0.052409999996598344, 0.053222100003040396, 0.05289309999352554, 0.05287739999766927, 0.052073300001211464, 0.05187339999974938, 0.053278300001693424, 0.052394999998796266, 0.052087100004428066, 0.05198709999967832, 0.05256809999991674, 0.05410410000331467, 0.05514430000039283, 0.054693999998562504, 0.053128100000321865, 0.0527760999975726, 0.052576599999156315, 0.052032599996891804, 0.053077299999131355, 0.05105429999821354, 0.05109799999627285, 0.052973499994550366, 0.05146909999893978, 0.052167499998176936, 0.05251209999551065, 0.05148979999648873, 0.05157669999607606, 0.05106839999643853, 0.0522283000027528, 0.05219050000596326, 0.05244179999863263, 0.05244680000032531, 0.05214640000485815, 0.051066599997284357, 0.050793499998690095, 0.0511049999986426, 0.05102459999761777, 0.05094140000437619, 0.052924999996321276, 0.05210390000138432, 0.05156340000394266, 0.05092030000378145, 0.05097630000091158, 0.0526495000012801, 0.051190600002883, 0.0511188000018592, 0.05221390000224346, 0.050843800003349315, 0.051911399998061825, 0.053329199996369425, 0.05378829999972368, 0.05281690000265371, 0.053028700000140816, 0.05172699999820907, 0.05102140000235522, 0.05388590000075055, 0.052524900005664676, 0.051744000003964175, 0.0923118999999133, 0.051067199994577095, 0.05161299999599578, 0.051393599998846184, 0.051422399999864865, 0.05077460000029532, 0.050710300005448516, 0.04991169999993872, 0.050972299999557436, 0.05077929999970365, 0.050771599999279715, 0.05105520000506658, 0.050618799999938346, 0.05014320000191219, 0.05020629999489756, 0.05002719999902183, 0.049803200003225356, 0.05039649999525864, 0.05028170000150567, 0.05067679999774555, 0.05189059999975143, 0.05098780000116676, 0.05126200000086101, 0.051226499999756925, 0.05123640000238083, 0.051032900002610404, 0.051235900005849544, 0.05205510000087088, 0.053455000001122244, 0.0516293000036967, 0.05136940000375034, 0.05120189999433933, 0.051219499997387175, 0.05284379999648081, 0.051108100000419654, 0.050914799998281524, 0.05096300000150222, 0.05093779999879189, 0.0509680000031949, 0.052648800003225915, 0.051845699999830686, 0.0518341999995755, 0.05298239999683574, 0.052956399995309766, 0.052472999996098224, 0.052267099999880884, 0.05151480000495212, 0.05129980000492651, 0.053036199999041855, 0.055410000000847504, 0.05594009999913396, 0.059056199999758974, 0.05924010000308044, 0.058364299999084324, 0.05900820000533713, 0.06030399999872316, 0.06191720000060741, 0.05843159999494674, 0.057150099994032644, 0.05636740000045393, 0.055199599999468774, 0.05656280000403058, 0.0548759000012069, 0.06349879999470431, 0.05233090000547236, 0.05213870000443421, 0.05665709999448154, 0.052784699997573625, 0.05244890000176383, 0.05244229999516392, 0.05222679999860702, 0.0511423999996623, 0.05089630000293255, 0.05180290000134846, 0.052497099997708574, 0.05213999999978114, 0.052007700003741775, 0.051482800001394935, 0.05326819999754662, 0.053952900001604576, 0.052412199998798314, 0.05252689999906579, 0.052107199997408316, 0.05390520000219112, 0.05245629999990342, 0.05289500000071712, 0.053313899996283, 0.05467379999754485, 0.052491800001007505, 0.05240300000150455, 0.05244010000023991, 0.053919300000416115, 0.0524197999984608, 0.05130040000221925, 0.050938200001837686, 0.05077739999978803, 0.05099799999879906, 0.05480779999925289, 0.052932099999452475, 0.052654200000688434, 0.05145050000282936, 0.051896700002544094, 0.05122349999874132, 0.05486109999765176, 0.052148899994790554, 0.050887600002170075, 0.05228940000233706, 0.051066300002275966, 0.051531199998862576, 0.051154099994164426, 0.05245139999897219, 0.05164610000065295, 0.05115709999518003, 0.05116049999924144, 0.052254499998525716, 0.05365940000046976, 0.05174789999728091, 0.05117940000491217, 0.050952800003869925, 0.05113819999678526, 0.05191449999983888, 0.051412200002232566, 0.05139120000239927, 0.05105560000083642, 0.05101899999863235, 0.05101670000294689, 0.050442300002032425, 0.05052530000102706, 0.05120850000093924, 0.051190600002883, 0.05086680000385968, 0.05097319999913452, 0.05116719999932684, 0.05101510000531562, 0.05263350000313949, 0.05044569999881787, 0.05025249999744119, 0.04991219999647001, 0.04995170000620419, 0.050256599999556784, 0.051051600006758235, 0.0509031000037794, 0.051234099999419414, 0.051087800005916506, 0.05164340000192169, 0.052450700000918005, 0.05271060000086436, 0.05363279999437509, 0.052382599998964, 0.052368199998454656, 0.0511603000049945, 0.051736600005824585, 0.05244360000506276, 0.05176479999499861, 0.05095670000446262, 0.05165180000039982, 0.050873200001660734, 0.05089210000005551, 0.050841899996157736, 0.05095269999583252, 0.050773800001479685, 0.04992889999994077, 0.04962439999508206, 0.05110259999491973, 0.05143279999902006, 0.05241509999905247, 0.051054899995506275, 0.05169720000412781, 0.050916300002427306, 0.05114009999670088, 0.05141829999774927, 0.052838299998256844, 0.05046260000381153, 0.050600299997313414, 0.0511908000044059, 0.05136250000214204, 0.05104939999728231, 0.05189539999992121, 0.052259000003687106, 0.05249000000185333, 0.05158149999624584, 0.05210219999571564, 0.05349269999715034, 0.05348729999968782, 0.0520436000006157, 0.05122300000221003, 0.05099519999930635, 0.05301079999480862, 0.05136309999943478, 0.052387499999895226, 0.05018980000022566, 0.05445269999472657, 0.05518909999955213, 0.056036699999822304, 0.0580030999990413, 0.0565061000015703, 0.05473939999501454, 0.05394289999821922, 0.05364969999936875, 0.05368779999844264, 0.054207599998335354, 0.052336900000227615, 0.05298620000394294, 0.05315699999482604, 0.051640400000906084, 0.05162420000124257, 0.05083829999784939, 0.051775799998722505, 0.05192929999611806, 0.05071989999851212, 0.05132859999866923, 0.05116200000338722, 0.05139720000443049, 0.059111699993081857, 0.051066899999568705, 0.05119839999679243, 0.056472199998097494, 0.05312679999769898, 0.05132259999663802, 0.05114029999822378, 0.0521493999985978, 0.05449949999456294, 0.05166830000234768, 0.051238200001535006, 0.051144299999577925, 0.05183880000549834, 0.053423400000610854, 0.05227050000394229, 0.052048900004592724, 0.05109970000194153, 0.05177499999990687, 0.05245210000430234, 0.05923120000079507, 0.05779560000519268, 0.05927489999885438, 0.05948039999930188, 0.06018820000463165, 0.05970710000110557, 0.06000550000317162, 0.05950509999820497, 0.059044299996457994, 0.057899400002497714, 0.05634280000231229, 0.05530430000362685, 0.054778099998657126, 0.054071899998234585, 0.05532350000430597, 0.054078500004834495, 0.05283590000180993, 0.05234310000378173, 0.051330599999346305, 0.05124720000458183, 0.09091640000406187, 0.051151100000424776, 0.05041250000067521, 0.052161199993861374, 0.05107819999830099, 0.051736800000071526, 0.052187100001901854, 0.050992199998290744, 0.0512730000045849, 0.05099299999710638, 0.051108400002704, 0.050950700002431404, 0.0540127999993274, 0.052583300006517675, 0.0512594000028912, 0.05357150000054389, 0.05118459999357583, 0.0518101999987266, 0.05107359999965411, 0.05093779999879189, 0.05100559999846155, 0.0508862000060617, 0.0516806000014185, 0.05110419999982696, 0.05214999999589054, 0.05147279999800958, 0.053041599996504374, 0.05471469999611145, 0.055763199998182245, 0.05678949999855831, 0.05896389999543317, 0.05771870000171475, 0.05776980000518961, 0.05827580000186572, 0.05952940000133822, 0.06009990000165999, 0.05952690000412986, 0.0591846000024816, 0.0603082000016002, 0.06194559999858029, 0.060983900002611335, 0.06120279999595368, 0.05967850000160979, 0.0591132000045036, 0.05838670000230195, 0.057550599995011, 0.05663110000023153, 0.05522099999507191, 0.05454699999972945, 0.053428100000019185, 0.05398609999974724, 0.054488299996592104, 0.05232380000234116, 0.05226119999861112, 0.05143089999910444, 0.05244659999880241, 0.052237500000046566, 0.053848700001253746, 0.05183430000033695, 0.0509338000047137, 0.051003699998545926, 0.051021299994317815, 0.0500674000068102, 0.05226200000470271, 0.05124000000068918, 0.05078479999792762, 0.050977200000488665, 0.051020699997025076, 0.05131789999722969, 0.05180139999720268, 0.05043930000101682, 0.051371499997912906, 0.05121639999561012, 0.051758900001004804, 0.05331550000119023, 0.05448489999980666, 0.05263869999907911, 0.051688699997612275, 0.05274279999866849, 0.052359099994646385, 0.053926799999317154, 0.05365729999903124, 0.05144839999411488, 0.05168469999625813, 0.05204740000044694, 0.05183250000118278, 0.051100999997288454, 0.05110440000134986, 0.05100680000032298, 0.05260810000618221, 0.05127070000162348, 0.05090100000234088, 0.05187780000414932, 0.051013299998885486, 0.051105899998219684, 0.050977699997019954, 0.051333000003069174, 0.05872359999921173, 0.06051160000060918, 0.06217399999877671, 0.06896399999823188, 0.06742010000016307, 0.09140919999481412, 0.08171969999966677, 0.0822589000017615, 0.07542870000179391, 0.06965440000203671, 0.07224839999980759, 0.06669390000024578, 0.06577670000115177, 0.06523530000413302, 0.07736260000092443, 0.0676339999990887, 0.07201100000384031, 0.0655518999992637, 0.06219940000300994, 0.06205549999867799, 0.06332190000102855, 0.06293499999446794, 0.06280030000198167, 0.06289140000444604, 0.06303260000277078, 0.06021840000175871, 0.05785430000105407, 0.05722290000267094, 0.055341700004646555, 0.05477120000432478, 0.05392830000346294, 0.05361350000021048, 0.05354819999774918, 0.052394700003787875, 0.05223690000275383, 0.052346300006320234, 0.05397100000118371, 0.051943399994343054, 0.050872800005890895, 0.08966969999892171, 0.05080119999911403, 0.05031909999524942, 0.052085199997236487, 0.05313519999617711, 0.05427169999893522, 0.055365600004734006, 0.05839460000424879, 0.059109499998157844, 0.061242900002980605, 0.06416049999825191, 0.06116620000102557, 0.06350509999901988, 0.0618730999995023, 0.06324090000271099, 0.06399010000313865, 0.0636716000008164, 0.06297790000098757, 0.06291159999818774, 0.06242119999660645, 0.05905870000424329, 0.05766630000289297, 0.0569136999984039, 0.05789640000148211, 0.058300700002291705, 0.05564289999892935, 0.05465579999872716, 0.0541739000036614, 0.053808699994988274, 0.052528499996697064, 0.05288950000249315, 0.051702700002351776, 0.051405300000624266, 0.05238570000074105, 0.05162640000344254, 0.05236150000564521, 0.05158520000259159, 0.051993399996717926, 0.051474900006724056, 0.05156580000038957, 0.05134820000239415, 0.05157659999531461, 0.05186610000237124, 0.0505602999983239, 0.05047969999577617, 0.050445499997294974, 0.05075579999538604, 0.05287569999927655, 0.05087150000326801, 0.05266710000432795, 0.051131600004737265, 0.05068599999503931, 0.05065159999503521, 0.05283709999639541, 0.05262429999856977, 0.05204729999968549, 0.05387940000218805, 0.055032399999618065, 0.057253400002082344, 0.05799049999768613, 0.059772200002043974, 0.05977149999671383, 0.05860050000046613, 0.05896800000482472, 0.056377499997324776, 0.05662309999752324, 0.05473150000034366, 0.05446659999870462, 0.053815599996596575, 0.0536634000018239, 0.05418240000290098, 0.05418640000425512, 0.05303760000242619, 0.05290490000334103, 0.05167609999625711, 0.052094500002567656, 0.05283239999698708, 0.05197000000043772, 0.051867200003471226, 0.05172929999389453, 0.051470899998093955, 0.0519436999966274, 0.05189090000203578, 0.051536099999793805, 0.05101450000074692, 0.050150199997005984, 0.05013659999531228, 0.050319100002525374, 0.052446199995756615, 0.05021810000471305, 0.0506357999984175, 0.05022740000276826, 0.05019670000183396, 0.09016210000118008, 0.049847499998577405, 0.05037580000498565, 0.051013000003877096, 0.05084359999455046, 0.05062770000222372, 0.0515397999988636, 0.05132259999663802, 0.05097850000311155, 0.05074370000511408, 0.05110169999534264, 0.05045129999780329, 0.050527300001704134, 0.05033730000286596, 0.050803499994799495, 0.05064439999841852, 0.05143099999986589, 0.0502931000009994, 0.05190359999687644, 0.05252389999805018, 0.05101719999947818, 0.05073640000045998, 0.05075100000249222, 0.05079059999843594, 0.05096300000150222, 0.051376499999605585, 0.0516053000028478, 0.0506597999992664, 0.05056400000466965, 0.050343699993391056, 0.05124970000179019, 0.05041440000059083, 0.0569645999930799, 0.05090320000454085, 0.05045050000626361, 0.0496800999972038, 0.058085600001504645, 0.05206940000061877, 0.05391260000033071, 0.05166610000014771, 0.0508276000036858, 0.05113089999940712, 0.05070939999859547, 0.050503499995102175, 0.052191700000548735, 0.050321999995503575, 0.052098100000876, 0.05074299999978393, 0.05088899999827845, 0.050693900004262105, 0.05218649999733316, 0.0503584000034607, 0.05047900000499794, 0.05071489999681944, 0.05020469999726629, 0.050602199997229036, 0.05084289999649627, 0.05294770000182325, 0.05034919999889098, 0.05035889999999199, 0.05048700000043027, 0.05057730000407901, 0.05047519999789074, 0.051156299996364396, 0.051201900001615286, 0.05110620000050403, 0.05112540000118315, 0.05088399999658577, 0.051439399998344015, 0.051303600004757755, 0.0505434000006062, 0.050503200000093784, 0.05221480000182055, 0.05086480000318261, 0.05112329999974463, 0.053387399995699525, 0.0516293000036967, 0.0512114000011934, 0.05034650000015972, 0.050706299996818416, 0.05069609999918612, 0.05244289999973262, 0.05075679999572458, 0.049917200005438644, 0.049726899997040164, 0.05194729999493575, 0.05076610000105575, 0.05098020000150427, 0.050856200003181584, 0.05147279999800958, 0.04999650000536349, 0.04956339999625925, 0.04960670000582468, 0.04994279999664286, 0.05114550000143936, 0.050800700002582744, 0.05065210000611842, 0.050435400000424124, 0.05212359999859473, 0.05061800000112271, 0.05087420000199927, 0.050771499998518266, 0.05114290000346955, 0.05054840000229888, 0.050408400005835574, 0.050466900000174064, 0.05118650000076741, 0.050273199994990136, 0.05021690000285162, 0.049519500003953, 0.04945229999430012, 0.04949099999794271, 0.04930080000485759, 0.04973509999399539, 0.04960920000303304, 0.05058920000010403, 0.050520199998572934, 0.05054450000170618, 0.051771099999314174, 0.04994279999664286, 0.050464200001442805, 0.04929740000079619, 0.04924339999706717, 0.04991119999613147, 0.05014629999641329, 0.050870500002929475, 0.050936299994646106, 0.05070220000197878, 0.05109539999830304, 0.0510195000024396, 0.05104579999897396, 0.05107609999686247, 0.05115200000000186, 0.051018099999055266, 0.0512656999999308, 0.05111890000262065, 0.050940400004037656, 0.05098600000201259, 0.05031810000218684, 0.04956510000192793, 0.04946829999971669, 0.04942740000115009, 0.04942099999607308, 0.049511999997776, 0.049554600002011284, 0.049934499998926185, 0.05095869999786373, 0.05261690000043018, 0.05064250000577886, 0.05280060000222875, 0.05053790000238223, 0.050476299998990726, 0.050326299999142066, 0.05060600000433624, 0.051168000005418435, 0.05255760000000009, 0.05199229999561794, 0.05188050000288058, 0.051100399999995716, 0.050490300003730226, 0.05025739999837242, 0.05118899999797577, 0.0506491999985883, 0.050623900002392475, 0.050572899999679066, 0.05320629999914672, 0.05632900000637164]\n"
     ]
    }
   ],
   "source": [
    "# timing for hypothetical databases through 10K in size(n=669 through 10035)\n",
    "# replaces prediction time above due to error\n",
    "\n",
    "base_time_predict = []\n",
    "rfBest_clf = RandomForestClassifier(random_state = 42, max_features=6,n_estimators=750, max_depth=20, min_samples_split=6, min_samples_leaf=3,bootstrap=True, class_weight='balanced')\n",
    "rfBest_clf.fit(x_Phage_T,Y_T)\n",
    "\n",
    "for gg in range(stat_iter):\n",
    "    \n",
    "    for m in range(n_iter):\n",
    "\n",
    "        start2 = time.perf_counter()\n",
    "\n",
    "        predicted = rfBest_clf.predict(x_Phage_T[:50])\n",
    "\n",
    "        finish2 = time.perf_counter()\n",
    "\n",
    "        n_temp=n_temp+669\n",
    "        base_time_predict.append(finish2-start2)\n",
    "        \n",
    "    n_temp=669\n",
    "    if (gg%10==0):\n",
    "        print(\"loop \",gg)\n",
    "    \n",
    "print(base_time_predict)"
   ]
  },
  {
   "cell_type": "code",
   "execution_count": 111,
   "metadata": {},
   "outputs": [
    {
     "name": "stdout",
     "output_type": "stream",
     "text": [
      "1500\n",
      "1500\n",
      "1500\n"
     ]
    }
   ],
   "source": [
    "print(len(base_time))\n",
    "print(len(base_time_train))\n",
    "print(len(base_time_predict))"
   ]
  },
  {
   "cell_type": "code",
   "execution_count": 112,
   "metadata": {},
   "outputs": [
    {
     "data": {
      "text/plain": [
       "[<matplotlib.lines.Line2D at 0x173b9479dc0>]"
      ]
     },
     "execution_count": 112,
     "metadata": {},
     "output_type": "execute_result"
    },
    {
     "data": {
      "image/png": "[encoded data removed]",
      "text/plain": [
       "<Figure size 432x288 with 1 Axes>"
      ]
     },
     "metadata": {
      "needs_background": "light"
     },
     "output_type": "display_data"
    }
   ],
   "source": [
    "bt_train = pd.DataFrame(np.reshape(np.ravel(base_time_train), (-1,15)))\n",
    "bt_predict = pd.DataFrame(np.reshape(np.ravel(base_time_predict), (-1,15)))\n",
    "\n",
    "bt_train_avg = []\n",
    "bt_predict_avg = []\n",
    "\n",
    "for i in range(15):\n",
    "    bt_train_avg.append(np.mean(bt_train[i]))\n",
    "    bt_predict_avg.append(np.mean(bt_predict[i]))\n",
    "    \n",
    "bt_train_avg = np.asarray(bt_train_avg)\n",
    "bt_predict_avg = np.asarray(bt_predict_avg)\n",
    "bt_n = np.asarray(base_time[:15])\n",
    "\n",
    "plt.plot(bt_n,bt_train_avg)\n",
    "plt.plot(bt_n,bt_predict_avg)"
   ]
  },
  {
   "cell_type": "code",
   "execution_count": 88,
   "metadata": {},
   "outputs": [],
   "source": [
    "# regression imports\n",
    "from sklearn.linear_model import LinearRegression\n",
    "import scipy.stats as stats\n",
    "import sklearn.metrics\n",
    "from sklearn import linear_model\n",
    "from sklearn.metrics import mean_squared_error, r2_score, accuracy_score, explained_variance_score\n",
    "from scipy.optimize import least_squares"
   ]
  },
  {
   "cell_type": "code",
   "execution_count": 113,
   "metadata": {},
   "outputs": [],
   "source": [
    "bt_n = bt_n.reshape(-1, 1)\n",
    "bt_train_avg = bt_train_avg.reshape(-1, 1)\n",
    "bt_predict_avg = bt_predict_avg.reshape(-1, 1)"
   ]
  },
  {
   "cell_type": "code",
   "execution_count": 118,
   "metadata": {},
   "outputs": [],
   "source": [
    "bt_predict_avg = bt_predict_avg/50"
   ]
  },
  {
   "cell_type": "code",
   "execution_count": 91,
   "metadata": {},
   "outputs": [
    {
     "name": "stdout",
     "output_type": "stream",
     "text": [
      "model slope: 0.002037\n",
      "model intercept: 4.607758\n",
      "Mean squared error: 1.4669\n",
      "R-squared: 0.9594\n",
      "explained_variance_score: 0.9594\n",
      "Critical t for 0.95 CI with 615 degrees of freedom: 1.6473\n",
      "Error of the slope estimate: 0.0002\n",
      "Error of the intercept estimate: 0.9573\n"
     ]
    }
   ],
   "source": [
    "# create linear regression model for training times\n",
    "modelT1 = LinearRegression()\n",
    "modelT1.fit(bt_n,bt_train_avg)\n",
    "y_predT1 = modelT1.predict(bt_n)\n",
    "intT1 = modelT1.intercept_[0]\n",
    "slopeT1 = modelT1.coef_[0][0]\n",
    "print('model slope: %.6f' % slopeT1)\n",
    "print('model intercept: %.6f' % intT1)\n",
    "\n",
    "# create linspace for x and y\n",
    "xlinT1 = np.linspace(min(bt_n)-0.1,max(bt_n)+0.1, 100)\n",
    "ylinT1 = slopeT1*xlinT1+intT1\n",
    "\n",
    "# Predicted values based on regression\n",
    "print(\"Mean squared error: %.4f\" % mean_squared_error(bt_train_avg, y_predT1))\n",
    "print('R-squared: %.4f' % r2_score(bt_train_avg, y_predT1))\n",
    "print('explained_variance_score: %.4f' % explained_variance_score(bt_train_avg, y_predT1))\n",
    "\n",
    "from scipy.stats import t\n",
    "\n",
    "# CI and degrees of freedom\n",
    "p = 0.95\n",
    "df = n-2\n",
    "\n",
    "# use t.ppdf to retrieve probability\n",
    "tvalue = t.ppf(p, df)\n",
    "\n",
    "print('Critical t for', p, 'CI with', df, 'degrees of freedom: %.4f' % tvalue)\n",
    "\n",
    "# statistics we need to calculate errors\n",
    "xDmean = np.mean(bt_n)\n",
    "xDmse = mean_squared_error(bt_train_avg, y_predT1)\n",
    "# calculate sum of (x-xbar)^2\n",
    "x_su = 0\n",
    "for i in bt_n:\n",
    "    x_su = x_su + (i-xDmean)**2;\n",
    "\n",
    "# Calculate error on the slope\n",
    "# https://newonlinecourses.science.psu.edu/stat501/node/261/\n",
    "xDslopeErr = tvalue*np.sqrt(xDmse)/np.sqrt(x_su)[0]\n",
    "print('Error of the slope estimate: %.4f' % xDslopeErr)\n",
    "\n",
    "# Calculate error on the intercept\n",
    "xDintErr = tvalue*np.sqrt(xDmse)*np.sqrt(1/n+xDmean**2/x_su)[0]\n",
    "print('Error of the intercept estimate: %.4f' % xDintErr)"
   ]
  },
  {
   "cell_type": "code",
   "execution_count": 92,
   "metadata": {},
   "outputs": [
    {
     "data": {
      "text/plain": [
       "[<matplotlib.lines.Line2D at 0x17398f41730>]"
      ]
     },
     "execution_count": 92,
     "metadata": {},
     "output_type": "execute_result"
    },
    {
     "data": {
      "image/png": "[encoded data removed]",
      "text/plain": [
       "<Figure size 432x288 with 1 Axes>"
      ]
     },
     "metadata": {
      "needs_background": "light"
     },
     "output_type": "display_data"
    }
   ],
   "source": [
    "# create linspace for x and y that extrapolates out to 1M\n",
    "xlinT1 = np.linspace(0,1000000, 1000)\n",
    "ylinT1 = slopeT1*xlinT1+intT1\n",
    "\n",
    "plt.plot(xlinT1,ylinT1)"
   ]
  },
  {
   "cell_type": "code",
   "execution_count": 119,
   "metadata": {},
   "outputs": [
    {
     "name": "stdout",
     "output_type": "stream",
     "text": [
      "Model slope: 0.00000000\n",
      "Model intercept: 0.00105398\n",
      "Mean squared error: 276.6572\n",
      "R-squared: -6.6566\n",
      "explained_variance_score: 0.0000\n",
      "Error of the slope estimate: 0.0000\n",
      "Error of the intercept estimate: 0.0000\n"
     ]
    }
   ],
   "source": [
    "# create linear regression model for predicting times\n",
    "modelP1 = LinearRegression()\n",
    "modelP1.fit(bt_n,bt_predict_avg)\n",
    "y_predP1 = modelP1.predict(bt_n)\n",
    "intP1 = modelP1.intercept_[0]\n",
    "slopeP1 = modelP1.coef_[0][0]\n",
    "print('Model slope: %.8f' % slopeP1)\n",
    "print('Model intercept: %.8f' % intP1)\n",
    "\n",
    "# create linspace for x and y\n",
    "xlinD = np.linspace(min(bt_n)-0.1,max(bt_n)+0.1, 100)\n",
    "ylinD = slopeP1*xlinD+intP1\n",
    "\n",
    "# Predicted values based on regression\n",
    "print(\"Mean squared error: %.4f\" % mean_squared_error(bt_train_avg, y_predP1))\n",
    "print('R-squared: %.4f' % r2_score(bt_train_avg, y_predP1))\n",
    "print('explained_variance_score: %.4f' % explained_variance_score(bt_train_avg, y_predP1))\n",
    "\n",
    "# statistics we need to calculate errors\n",
    "xDmean = np.mean(bt_n)\n",
    "xDmse = mean_squared_error(bt_predict_avg, y_predP1)\n",
    "# calculate sum of (x-xbar)^2\n",
    "x_su = 0\n",
    "for i in bt_n:\n",
    "    x_su = x_su + (i-xDmean)**2;\n",
    "\n",
    "# Calculate error on the slope\n",
    "# https://newonlinecourses.science.psu.edu/stat501/node/261/\n",
    "xDslopeErr = tvalue*np.sqrt(xDmse)/np.sqrt(x_su)[0]\n",
    "print('Error of the slope estimate: %.4f' % xDslopeErr)\n",
    "\n",
    "# Calculate error on the intercept\n",
    "xDintErr = tvalue*np.sqrt(xDmse)*np.sqrt(1/n+xDmean**2/x_su)[0]\n",
    "print('Error of the intercept estimate: %.4f' % xDintErr)\n"
   ]
  },
  {
   "cell_type": "code",
   "execution_count": 115,
   "metadata": {},
   "outputs": [
    {
     "data": {
      "text/plain": [
       "[<matplotlib.lines.Line2D at 0x173b94b4910>]"
      ]
     },
     "execution_count": 115,
     "metadata": {},
     "output_type": "execute_result"
    },
    {
     "data": {
      "image/png": "[encoded data removed]",
      "text/plain": [
       "<Figure size 432x288 with 1 Axes>"
      ]
     },
     "metadata": {
      "needs_background": "light"
     },
     "output_type": "display_data"
    }
   ],
   "source": [
    "# create linspace for x and y that extrapolates out to 1M\n",
    "xlinP1 = np.linspace(0,1000000, 1000)\n",
    "ylinP1 = slopeT1*xlinP1+intP1\n",
    "\n",
    "plt.plot(xlinP1,ylinP1)"
   ]
  },
  {
   "cell_type": "code",
   "execution_count": 108,
   "metadata": {},
   "outputs": [
    {
     "data": {
      "text/plain": [
       "array([[ 4.30506594],\n",
       "       [ 5.84119776],\n",
       "       [ 6.89116531],\n",
       "       [11.83606912],\n",
       "       [12.74026047],\n",
       "       [13.3211622 ],\n",
       "       [15.17448075],\n",
       "       [16.9684286 ],\n",
       "       [17.7938799 ],\n",
       "       [18.83544496],\n",
       "       [20.13752745],\n",
       "       [20.9978307 ],\n",
       "       [21.65688028],\n",
       "       [22.60054992],\n",
       "       [23.54835173]])"
      ]
     },
     "execution_count": 108,
     "metadata": {},
     "output_type": "execute_result"
    }
   ],
   "source": [
    "bt_train_avg"
   ]
  },
  {
   "cell_type": "code",
   "execution_count": 120,
   "metadata": {},
   "outputs": [
    {
     "data": {
      "text/plain": [
       "array([[0.00106104],\n",
       "       [0.00104266],\n",
       "       [0.0010465 ],\n",
       "       [0.00105338],\n",
       "       [0.0010546 ],\n",
       "       [0.00104912],\n",
       "       [0.00105644],\n",
       "       [0.00106331],\n",
       "       [0.0010779 ],\n",
       "       [0.00107411],\n",
       "       [0.00105925],\n",
       "       [0.00105852],\n",
       "       [0.00105559],\n",
       "       [0.00105226],\n",
       "       [0.00104423]])"
      ]
     },
     "execution_count": 120,
     "metadata": {},
     "output_type": "execute_result"
    }
   ],
   "source": [
    "bt_predict_avg"
   ]
  },
  {
   "cell_type": "code",
   "execution_count": 121,
   "metadata": {},
   "outputs": [],
   "source": [
    "# saves kernel state\n",
    "# note that all csv_writer functions are commented out, since they cannot be pickled\n",
    "import dill\n",
    "dill.dump_session('item4_updated_p2.db')"
   ]
  },
  {
   "cell_type": "code",
   "execution_count": 5,
   "metadata": {},
   "outputs": [],
   "source": [
    "## load kernel state\n",
    "## rerun imports cell as well\n",
    "#import dill\n",
    "#dill.load_session('item4_updated_p2.db')"
   ]
  }
 ],
 "metadata": {
  "kernelspec": {
   "display_name": "Python 3",
   "language": "python",
   "name": "python3"
  },
  "language_info": {
   "codemirror_mode": {
    "name": "ipython",
    "version": 3
   },
   "file_extension": ".py",
   "mimetype": "text/x-python",
   "name": "python",
   "nbconvert_exporter": "python",
   "pygments_lexer": "ipython3",
   "version": "3.8.5"
  }
 },
 "nbformat": 4,
 "nbformat_minor": 2
}
