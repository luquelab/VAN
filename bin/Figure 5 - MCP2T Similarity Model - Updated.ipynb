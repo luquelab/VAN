{
 "cells": [
  {
   "cell_type": "markdown",
   "metadata": {},
   "source": [
    "##### Author:\n",
    "    Diana Y. Lee, Luque Lab, SDSU\n",
    "    dlee@sdsu.edu\n",
    "\n",
    "##### Purpose:\n",
    "    Creates an algorithm to assess T-number of a phage based on similarity of MCP\n",
    "    Assesses the accuracy of that algorithm\n",
    "    Creates the base illustrations for Figure 4 and related SI of the paper in preparation titled, [TBD]\n",
    "\n",
    "##### Requires: \n",
    "    phage_functions.ipynb \n",
    "    data\\PHAGE_TABLE1.xlsx : phage data with indexes, genome size, and translations\n",
    "    data\\MCPdbblastpe001.csv : Similarity table from blastp (e value = 0.001)\n",
    "    data\\PhageTable_Remove.xlsx : lists the phages that needed to be pulled from the data after verifying the MCPs\n",
    "    \n",
    "##### Database file: \n",
    "    item3_update.db\n",
    "    \n",
    "##### Creates:\n",
    "    Fig4a-Tdist vs Similarity(e.001).png\n",
    "    Fig4a-Tdist vs Similarity(e.001) violin.png\n",
    "    Fig4SI-Tnum vs Similarity.png\n",
    "    Fig4c-Similarity vs accuracy and predictions.svg\n",
    "    Fig4d-Similarity percent per T.svg\n",
    "    Fig4d-Similarity percent per T violin.svg    "
   ]
  },
  {
   "cell_type": "code",
   "execution_count": 1,
   "metadata": {},
   "outputs": [],
   "source": [
    "# basic imports\n",
    "import pandas as pd\n",
    "import numpy as np\n",
    "import matplotlib.pyplot as plt\n",
    "%matplotlib inline\n",
    "np.random.seed(8)\n",
    "import math\n",
    "import copy\n",
    "import csv\n",
    "import time\n",
    "import seaborn as sn"
   ]
  },
  {
   "cell_type": "code",
   "execution_count": 2,
   "metadata": {},
   "outputs": [],
   "source": [
    "from ipynb.fs.full.phage_functions import tNearest\n",
    "from ipynb.fs.full.phage_functions import tNearestValid\n",
    "from ipynb.fs.full.phage_functions import tModel\n",
    "from ipynb.fs.full.phage_functions import tNum\n",
    "from ipynb.fs.full.phage_functions import tList"
   ]
  },
  {
   "cell_type": "code",
   "execution_count": 3,
   "metadata": {},
   "outputs": [],
   "source": [
    "# set the fontsize\n",
    "font1 = 22\n",
    "font2 = 18\n",
    "font3 = 14"
   ]
  },
  {
   "cell_type": "code",
   "execution_count": 4,
   "metadata": {},
   "outputs": [],
   "source": [
    "#create a list of possible, valid T-numbers, as well as separate t-number lists for T_h and T_t \n",
    "tps2, tps, tps_t, tps_h = tList(7)"
   ]
  },
  {
   "cell_type": "code",
   "execution_count": 5,
   "metadata": {},
   "outputs": [],
   "source": [
    "# error margin\n",
    "errMar = 0.09"
   ]
  },
  {
   "cell_type": "code",
   "execution_count": 6,
   "metadata": {},
   "outputs": [],
   "source": [
    "# function to clean up an NCBI alignment text file\n",
    "\n",
    "def newAlign(sim_table):\n",
    "    \n",
    "    # rename the columns\n",
    "    sim_table.columns = ['query from', 'query to', 'percent identity', 'alignment length','mismatches', 'gap opens', 'query start', 'query end', 's start', 's end', 'evalue', 'bit score', 'percent positives']\n",
    "    # create a boolean for each line that is true if it starts with 'ph'\n",
    "    is_ph =  sim_table['query from']>'ph'\n",
    "    # create a new table based on that boolean filter\n",
    "    sim_ph = sim_table[is_ph]\n",
    "    # create a boolean for each line that compares to itself\n",
    "    is_nxn =  sim_table['query from']!=sim_table['query to']\n",
    "    # apply the second filter\n",
    "    sim_ph = sim_ph[is_nxn]\n",
    "    # strip the 'ph' from the table\n",
    "    sim_ph[\"query from\"] = sim_ph[\"query from\"].map(lambda x: x.lstrip('ph'))\n",
    "    sim_ph[\"query to\"] = sim_ph[\"query to\"].map(lambda x: x.lstrip('ph'))\n",
    "\n",
    "    print(sim_ph.shape)\n",
    "    return sim_ph\n",
    "    #print(sim_ph.head())"
   ]
  },
  {
   "cell_type": "code",
   "execution_count": 7,
   "metadata": {},
   "outputs": [],
   "source": [
    "# function to create a matrix of pairwise percent similarity (nxn)\n",
    "\n",
    "def pairwiseMatrix(sim_table,nn):\n",
    "    sLines = len(sim_table)\n",
    "    tProx = np.zeros((nn,nn))\n",
    "\n",
    "    for i in range(sLines):\n",
    "        jVal = int(np.asarray(sim_table[\"query from\"])[i])\n",
    "        kVal = int(np.asarray(sim_table[\"query to\"])[i])\n",
    "        \n",
    "        simVal = round(np.asarray(sim_table[\"percent identity\"])[i],3)\n",
    "\n",
    "        if (simVal>tProx[jVal][kVal]):\n",
    "            tProx[jVal][kVal] = round(np.asarray(sim_table[\"percent identity\"])[i],3)\n",
    "        if (simVal>tProx[kVal][jVal]):\n",
    "            tProx[kVal][jVal] = round(np.asarray(sim_table[\"percent identity\"])[i],3)\n",
    "\n",
    "# now do it again for to-from, since there isn't symmetry in the results\n",
    "    for i in range(sLines):\n",
    "        jVal = int(np.asarray(sim_table[\"query to\"])[i])\n",
    "        kVal = int(np.asarray(sim_table[\"query from\"])[i])\n",
    "        \n",
    "        simVal = round(np.asarray(sim_table[\"percent identity\"])[i],3)\n",
    "\n",
    "        if (simVal>tProx[jVal][kVal]):\n",
    "            tProx[jVal][kVal] = round(np.asarray(sim_table[\"percent identity\"])[i],3)\n",
    "        if (simVal>tProx[kVal][jVal]):\n",
    "            tProx[kVal][jVal] = round(np.asarray(sim_table[\"percent identity\"])[i],3)\n",
    "           \n",
    "            \n",
    "    return tProx"
   ]
  },
  {
   "cell_type": "code",
   "execution_count": 8,
   "metadata": {},
   "outputs": [],
   "source": [
    "# function to separate the similarity table into 20% increments\n",
    "\n",
    "def Percentile20(tProx, Tij, n2):\n",
    "\n",
    "    allResults01 = []\n",
    "    Series01 = []\n",
    "    Series02 = []\n",
    "    Series03 = []\n",
    "    Series04 = []\n",
    "    Series05 = []\n",
    "\n",
    "    for i in range(n2):\n",
    "        for j in range(n2):\n",
    "            if i < j:\n",
    "                allResults01.append(i);\n",
    "                allResults01.append(j);\n",
    "                allResults01.append(tProx[i][j]);\n",
    "                allResults01.append(Tij[i][j]);\n",
    "                if(tProx[i][j] <= 20.0):\n",
    "                    Series01.append(Tij[i][j]);\n",
    "                if(tProx[i][j] > 20.0 and tProx[i][j]<=40.0):\n",
    "                    Series02.append(Tij[i][j]);\n",
    "                if(tProx[i][j] > 40.0 and tProx[i][j]<=60.0):\n",
    "                    Series03.append(Tij[i][j]);\n",
    "                if(tProx[i][j] > 60.0 and tProx[i][j]<=80.0):\n",
    "                    Series04.append(Tij[i][j]);\n",
    "                if(tProx[i][j] > 80.0 and tProx[i][j]<=100.0):\n",
    "                    Series05.append(Tij[i][j]);\n",
    "\n",
    "\n",
    "    allResults01 = np.asarray(allResults01);\n",
    "    Series01 = np.asarray(Series01);\n",
    "    Series02 = np.asarray(Series02);\n",
    "    Series03 = np.asarray(Series03);\n",
    "    Series04 = np.asarray(Series04);\n",
    "    Series05 = np.asarray(Series05);\n",
    "\n",
    "    plotData = [Series01,Series02,Series03,Series04,Series05]\n",
    "\n",
    "    from scipy.special import comb\n",
    "    nn = (int)(comb(n2,2));\n",
    "\n",
    "    allResults = np.reshape(np.ravel(allResults01), (nn, 4));\n",
    "    allResults = np.asarray(allResults);\n",
    "    \n",
    "    return allResults, plotData"
   ]
  },
  {
   "cell_type": "code",
   "execution_count": 9,
   "metadata": {},
   "outputs": [
    {
     "name": "stderr",
     "output_type": "stream",
     "text": [
      "<ipython-input-6-d1701fe3f07f>:14: UserWarning: Boolean Series key will be reindexed to match DataFrame index.\n",
      "  sim_ph = sim_ph[is_nxn]\n"
     ]
    },
    {
     "name": "stdout",
     "output_type": "stream",
     "text": [
      "(22035, 13)\n"
     ]
    }
   ],
   "source": [
    "# import phage data\n",
    "phageData = pd.read_excel(\"data\\PHAGE_TABLE1.xlsx\")\n",
    "n = len(phageData)\n",
    "\n",
    "# isolate the genome size\n",
    "genomebps = np.asarray(phageData[\"COMPLETE_GENOME_BP\"])\n",
    "\n",
    "# create T number table for raw T number\n",
    "tRaw = np.zeros((n))\n",
    "for i in range(n):\n",
    "    tRaw[i] = tNum(genomebps[i]/1000,0)\n",
    "\n",
    "# create T number table for nearest valid T number\n",
    "tNear = np.zeros((n))\n",
    "for i in range(n):\n",
    "    tNear[i] = tNum(genomebps[i]/1000,1)\n",
    "\n",
    "# create T number table for nearest valid T number within error margin\n",
    "tNearV = np.zeros((n))\n",
    "for i in range(n):\n",
    "    tNearV[i] = tNum(genomebps[i]/1000,2,errMar)\n",
    "    \n",
    "# isolate the MCP translation data\n",
    "translation=np.asarray(phageData[\"TRANSLATION\"])\n",
    "\n",
    "# import blastp hit table with an e value = 0.001\n",
    "sim_e001 = pd.read_csv(\"data\\MCPdbblastpe001.csv\")\n",
    "\n",
    "# clean up the tables\n",
    "sim_ph_e001 = newAlign(sim_e001)\n",
    "\n",
    "# create pairwise similarity matrices\n",
    "tProx_e001 = pairwiseMatrix(sim_ph_e001,n)\n",
    "\n",
    "# create a matrix of pairwise difference in T-number (nxn)\n",
    "Tij_dist = np.zeros((n,n))\n",
    "for i in range(n):\n",
    "    for j in range(n):\n",
    "        Tij_dist[i][j]=abs(tRaw[i]-tRaw[j]);\n",
    "\n",
    "# create a matrix of pairwise *average relative* difference in T-number (nxn)\n",
    "Tij_dist2 = np.zeros((n,n))\n",
    "for i in range(n):\n",
    "    for j in range(n):\n",
    "        Tij_dist2[i][j]=0.5*((abs(tRaw[i]-tRaw[j])/tRaw[i])+(abs(tRaw[i]-tRaw[j])/tRaw[j]));"
   ]
  },
  {
   "cell_type": "code",
   "execution_count": 10,
   "metadata": {},
   "outputs": [],
   "source": [
    "ph_num = np.arange(0,n)"
   ]
  },
  {
   "cell_type": "code",
   "execution_count": 11,
   "metadata": {},
   "outputs": [
    {
     "data": {
      "text/html": [
       "<div>\n",
       "<style scoped>\n",
       "    .dataframe tbody tr th:only-of-type {\n",
       "        vertical-align: middle;\n",
       "    }\n",
       "\n",
       "    .dataframe tbody tr th {\n",
       "        vertical-align: top;\n",
       "    }\n",
       "\n",
       "    .dataframe thead tr th {\n",
       "        text-align: left;\n",
       "    }\n",
       "</style>\n",
       "<table border=\"1\" class=\"dataframe\">\n",
       "  <thead>\n",
       "    <tr>\n",
       "      <th></th>\n",
       "      <th>0</th>\n",
       "      <th>1</th>\n",
       "      <th>2</th>\n",
       "      <th>3</th>\n",
       "      <th>4</th>\n",
       "      <th>5</th>\n",
       "      <th>6</th>\n",
       "      <th>7</th>\n",
       "      <th>8</th>\n",
       "      <th>9</th>\n",
       "      <th>...</th>\n",
       "      <th>659</th>\n",
       "      <th>660</th>\n",
       "      <th>661</th>\n",
       "      <th>662</th>\n",
       "      <th>663</th>\n",
       "      <th>664</th>\n",
       "      <th>665</th>\n",
       "      <th>666</th>\n",
       "      <th>667</th>\n",
       "      <th>668</th>\n",
       "    </tr>\n",
       "  </thead>\n",
       "  <tbody>\n",
       "    <tr>\n",
       "      <th>0</th>\n",
       "      <td>0.000000</td>\n",
       "      <td>0.415724</td>\n",
       "      <td>0.168131</td>\n",
       "      <td>0.156876</td>\n",
       "      <td>1.680796</td>\n",
       "      <td>0.128310</td>\n",
       "      <td>0.289611</td>\n",
       "      <td>0.412925</td>\n",
       "      <td>1.568309</td>\n",
       "      <td>1.644238</td>\n",
       "      <td>...</td>\n",
       "      <td>0.269183</td>\n",
       "      <td>0.098762</td>\n",
       "      <td>0.261789</td>\n",
       "      <td>0.256341</td>\n",
       "      <td>0.305282</td>\n",
       "      <td>0.572481</td>\n",
       "      <td>0.725925</td>\n",
       "      <td>0.224651</td>\n",
       "      <td>0.022685</td>\n",
       "      <td>0.480278</td>\n",
       "    </tr>\n",
       "    <tr>\n",
       "      <th>1</th>\n",
       "      <td>0.415724</td>\n",
       "      <td>0.000000</td>\n",
       "      <td>0.239478</td>\n",
       "      <td>0.250916</td>\n",
       "      <td>1.007190</td>\n",
       "      <td>0.280175</td>\n",
       "      <td>0.119167</td>\n",
       "      <td>0.002586</td>\n",
       "      <td>0.925188</td>\n",
       "      <td>0.980621</td>\n",
       "      <td>...</td>\n",
       "      <td>0.139005</td>\n",
       "      <td>0.310789</td>\n",
       "      <td>0.146223</td>\n",
       "      <td>0.151555</td>\n",
       "      <td>0.104053</td>\n",
       "      <td>0.140953</td>\n",
       "      <td>0.272444</td>\n",
       "      <td>0.182794</td>\n",
       "      <td>0.391264</td>\n",
       "      <td>0.058942</td>\n",
       "    </tr>\n",
       "    <tr>\n",
       "      <th>2</th>\n",
       "      <td>0.168131</td>\n",
       "      <td>0.239478</td>\n",
       "      <td>0.000000</td>\n",
       "      <td>0.011109</td>\n",
       "      <td>1.375560</td>\n",
       "      <td>0.039398</td>\n",
       "      <td>0.118636</td>\n",
       "      <td>0.236820</td>\n",
       "      <td>1.277598</td>\n",
       "      <td>1.343756</td>\n",
       "      <td>...</td>\n",
       "      <td>0.098846</td>\n",
       "      <td>0.068800</td>\n",
       "      <td>0.091667</td>\n",
       "      <td>0.086373</td>\n",
       "      <td>0.133776</td>\n",
       "      <td>0.386784</td>\n",
       "      <td>0.528354</td>\n",
       "      <td>0.055483</td>\n",
       "      <td>0.145171</td>\n",
       "      <td>0.300503</td>\n",
       "    </tr>\n",
       "    <tr>\n",
       "      <th>3</th>\n",
       "      <td>0.156876</td>\n",
       "      <td>0.250916</td>\n",
       "      <td>0.011109</td>\n",
       "      <td>0.000000</td>\n",
       "      <td>1.394538</td>\n",
       "      <td>0.028282</td>\n",
       "      <td>0.129830</td>\n",
       "      <td>0.248251</td>\n",
       "      <td>1.295701</td>\n",
       "      <td>1.362447</td>\n",
       "      <td>...</td>\n",
       "      <td>0.110015</td>\n",
       "      <td>0.057669</td>\n",
       "      <td>0.102828</td>\n",
       "      <td>0.097529</td>\n",
       "      <td>0.144992</td>\n",
       "      <td>0.398719</td>\n",
       "      <td>0.540951</td>\n",
       "      <td>0.066613</td>\n",
       "      <td>0.133954</td>\n",
       "      <td>0.312121</td>\n",
       "    </tr>\n",
       "    <tr>\n",
       "      <th>4</th>\n",
       "      <td>1.680796</td>\n",
       "      <td>1.007190</td>\n",
       "      <td>1.375560</td>\n",
       "      <td>1.394538</td>\n",
       "      <td>0.000000</td>\n",
       "      <td>1.443629</td>\n",
       "      <td>1.183450</td>\n",
       "      <td>1.010863</td>\n",
       "      <td>0.059010</td>\n",
       "      <td>0.018845</td>\n",
       "      <td>...</td>\n",
       "      <td>1.214164</td>\n",
       "      <td>1.495816</td>\n",
       "      <td>1.225436</td>\n",
       "      <td>1.233794</td>\n",
       "      <td>1.160311</td>\n",
       "      <td>0.817090</td>\n",
       "      <td>0.657219</td>\n",
       "      <td>1.283319</td>\n",
       "      <td>1.636862</td>\n",
       "      <td>0.925280</td>\n",
       "    </tr>\n",
       "  </tbody>\n",
       "</table>\n",
       "<p>5 rows × 669 columns</p>\n",
       "</div>"
      ],
      "text/plain": [
       "        0         1         2         3         4         5         6    \\\n",
       "0  0.000000  0.415724  0.168131  0.156876  1.680796  0.128310  0.289611   \n",
       "1  0.415724  0.000000  0.239478  0.250916  1.007190  0.280175  0.119167   \n",
       "2  0.168131  0.239478  0.000000  0.011109  1.375560  0.039398  0.118636   \n",
       "3  0.156876  0.250916  0.011109  0.000000  1.394538  0.028282  0.129830   \n",
       "4  1.680796  1.007190  1.375560  1.394538  0.000000  1.443629  1.183450   \n",
       "\n",
       "        7         8         9    ...       659       660       661       662  \\\n",
       "0  0.412925  1.568309  1.644238  ...  0.269183  0.098762  0.261789  0.256341   \n",
       "1  0.002586  0.925188  0.980621  ...  0.139005  0.310789  0.146223  0.151555   \n",
       "2  0.236820  1.277598  1.343756  ...  0.098846  0.068800  0.091667  0.086373   \n",
       "3  0.248251  1.295701  1.362447  ...  0.110015  0.057669  0.102828  0.097529   \n",
       "4  1.010863  0.059010  0.018845  ...  1.214164  1.495816  1.225436  1.233794   \n",
       "\n",
       "        663       664       665       666       667       668  \n",
       "0  0.305282  0.572481  0.725925  0.224651  0.022685  0.480278  \n",
       "1  0.104053  0.140953  0.272444  0.182794  0.391264  0.058942  \n",
       "2  0.133776  0.386784  0.528354  0.055483  0.145171  0.300503  \n",
       "3  0.144992  0.398719  0.540951  0.066613  0.133954  0.312121  \n",
       "4  1.160311  0.817090  0.657219  1.283319  1.636862  0.925280  \n",
       "\n",
       "[5 rows x 669 columns]"
      ]
     },
     "execution_count": 11,
     "metadata": {},
     "output_type": "execute_result"
    }
   ],
   "source": [
    "Tij_distDF2 = pd.DataFrame(Tij_dist2, columns=[ph_num])\n",
    "\n",
    "Tij_distDF2[:5]"
   ]
  },
  {
   "cell_type": "code",
   "execution_count": 12,
   "metadata": {},
   "outputs": [
    {
     "data": {
      "text/html": [
       "<div>\n",
       "<style scoped>\n",
       "    .dataframe tbody tr th:only-of-type {\n",
       "        vertical-align: middle;\n",
       "    }\n",
       "\n",
       "    .dataframe tbody tr th {\n",
       "        vertical-align: top;\n",
       "    }\n",
       "\n",
       "    .dataframe thead tr th {\n",
       "        text-align: left;\n",
       "    }\n",
       "</style>\n",
       "<table border=\"1\" class=\"dataframe\">\n",
       "  <thead>\n",
       "    <tr>\n",
       "      <th></th>\n",
       "      <th>0</th>\n",
       "      <th>1</th>\n",
       "      <th>2</th>\n",
       "      <th>3</th>\n",
       "      <th>4</th>\n",
       "      <th>5</th>\n",
       "      <th>6</th>\n",
       "      <th>7</th>\n",
       "      <th>8</th>\n",
       "      <th>9</th>\n",
       "      <th>...</th>\n",
       "      <th>659</th>\n",
       "      <th>660</th>\n",
       "      <th>661</th>\n",
       "      <th>662</th>\n",
       "      <th>663</th>\n",
       "      <th>664</th>\n",
       "      <th>665</th>\n",
       "      <th>666</th>\n",
       "      <th>667</th>\n",
       "      <th>668</th>\n",
       "    </tr>\n",
       "  </thead>\n",
       "  <tbody>\n",
       "    <tr>\n",
       "      <th>0</th>\n",
       "      <td>0.000000</td>\n",
       "      <td>2.615884</td>\n",
       "      <td>0.955545</td>\n",
       "      <td>0.887039</td>\n",
       "      <td>13.830068</td>\n",
       "      <td>0.716051</td>\n",
       "      <td>1.734693</td>\n",
       "      <td>2.595583</td>\n",
       "      <td>12.737600</td>\n",
       "      <td>13.473974</td>\n",
       "      <td>...</td>\n",
       "      <td>1.598707</td>\n",
       "      <td>0.543574</td>\n",
       "      <td>1.549971</td>\n",
       "      <td>1.514230</td>\n",
       "      <td>1.840330</td>\n",
       "      <td>3.801678</td>\n",
       "      <td>5.044199</td>\n",
       "      <td>1.309134</td>\n",
       "      <td>0.120341</td>\n",
       "      <td>3.092895</td>\n",
       "    </tr>\n",
       "    <tr>\n",
       "      <th>1</th>\n",
       "      <td>2.615884</td>\n",
       "      <td>0.000000</td>\n",
       "      <td>1.660339</td>\n",
       "      <td>1.728845</td>\n",
       "      <td>11.214184</td>\n",
       "      <td>1.899834</td>\n",
       "      <td>0.881191</td>\n",
       "      <td>0.020301</td>\n",
       "      <td>10.121715</td>\n",
       "      <td>10.858090</td>\n",
       "      <td>...</td>\n",
       "      <td>1.017177</td>\n",
       "      <td>2.072310</td>\n",
       "      <td>1.065913</td>\n",
       "      <td>1.101655</td>\n",
       "      <td>0.775554</td>\n",
       "      <td>1.185793</td>\n",
       "      <td>2.428314</td>\n",
       "      <td>1.306750</td>\n",
       "      <td>2.495543</td>\n",
       "      <td>0.477011</td>\n",
       "    </tr>\n",
       "    <tr>\n",
       "      <th>2</th>\n",
       "      <td>0.955545</td>\n",
       "      <td>1.660339</td>\n",
       "      <td>0.000000</td>\n",
       "      <td>0.068506</td>\n",
       "      <td>12.874523</td>\n",
       "      <td>0.239495</td>\n",
       "      <td>0.779148</td>\n",
       "      <td>1.640038</td>\n",
       "      <td>11.782054</td>\n",
       "      <td>12.518429</td>\n",
       "      <td>...</td>\n",
       "      <td>0.643162</td>\n",
       "      <td>0.411971</td>\n",
       "      <td>0.594426</td>\n",
       "      <td>0.558684</td>\n",
       "      <td>0.884784</td>\n",
       "      <td>2.846132</td>\n",
       "      <td>4.088653</td>\n",
       "      <td>0.353589</td>\n",
       "      <td>0.835204</td>\n",
       "      <td>2.137350</td>\n",
       "    </tr>\n",
       "    <tr>\n",
       "      <th>3</th>\n",
       "      <td>0.887039</td>\n",
       "      <td>1.728845</td>\n",
       "      <td>0.068506</td>\n",
       "      <td>0.000000</td>\n",
       "      <td>12.943029</td>\n",
       "      <td>0.170988</td>\n",
       "      <td>0.847654</td>\n",
       "      <td>1.708544</td>\n",
       "      <td>11.850561</td>\n",
       "      <td>12.586935</td>\n",
       "      <td>...</td>\n",
       "      <td>0.711668</td>\n",
       "      <td>0.343465</td>\n",
       "      <td>0.662932</td>\n",
       "      <td>0.627191</td>\n",
       "      <td>0.953291</td>\n",
       "      <td>2.914639</td>\n",
       "      <td>4.157160</td>\n",
       "      <td>0.422095</td>\n",
       "      <td>0.766698</td>\n",
       "      <td>2.205856</td>\n",
       "    </tr>\n",
       "    <tr>\n",
       "      <th>4</th>\n",
       "      <td>13.830068</td>\n",
       "      <td>11.214184</td>\n",
       "      <td>12.874523</td>\n",
       "      <td>12.943029</td>\n",
       "      <td>0.000000</td>\n",
       "      <td>13.114017</td>\n",
       "      <td>12.095375</td>\n",
       "      <td>11.234485</td>\n",
       "      <td>1.092468</td>\n",
       "      <td>0.356094</td>\n",
       "      <td>...</td>\n",
       "      <td>12.231361</td>\n",
       "      <td>13.286494</td>\n",
       "      <td>12.280097</td>\n",
       "      <td>12.315838</td>\n",
       "      <td>11.989738</td>\n",
       "      <td>10.028390</td>\n",
       "      <td>8.785869</td>\n",
       "      <td>12.520934</td>\n",
       "      <td>13.709726</td>\n",
       "      <td>10.737173</td>\n",
       "    </tr>\n",
       "  </tbody>\n",
       "</table>\n",
       "<p>5 rows × 669 columns</p>\n",
       "</div>"
      ],
      "text/plain": [
       "         0          1          2          3          4          5    \\\n",
       "0   0.000000   2.615884   0.955545   0.887039  13.830068   0.716051   \n",
       "1   2.615884   0.000000   1.660339   1.728845  11.214184   1.899834   \n",
       "2   0.955545   1.660339   0.000000   0.068506  12.874523   0.239495   \n",
       "3   0.887039   1.728845   0.068506   0.000000  12.943029   0.170988   \n",
       "4  13.830068  11.214184  12.874523  12.943029   0.000000  13.114017   \n",
       "\n",
       "         6          7          8          9    ...        659        660  \\\n",
       "0   1.734693   2.595583  12.737600  13.473974  ...   1.598707   0.543574   \n",
       "1   0.881191   0.020301  10.121715  10.858090  ...   1.017177   2.072310   \n",
       "2   0.779148   1.640038  11.782054  12.518429  ...   0.643162   0.411971   \n",
       "3   0.847654   1.708544  11.850561  12.586935  ...   0.711668   0.343465   \n",
       "4  12.095375  11.234485   1.092468   0.356094  ...  12.231361  13.286494   \n",
       "\n",
       "         661        662        663        664       665        666        667  \\\n",
       "0   1.549971   1.514230   1.840330   3.801678  5.044199   1.309134   0.120341   \n",
       "1   1.065913   1.101655   0.775554   1.185793  2.428314   1.306750   2.495543   \n",
       "2   0.594426   0.558684   0.884784   2.846132  4.088653   0.353589   0.835204   \n",
       "3   0.662932   0.627191   0.953291   2.914639  4.157160   0.422095   0.766698   \n",
       "4  12.280097  12.315838  11.989738  10.028390  8.785869  12.520934  13.709726   \n",
       "\n",
       "         668  \n",
       "0   3.092895  \n",
       "1   0.477011  \n",
       "2   2.137350  \n",
       "3   2.205856  \n",
       "4  10.737173  \n",
       "\n",
       "[5 rows x 669 columns]"
      ]
     },
     "execution_count": 12,
     "metadata": {},
     "output_type": "execute_result"
    }
   ],
   "source": [
    "Tij_distDF = pd.DataFrame(Tij_dist, columns=[ph_num])\n",
    "\n",
    "Tij_distDF[:5]"
   ]
  },
  {
   "cell_type": "code",
   "execution_count": 13,
   "metadata": {},
   "outputs": [
    {
     "data": {
      "text/html": [
       "<div>\n",
       "<style scoped>\n",
       "    .dataframe tbody tr th:only-of-type {\n",
       "        vertical-align: middle;\n",
       "    }\n",
       "\n",
       "    .dataframe tbody tr th {\n",
       "        vertical-align: top;\n",
       "    }\n",
       "\n",
       "    .dataframe thead tr th {\n",
       "        text-align: left;\n",
       "    }\n",
       "</style>\n",
       "<table border=\"1\" class=\"dataframe\">\n",
       "  <thead>\n",
       "    <tr>\n",
       "      <th></th>\n",
       "      <th>0</th>\n",
       "      <th>1</th>\n",
       "      <th>2</th>\n",
       "      <th>3</th>\n",
       "      <th>4</th>\n",
       "      <th>5</th>\n",
       "      <th>6</th>\n",
       "      <th>7</th>\n",
       "      <th>8</th>\n",
       "      <th>9</th>\n",
       "      <th>...</th>\n",
       "      <th>659</th>\n",
       "      <th>660</th>\n",
       "      <th>661</th>\n",
       "      <th>662</th>\n",
       "      <th>663</th>\n",
       "      <th>664</th>\n",
       "      <th>665</th>\n",
       "      <th>666</th>\n",
       "      <th>667</th>\n",
       "      <th>668</th>\n",
       "    </tr>\n",
       "  </thead>\n",
       "  <tbody>\n",
       "    <tr>\n",
       "      <th>0</th>\n",
       "      <td>0.0</td>\n",
       "      <td>0.0</td>\n",
       "      <td>0.0</td>\n",
       "      <td>0.0</td>\n",
       "      <td>0.0</td>\n",
       "      <td>0.0</td>\n",
       "      <td>0.0</td>\n",
       "      <td>0.0</td>\n",
       "      <td>0.0</td>\n",
       "      <td>0.0</td>\n",
       "      <td>...</td>\n",
       "      <td>0.000</td>\n",
       "      <td>0.0</td>\n",
       "      <td>0.0</td>\n",
       "      <td>0.000</td>\n",
       "      <td>0.000</td>\n",
       "      <td>0.0</td>\n",
       "      <td>0.0</td>\n",
       "      <td>0.0</td>\n",
       "      <td>99.054</td>\n",
       "      <td>0.0</td>\n",
       "    </tr>\n",
       "    <tr>\n",
       "      <th>1</th>\n",
       "      <td>0.0</td>\n",
       "      <td>0.0</td>\n",
       "      <td>0.0</td>\n",
       "      <td>0.0</td>\n",
       "      <td>0.0</td>\n",
       "      <td>0.0</td>\n",
       "      <td>0.0</td>\n",
       "      <td>0.0</td>\n",
       "      <td>0.0</td>\n",
       "      <td>0.0</td>\n",
       "      <td>...</td>\n",
       "      <td>0.000</td>\n",
       "      <td>0.0</td>\n",
       "      <td>0.0</td>\n",
       "      <td>0.000</td>\n",
       "      <td>0.000</td>\n",
       "      <td>0.0</td>\n",
       "      <td>0.0</td>\n",
       "      <td>0.0</td>\n",
       "      <td>0.000</td>\n",
       "      <td>0.0</td>\n",
       "    </tr>\n",
       "    <tr>\n",
       "      <th>2</th>\n",
       "      <td>0.0</td>\n",
       "      <td>0.0</td>\n",
       "      <td>0.0</td>\n",
       "      <td>0.0</td>\n",
       "      <td>0.0</td>\n",
       "      <td>0.0</td>\n",
       "      <td>0.0</td>\n",
       "      <td>0.0</td>\n",
       "      <td>0.0</td>\n",
       "      <td>0.0</td>\n",
       "      <td>...</td>\n",
       "      <td>0.000</td>\n",
       "      <td>0.0</td>\n",
       "      <td>0.0</td>\n",
       "      <td>0.000</td>\n",
       "      <td>0.000</td>\n",
       "      <td>0.0</td>\n",
       "      <td>0.0</td>\n",
       "      <td>0.0</td>\n",
       "      <td>0.000</td>\n",
       "      <td>0.0</td>\n",
       "    </tr>\n",
       "    <tr>\n",
       "      <th>3</th>\n",
       "      <td>0.0</td>\n",
       "      <td>0.0</td>\n",
       "      <td>0.0</td>\n",
       "      <td>0.0</td>\n",
       "      <td>0.0</td>\n",
       "      <td>0.0</td>\n",
       "      <td>0.0</td>\n",
       "      <td>0.0</td>\n",
       "      <td>0.0</td>\n",
       "      <td>0.0</td>\n",
       "      <td>...</td>\n",
       "      <td>28.344</td>\n",
       "      <td>0.0</td>\n",
       "      <td>0.0</td>\n",
       "      <td>23.047</td>\n",
       "      <td>27.068</td>\n",
       "      <td>0.0</td>\n",
       "      <td>0.0</td>\n",
       "      <td>0.0</td>\n",
       "      <td>0.000</td>\n",
       "      <td>0.0</td>\n",
       "    </tr>\n",
       "    <tr>\n",
       "      <th>4</th>\n",
       "      <td>0.0</td>\n",
       "      <td>0.0</td>\n",
       "      <td>0.0</td>\n",
       "      <td>0.0</td>\n",
       "      <td>0.0</td>\n",
       "      <td>0.0</td>\n",
       "      <td>0.0</td>\n",
       "      <td>0.0</td>\n",
       "      <td>0.0</td>\n",
       "      <td>0.0</td>\n",
       "      <td>...</td>\n",
       "      <td>0.000</td>\n",
       "      <td>0.0</td>\n",
       "      <td>0.0</td>\n",
       "      <td>0.000</td>\n",
       "      <td>0.000</td>\n",
       "      <td>0.0</td>\n",
       "      <td>0.0</td>\n",
       "      <td>0.0</td>\n",
       "      <td>0.000</td>\n",
       "      <td>0.0</td>\n",
       "    </tr>\n",
       "  </tbody>\n",
       "</table>\n",
       "<p>5 rows × 669 columns</p>\n",
       "</div>"
      ],
      "text/plain": [
       "   0    1    2    3    4    5    6    7    8    9    ...     659  660  661  \\\n",
       "0  0.0  0.0  0.0  0.0  0.0  0.0  0.0  0.0  0.0  0.0  ...   0.000  0.0  0.0   \n",
       "1  0.0  0.0  0.0  0.0  0.0  0.0  0.0  0.0  0.0  0.0  ...   0.000  0.0  0.0   \n",
       "2  0.0  0.0  0.0  0.0  0.0  0.0  0.0  0.0  0.0  0.0  ...   0.000  0.0  0.0   \n",
       "3  0.0  0.0  0.0  0.0  0.0  0.0  0.0  0.0  0.0  0.0  ...  28.344  0.0  0.0   \n",
       "4  0.0  0.0  0.0  0.0  0.0  0.0  0.0  0.0  0.0  0.0  ...   0.000  0.0  0.0   \n",
       "\n",
       "      662     663  664  665  666     667  668  \n",
       "0   0.000   0.000  0.0  0.0  0.0  99.054  0.0  \n",
       "1   0.000   0.000  0.0  0.0  0.0   0.000  0.0  \n",
       "2   0.000   0.000  0.0  0.0  0.0   0.000  0.0  \n",
       "3  23.047  27.068  0.0  0.0  0.0   0.000  0.0  \n",
       "4   0.000   0.000  0.0  0.0  0.0   0.000  0.0  \n",
       "\n",
       "[5 rows x 669 columns]"
      ]
     },
     "execution_count": 13,
     "metadata": {},
     "output_type": "execute_result"
    }
   ],
   "source": [
    "tProx_e001DF = pd.DataFrame(tProx_e001, columns=[ph_num])\n",
    "tProx_e001DF[:5]"
   ]
  },
  {
   "cell_type": "code",
   "execution_count": 14,
   "metadata": {},
   "outputs": [
    {
     "data": {
      "text/plain": [
       "52"
      ]
     },
     "execution_count": 14,
     "metadata": {},
     "output_type": "execute_result"
    }
   ],
   "source": [
    "phages_toRemove = pd.read_excel(\"data\\PhageTable_Remove.xlsx\")\n",
    "len(phages_toRemove)"
   ]
  },
  {
   "cell_type": "code",
   "execution_count": 15,
   "metadata": {},
   "outputs": [
    {
     "name": "stdout",
     "output_type": "stream",
     "text": [
      "(617, 617)\n",
      "(617, 617)\n",
      "(617, 617)\n"
     ]
    }
   ],
   "source": [
    "# remove the phages from both the similarity and T-difference dataframes\n",
    "for i in range(len(phages_toRemove['phage_num'])):\n",
    "    rmP = phages_toRemove.iloc[i]['phage_num']\n",
    "    tProx_e001DF = tProx_e001DF.drop([rmP], axis=1).drop([rmP], axis=0)\n",
    "    Tij_distDF = Tij_distDF.drop([rmP], axis=1).drop([rmP], axis=0)\n",
    "    Tij_distDF2 = Tij_distDF2.drop([rmP], axis=1).drop([rmP], axis=0)\n",
    "print(Tij_distDF.shape)\n",
    "print(Tij_distDF2.shape)\n",
    "print(tProx_e001DF.shape)"
   ]
  },
  {
   "cell_type": "code",
   "execution_count": 16,
   "metadata": {},
   "outputs": [],
   "source": [
    "# break up both table into 20 percentile increments\n",
    "n = len(phageData)-len(phages_toRemove)\n",
    "all_e001, plotdata_e001 = Percentile20(np.asarray(tProx_e001DF), np.asarray(Tij_distDF2), n)"
   ]
  },
  {
   "cell_type": "code",
   "execution_count": 17,
   "metadata": {},
   "outputs": [
    {
     "data": {
      "text/plain": [
       "array([ 1.  ,  1.33,  3.  ,  4.  ,  5.33,  7.  ,  9.  ,  9.33, 12.  ,\n",
       "       13.  , 16.  , 17.33, 19.  , 21.  , 21.33, 25.  , 25.33, 27.  ,\n",
       "       28.  , 31.  , 33.33,  0.  ])"
      ]
     },
     "execution_count": 17,
     "metadata": {},
     "output_type": "execute_result"
    }
   ],
   "source": [
    "# create a truncated t list with zero at the end\n",
    "tps3 = tps[:21]\n",
    "tps3 = np.insert(tps3,21,0)\n",
    "tps3"
   ]
  },
  {
   "cell_type": "code",
   "execution_count": 33,
   "metadata": {},
   "outputs": [],
   "source": [
    "# create an x-label list for plotting\n",
    "tps4 = []\n",
    "tps4.append(\" \")\n",
    "for i in tps[:21]:\n",
    "    tps4.append(i)\n",
    "tps4.append('No T')\n",
    "tps4 = np.asarray(tps4)"
   ]
  },
  {
   "cell_type": "code",
   "execution_count": 34,
   "metadata": {},
   "outputs": [
    {
     "data": {
      "text/plain": [
       "190036"
      ]
     },
     "execution_count": 34,
     "metadata": {},
     "output_type": "execute_result"
    }
   ],
   "source": [
    "# determine how many pairings there should be\n",
    "# comb is N choose k\n",
    "from scipy.special import comb\n",
    "nn = (int)(comb(n,2, repetition=False))\n",
    "\n",
    "# so if we were to leave out duplicated numbers, we expect this many pairwise entries\n",
    "nn"
   ]
  },
  {
   "cell_type": "code",
   "execution_count": 35,
   "metadata": {},
   "outputs": [
    {
     "data": {
      "image/png": "[encoded data removed]",
      "text/plain": [
       "<Figure size 720x432 with 1 Axes>"
      ]
     },
     "metadata": {
      "needs_background": "light"
     },
     "output_type": "display_data"
    }
   ],
   "source": [
    "# box plot for evalue=0.001\n",
    "fig, ax = plt.subplots(nrows=1, ncols=1, figsize=(10, 6))\n",
    "plt.boxplot(plotdata_e001, patch_artist=True, boxprops=dict(facecolor='white'), medianprops = dict(color=\"black\"))\n",
    "plt.xlabel(\"MCP-MCP similarity (%)\",fontweight=\"bold\", fontsize=font2) \n",
    "plt.ylabel(\"Relative Difference in T-number\",fontweight=\"bold\", fontsize=font2)\n",
    "plt.title(\"Pairwise relative difference in T-number versus similarity\",fontweight=\"bold\", fontsize=font1)\n",
    "plt.ylim(0,5)\n",
    "plt.xticks(np.arange(6), ('0','0%-20%','20%-40%','40%-60%', '60%-80%', '80%-100%'), fontsize=font3)\n",
    "ax.patch.set_facecolor('white')\n",
    "ax.tick_params(length=6, width=2)\n",
    "\n",
    "allplotdatan = 0\n",
    "plotdatan = []\n",
    "for i in range(len(plotdata_e001)):\n",
    "    DNAfb = \"n=\" + str(len(plotdata_e001[i]))\n",
    "    plotdatan.append(DNAfb)\n",
    "    allplotdatan = allplotdatan+len(plotdata_e001[i])\n",
    "    plt.text(i+1-.5, 4.5, DNAfb, {'fontsize': font2})\n",
    "\n",
    "\n",
    "#plt.savefig(\"Fig4a-Tdist vs Similarity(e.001).png\")\n",
    "#plt.savefig(\"Fig4a-Tdist vs Similarity(e.001).svg\");"
   ]
  },
  {
   "cell_type": "code",
   "execution_count": 81,
   "metadata": {
    "scrolled": true
   },
   "outputs": [
    {
     "data": {
      "image/png": "[encoded data removed]",
      "text/plain": [
       "<Figure size 720x432 with 1 Axes>"
      ]
     },
     "metadata": {
      "needs_background": "light"
     },
     "output_type": "display_data"
    }
   ],
   "source": [
    "# box plot for evalue=0.001ad\n",
    "fig, ax = plt.subplots(nrows=1, ncols=1, figsize=(10, 6))\n",
    "plt.violinplot(plotdata_e001,quantiles=[[.25,.5,.75], [.25,.5,0.75], [.25,.5,0.75], [.25,.5,0.75], [.25,.5,0.75]], vert=False)\n",
    "plt.ylabel(\"MCP-MCP similarity (%)\",fontweight=\"bold\", fontsize=font2) \n",
    "plt.xlabel(\"Relative Difference in T-number\",fontweight=\"bold\", fontsize=font2)\n",
    "plt.title(\"Pairwise relative difference in T-number versus similarity\",fontweight=\"bold\", fontsize=font1)\n",
    "plt.xlim(0,1.75)\n",
    "plt.yticks(np.arange(6), ('0','0-20','20-40','40-60', '60-80', '80-100'), fontsize=font3)\n",
    "#ax.patch.set_facecolor('white')\n",
    "ax.tick_params(length=6, width=2)\n",
    "\n",
    "#allplotdatan = 0\n",
    "#plotdatan = []\n",
    "#for i in range(len(plotdata_e001)):\n",
    "#    DNAfb = \"n=\" + str(len(plotdata_e001[i]))\n",
    "#    plotdatan.append(DNAfb)\n",
    "#    allplotdatan = allplotdatan+len(plotdata_e001[i])\n",
    "#    plt.text(i+1-.5, .5, DNAfb, {'fontsize': font2})\n",
    "\n",
    "\n",
    "plt.savefig(\"Fig4a-Tdist vs Similarity(e.001) violin.png\")\n",
    "plt.savefig(\"Fig4a-Tdist vs Similarity(e.001) violin.svg\");"
   ]
  },
  {
   "cell_type": "code",
   "execution_count": 4,
   "metadata": {},
   "outputs": [
    {
     "name": "stdout",
     "output_type": "stream",
     "text": [
      "total 0-20% similarity:  177839\n",
      "total 0-20% similarity with less than 9% difference in T-number:  25519\n",
      "percent 0-20% similarity with less than 9% difference in T-number:  0.1434949589235207\n"
     ]
    }
   ],
   "source": [
    "test_df = pd.DataFrame(plotdata_e001)\n",
    "\n",
    "print(\"total 0-20% similarity: \", len(test_df.iloc[0]))\n",
    "print(\"total 0-20% similarity with less than 9% difference in T-number: \", len(test_df.iloc[0][test_df.iloc[0]<=.09]))\n",
    "print(\"percent 0-20% similarity with less than 9% difference in T-number: \", len(test_df.iloc[0][test_df.iloc[0]<=.09])/len(test_df.iloc[0]))"
   ]
  },
  {
   "cell_type": "code",
   "execution_count": 19,
   "metadata": {},
   "outputs": [
    {
     "data": {
      "text/plain": [
       "0.1434949589235207"
      ]
     },
     "execution_count": 19,
     "metadata": {},
     "output_type": "execute_result"
    }
   ],
   "source": [
    "25519/177839"
   ]
  },
  {
   "cell_type": "code",
   "execution_count": null,
   "metadata": {},
   "outputs": [],
   "source": [
    "aP_MCPs = all_PHANNS[all_PHANNS['Max_Score_ID'] == 'Major capsid'] "
   ]
  },
  {
   "cell_type": "code",
   "execution_count": 40,
   "metadata": {},
   "outputs": [],
   "source": [
    "SN_plotdata_e001 = []\n",
    "for i in range(len(plotdata_e001)):\n",
    "    for j in range(len(plotdata_e001[i])):\n",
    "        SN_plotdata_e001.append(plotdata_e001[i][j])\n",
    "        SN_plotdata_e001.append(i)\n",
    "        \n",
    "SN_plotdata_e001 = np.reshape(np.ravel(SN_plotdata_e001), (-1, 2));\n",
    "SN_plotdata_e001 = np.asarray(SN_plotdata_e001);\n",
    "SN_plotdata_e001 = pd.DataFrame(SN_plotdata_e001, columns=[\"relative_difference\",\"Similiarity_bracket\"])"
   ]
  },
  {
   "cell_type": "code",
   "execution_count": 72,
   "metadata": {},
   "outputs": [
    {
     "data": {
      "image/png": "[encoded data removed]",
      "text/plain": [
       "<Figure size 1080x432 with 1 Axes>"
      ]
     },
     "metadata": {
      "needs_background": "light"
     },
     "output_type": "display_data"
    }
   ],
   "source": [
    "# box plot for evalue=0.001\n",
    "fig, ax = plt.subplots(nrows=1, ncols=1, figsize=(15, 6))\n",
    "ax = sn.violinplot(x=\"Similiarity_bracket\", y=\"relative_difference\", data=SN_plotdata_e001, width=1.25,)\n",
    "plt.xlabel(\"MCP-MCP similarity (%)\",fontweight=\"bold\", fontsize=font2) \n",
    "plt.ylabel(\"Realtive Difference in T-number\",fontweight=\"bold\", fontsize=font2)\n",
    "plt.title(\"Pairwise relative difference in T-number versus similarity\",fontweight=\"bold\", fontsize=font1)\n",
    "plt.ylim(0,.5)\n",
    "plt.xticks(np.arange(5), ('0%-20%','20%-40%','40%-60%', '60%-80%', '80%-100%'), fontsize=font3)\n",
    "#ax.patch.set_facecolor('white')\n",
    "ax.tick_params(length=6, width=2)\n",
    "\n",
    "#allplotdatan = 0\n",
    "#plotdatan = []\n",
    "#for i in range(len(plotdata_e001)):\n",
    "#    DNAfb = \"n=\" + str(len(plotdata_e001[i]))\n",
    "#    plotdatan.append(DNAfb)\n",
    "#    allplotdatan = allplotdatan+len(plotdata_e001[i])\n",
    "#    plt.text(i-.5, 4.5, DNAfb, {'fontsize': font2})\n"
   ]
  },
  {
   "cell_type": "code",
   "execution_count": 6,
   "metadata": {},
   "outputs": [
    {
     "name": "stdout",
     "output_type": "stream",
     "text": [
      "0%-20%\n",
      " mean  0.62 , median  0.48\n",
      " min  0.0 , max  4.21\n",
      "20%-40%\n",
      " mean  0.14 , median  0.09\n",
      " min  0.0 , max  1.97\n",
      "40%-60%\n",
      " mean  0.12 , median  0.09\n",
      " min  0.0 , max  0.57\n",
      "60%-80%\n",
      " mean  0.06 , median  0.03\n",
      " min  0.0 , max  0.32\n",
      "80%-100%\n",
      " mean  0.02 , median  0.01\n",
      " min  0.0 , max  0.7\n"
     ]
    }
   ],
   "source": [
    "tagPcts = ['0%-20%','20%-40%','40%-60%', '60%-80%', '80%-100%']\n",
    "for i in range(5):\n",
    "    print(tagPcts[i])\n",
    "    print(\" mean \", np.round(np.mean(plotdata_e001[i]),2), \", median \", np.round(np.median(plotdata_e001[i]),2))\n",
    "    print(\" min \", np.round(np.min(plotdata_e001[i]),2), \", max \", np.round(np.max(plotdata_e001[i]),2))\n",
    "        "
   ]
  },
  {
   "cell_type": "code",
   "execution_count": 98,
   "metadata": {},
   "outputs": [
    {
     "data": {
      "text/plain": [
       "190036"
      ]
     },
     "execution_count": 98,
     "metadata": {},
     "output_type": "execute_result"
    }
   ],
   "source": [
    "# sanity check: did we plot all of the pairwise possibilities?\n",
    "allplotdatan"
   ]
  },
  {
   "cell_type": "code",
   "execution_count": 99,
   "metadata": {},
   "outputs": [
    {
     "data": {
      "text/plain": [
       "0.20583468395461912"
      ]
     },
     "execution_count": 99,
     "metadata": {},
     "output_type": "execute_result"
    }
   ],
   "source": [
    "# count number in MCP db that do not have a T-number prediction\n",
    "xTx100 = np.asarray([i for i in tNearV if i==0])\n",
    "len(xTx100)/n"
   ]
  },
  {
   "cell_type": "code",
   "execution_count": 21,
   "metadata": {},
   "outputs": [],
   "source": [
    "# create an array of similarity percentages by T-number (e-val=0.001)\n",
    "allT1 = []\n",
    "allLocs = []\n",
    "tempT = []\n",
    "allCount = []\n",
    "tempCount = 0\n",
    "\n",
    "\n",
    "for j in tps3:\n",
    "    tempT = []\n",
    "    tempCount = 0\n",
    "    for i in range(669):\n",
    "        if j == tNearV[i]:\n",
    "            tempCount = tempCount+1\n",
    "            tempT.append(i)\n",
    "    allLocs.append(tempT)\n",
    "    allCount.append(tempCount)\n",
    "\n",
    "for i in range(len(tps3)):\n",
    "    tempT = []\n",
    "    if len(allLocs[i])==0:\n",
    "        tempT.append(0)\n",
    "    else:\n",
    "        for j in allLocs[i]:\n",
    "            for k in allLocs[i]:\n",
    "                if j<k:\n",
    "                    tempT.append(tProx_e001[j][k])\n",
    "    allT1.append(tempT)\n"
   ]
  },
  {
   "cell_type": "code",
   "execution_count": 135,
   "metadata": {},
   "outputs": [
    {
     "data": {
      "image/png": "[encoded data removed]",
      "text/plain": [
       "<Figure size 720x432 with 1 Axes>"
      ]
     },
     "metadata": {
      "needs_background": "light"
     },
     "output_type": "display_data"
    }
   ],
   "source": [
    "# box plot\n",
    "fig, ax = plt.subplots(nrows=1, ncols=1, figsize=(10, 6))\n",
    "plt.boxplot(allT1, patch_artist=True, boxprops=dict(facecolor='white'), medianprops = dict(color=\"black\"))\n",
    "plt.xlabel(\"T-number\",fontweight=\"bold\", fontsize=font2) \n",
    "plt.ylabel(\"Similiarity (%)\",fontweight=\"bold\", fontsize=font2)\n",
    "#plt.title(\"Pairwise difference in T-number versus similarity (eVal=1)\",fontweight=\"bold\", fontsize=font1)\n",
    "plt.xticks(np.arange(23), tps4)\n",
    "ax.patch.set_facecolor('white')\n",
    "ax.tick_params(length=6, width=2)\n",
    "\n",
    "for i in range(len(allT1)):\n",
    "    DNAf2 = str(allCount[i])\n",
    "    plt.text(i+1-.25, 110, DNAf2)\n",
    "plt.text(i+2-.25, 110, 'Phages');\n",
    "\n",
    "plt.savefig(\"Fig4SI-Tnum vs Similarity.png\")\n",
    "plt.savefig(\"Fig4SI-Tnum vs Similarity.svg\");"
   ]
  },
  {
   "cell_type": "code",
   "execution_count": 23,
   "metadata": {},
   "outputs": [],
   "source": [
    "# create a list for each line item in the similarity table listing which other phage is most similar (by index)\n",
    "match_max = []\n",
    "zero_match= 0\n",
    "for i in range(n):\n",
    "# if there is no match, fill the position with an index that doesn't exist (700)\n",
    "    if (np.max(tProx_e001[i])==0):\n",
    "        match_max.append(700)\n",
    "        zero_match = zero_match+1;\n",
    "    else: \n",
    "        match_max.append(np.argmax(tProx_e001[i]));\n",
    "        \n",
    "match_max = np.asarray(match_max)"
   ]
  },
  {
   "cell_type": "code",
   "execution_count": 24,
   "metadata": {},
   "outputs": [
    {
     "name": "stdout",
     "output_type": "stream",
     "text": [
      "Phages with no matches:  26\n"
     ]
    }
   ],
   "source": [
    "# retrieve the T-number of the similar phage based on the index identified above\n",
    "match_T = []\n",
    "for i in match_max:\n",
    "# if the index doesn't exist, append 0, for No T\n",
    "    if i>669:\n",
    "        match_T.append(0)\n",
    "    else:       \n",
    "        match_T.append(tNearV[i])\n",
    "match_T = np.asarray(match_T)\n",
    "\n",
    "# print the number of phages that had no match using similarity\n",
    "print(\"Phages with no matches: \", zero_match)"
   ]
  },
  {
   "cell_type": "code",
   "execution_count": 25,
   "metadata": {},
   "outputs": [],
   "source": [
    "# set train and test sizes\n",
    "n80 = round(n*.80)\n",
    "n20 = n-n80\n",
    "\n",
    "# create a list of the phages by number\n",
    "phagelist = np.arange(0,n)\n",
    "\n",
    "# set number of iterations at each percent similarity\n",
    "n_iter = 10\n",
    "all_missing = []\n",
    "all_correct = []\n",
    "\n",
    "# create a random shuffle of the phage data\n",
    "shuffle_index = np.random.permutation(n)\n",
    "\n",
    "# loop \n",
    "for k in range(n_iter):\n",
    "\n",
    "    # create a random shuffle of the phage data for this iteration\n",
    "    shuffle_index = np.random.permutation(shuffle_index)\n",
    "\n",
    "    # split into an 80/20 training set\n",
    "    p80 = phagelist[shuffle_index][:n80]\n",
    "    p20 = phagelist[shuffle_index][n80:]\n",
    "\n",
    "    # for each line item in the test set, find the item in the train set that is most similar\n",
    "    # create a placeholder for the list (from -- to -- sim % -- from T -- to T -- check)\n",
    "    predict_t20=np.zeros((n20,6))\n",
    "\n",
    "    # for each item in the test set\n",
    "    for i in range(len(p20)):\n",
    "        # add the from phage to the new table\n",
    "        predict_t20[i][0]=p20[i]\n",
    "        # for each column (to phage) in tprox\n",
    "        for j in range(n):\n",
    "            # if the to phage is in the training set\n",
    "            if (j in p80):\n",
    "                # and if the similarity percentage is larger than what was there before (all start at zero)\n",
    "                if tProx_e001[p20[i]][j] > predict_t20[i][2]:\n",
    "                    #then update the to phage and similarity percentage in our prediction table\n",
    "                    predict_t20[i][2]=tProx_e001[p20[i]][j]\n",
    "                    predict_t20[i][1]=j\n",
    "        # retrieve the T-number prediction for the from phage\n",
    "        predict_t20[i][3]=tNearV[int(predict_t20[i][0])]\n",
    "        # retrieve the T-number prediction for the most similar phage found in the train set\n",
    "        predict_t20[i][4]=tNearV[int(predict_t20[i][1])]\n",
    "        # verify whether they match (correct prediction)\n",
    "        if predict_t20[i][3]==predict_t20[i][4]:\n",
    "            predict_t20[i][5]=1\n",
    "\n",
    "    # count the number of from phages that have no match                \n",
    "    missingpred20 = 0\n",
    "    for i in predict_t20[:,2]:\n",
    "        if i ==0:\n",
    "            missingpred20 = missingpred20 +1\n",
    "    all_missing.append(missingpred20/n20)\n",
    "\n",
    "    # count the number of from phages that were predicted correctly                \n",
    "    correctpred20 = 0\n",
    "    for i in predict_t20[:,5]:\n",
    "        if i ==1:\n",
    "            correctpred20 = correctpred20 +1\n",
    "    all_correct.append(correctpred20/n20)\n",
    "    \n",
    "avg_missing=np.mean(all_missing)\n",
    "avg_correct=np.mean(all_correct)\n"
   ]
  },
  {
   "cell_type": "code",
   "execution_count": 26,
   "metadata": {},
   "outputs": [
    {
     "name": "stdout",
     "output_type": "stream",
     "text": [
      "0.05284552845528455\n",
      "[0.04878048780487805, 0.032520325203252036, 0.04065040650406504, 0.06504065040650407, 0.06504065040650407, 0.04065040650406504, 0.04065040650406504, 0.056910569105691054, 0.056910569105691054, 0.08130081300813008]\n",
      "0.7\n",
      "[0.7154471544715447, 0.7317073170731707, 0.6666666666666666, 0.6829268292682927, 0.7479674796747967, 0.7073170731707317, 0.7398373983739838, 0.6829268292682927, 0.6504065040650406, 0.6747967479674797]\n"
     ]
    }
   ],
   "source": [
    "print(avg_missing)\n",
    "print(all_missing)\n",
    "print(avg_correct)\n",
    "print(all_correct)"
   ]
  },
  {
   "cell_type": "code",
   "execution_count": 27,
   "metadata": {},
   "outputs": [
    {
     "name": "stdout",
     "output_type": "stream",
     "text": [
      "loop 0\n",
      "loop 1\n",
      "loop 2\n",
      "loop 3\n",
      "loop 4\n",
      "loop 5\n",
      "loop 6\n",
      "loop 7\n",
      "loop 8\n",
      "loop 9\n",
      "[[ 0.          0.94913008  0.73231099]\n",
      " [10.          0.94890244  0.73388998]\n",
      " [20.          0.9488374   0.73402214]\n",
      " [30.          0.9041626   0.74893434]\n",
      " [40.          0.84461789  0.76963972]\n",
      " [50.          0.79062602  0.77223578]\n",
      " [60.          0.73377236  0.78253982]\n",
      " [70.          0.69458537  0.77935004]\n",
      " [80.          0.64173984  0.79020558]\n",
      " [90.          0.58150407  0.80050236]]\n"
     ]
    }
   ],
   "source": [
    "# set train and test sizes\n",
    "n80 = round(n*.80)\n",
    "n20 = n-n80\n",
    "\n",
    "stats_acc_all = np.zeros((10,3))\n",
    "\n",
    "for m in range(10):\n",
    "\n",
    "    # set number of iterations at each percent similarity\n",
    "    n_iter = 1000\n",
    "    all_missing = []\n",
    "    all_correct = []\n",
    "\n",
    "    # create a random shuffle of the phage data\n",
    "    shuffle_index = np.random.permutation(n)\n",
    "\n",
    "    # loop \n",
    "    for k in range(n_iter):\n",
    "\n",
    "        # create a random shuffle of the phage data for this iteration\n",
    "        shuffle_index = np.random.permutation(shuffle_index)\n",
    "\n",
    "        # split into an 80/20 training set\n",
    "        p80 = phagelist[shuffle_index][:n80]\n",
    "        p20 = phagelist[shuffle_index][n80:]\n",
    "\n",
    "        # for each line item in the test set, find the item in the train set that is most similar\n",
    "        # create a placeholder for the list (from phage -- to phage -- sim % -- from T -- to T -- check)\n",
    "        predict_t20=np.zeros((n20,6))\n",
    "\n",
    "        # for each item in the test set\n",
    "        for i in range(len(p20)):\n",
    "            # add the from phage to the new table\n",
    "            predict_t20[i][0]=p20[i]\n",
    "            # fill the to phage columm so there's no confusion between no prediction and phage #0\n",
    "            predict_t20[i][1]=-1\n",
    "            # for each column (to phage) in tprox\n",
    "            for j in range(n):\n",
    "                # if the to phage is in the training set\n",
    "                if (j in p80):\n",
    "                    # and if the similarity percentage is larger than what was there before (all start at zero) \n",
    "                    # AND larger than the threshold\n",
    "                    if ((tProx_e001[p20[i]][j] > predict_t20[i][2]) and (tProx_e001[p20[i]][j] > m*10)):\n",
    "                        #then update the to phage and similarity percentage in our prediction table\n",
    "                        predict_t20[i][2]=tProx_e001[p20[i]][j]\n",
    "                        predict_t20[i][1]=j\n",
    "            # retrieve the T-number prediction for the from phage\n",
    "            predict_t20[i][3]=tNearV[int(predict_t20[i][0])]\n",
    "            # retrieve the T-number prediction for the most similar phage found in the train set\n",
    "            predict_t20[i][4]=tNearV[int(predict_t20[i][1])]\n",
    "            \n",
    "            # verify whether they match (correct prediction)\n",
    "            if predict_t20[i][3]==predict_t20[i][4]:\n",
    "                predict_t20[i][5]=1\n",
    "\n",
    "        # count the number of from phages that have no match                \n",
    "        missingpred20 = 0\n",
    "        for i in predict_t20[:,2]:\n",
    "            if i ==0:\n",
    "                missingpred20 = missingpred20 +1\n",
    "        all_missing.append(missingpred20/n20)\n",
    "\n",
    "        # count the number of from phages that were predicted correctly                \n",
    "        correctpred20 = 0\n",
    "        totalpreds = 0\n",
    "        for i in range(len(predict_t20[:,5])):\n",
    "            if (predict_t20[i][1]>=0):\n",
    "                totalpreds=totalpreds+1\n",
    "                if (predict_t20[i][5]==1):\n",
    "                    correctpred20 = correctpred20 +1\n",
    "                \n",
    "            \n",
    "        all_correct.append(correctpred20/totalpreds)\n",
    "\n",
    "        avg_missing=1-np.mean(all_missing)\n",
    "        avg_correct=np.mean(all_correct)\n",
    "        \n",
    "    stats_acc_all[m][0]=m*10\n",
    "    stats_acc_all[m][1]=avg_missing\n",
    "    stats_acc_all[m][2]=avg_correct\n",
    "    print(\"loop\", m)\n",
    "\n",
    "print(stats_acc_all)"
   ]
  },
  {
   "cell_type": "code",
   "execution_count": 109,
   "metadata": {},
   "outputs": [
    {
     "data": {
      "image/png": "[encoded data removed]",
      "text/plain": [
       "<Figure size 720x432 with 1 Axes>"
      ]
     },
     "metadata": {
      "needs_background": "light"
     },
     "output_type": "display_data"
    }
   ],
   "source": [
    "stats_acc_all1 = copy.copy(stats_acc_all) \n",
    "\n",
    "from matplotlib.ticker import PercentFormatter\n",
    "\n",
    "# plot results\n",
    "fig, ax = plt.subplots(nrows=1, ncols=1, figsize=(10, 6))\n",
    "ax.set_facecolor('xkcd:white')\n",
    "plt.scatter(stats_acc_all1[:,0],stats_acc_all1[:,2], 150, color=\"black\", marker=\"^\", label='Accuracy')\n",
    "plt.plot(stats_acc_all1[:,0],stats_acc_all1[:,2], color=\"black\")\n",
    "plt.scatter(stats_acc_all1[:,0],stats_acc_all1[:,1], 150, color=\"black\", marker=\"x\", label='Predictions')\n",
    "plt.plot(stats_acc_all1[:,0],stats_acc_all1[:,1], color=\"black\", linestyle=\":\")\n",
    "plt.ylabel('Percent (%)', fontsize=font2)\n",
    "plt.xlabel('Minimum similarity required (%)', fontsize=font2)\n",
    "plt.title(\"Effects of minimum similarity required on accuracy and number of predictions\", fontsize=font2, pad=30)\n",
    "plt.ylim(0.45,1)\n",
    "\n",
    "plt.legend(loc='lower left', fontsize=font2)\n",
    "\n",
    "ax.yaxis.set_major_formatter(PercentFormatter(xmax=1))\n",
    "ax.xaxis.set_major_formatter(PercentFormatter(xmax=100))\n",
    "\n",
    "plt.savefig(\"Fig4c-Similarity vs accuracy and predictions.png\")\n",
    "plt.savefig(\"Fig4c-Similarity vs accuracy and predictions.svg\");"
   ]
  },
  {
   "cell_type": "code",
   "execution_count": 29,
   "metadata": {},
   "outputs": [],
   "source": [
    "# Filter the tProx table for pairwise similarity within T-numbers\n",
    "\n",
    "# create placeholders for the similarity data and the count of pairs in each\n",
    "matchT1=[]\n",
    "matchTlen=[]\n",
    "\n",
    "# for each line item in allLocs (each T-number) excluding the phages with no predictions\n",
    "for i in range(len(allLocs)-1):\n",
    "    # create a placeholder for the list of similarities\n",
    "    mt1=[]\n",
    "    # for each T-number with phages assigned to it\n",
    "    if len(allLocs[i])>1:\n",
    "        # for each distinct pair within a T-number, append the similarity to the new list\n",
    "        for j in allLocs[i]:\n",
    "            for k in allLocs[i]:\n",
    "                if j<k:\n",
    "                    mt1.append(tProx_e001[j][k])\n",
    "                    \n",
    "    # else if there are no similarities in a T-number\n",
    "    else:\n",
    "        mt1.append(0)\n",
    "    matchT1.append(mt1)\n",
    "    matchTlen.append(len(mt1))\n"
   ]
  },
  {
   "cell_type": "code",
   "execution_count": 30,
   "metadata": {},
   "outputs": [
    {
     "data": {
      "text/plain": [
       "[1,\n",
       " 1,\n",
       " 1,\n",
       " 91,\n",
       " 300,\n",
       " 21528,\n",
       " 2926,\n",
       " 300,\n",
       " 136,\n",
       " 28,\n",
       " 406,\n",
       " 406,\n",
       " 4005,\n",
       " 21,\n",
       " 6,\n",
       " 91,\n",
       " 1,\n",
       " 1,\n",
       " 1,\n",
       " 3,\n",
       " 1]"
      ]
     },
     "execution_count": 30,
     "metadata": {},
     "output_type": "execute_result"
    }
   ],
   "source": [
    "matchTlen"
   ]
  },
  {
   "cell_type": "code",
   "execution_count": 31,
   "metadata": {},
   "outputs": [
    {
     "name": "stdout",
     "output_type": "stream",
     "text": [
      "   0%-20% - - 20%-40% - - 40%-60% - - 60%-80% - - 80%-100%\n",
      "[[1.         0.         0.         0.         0.        ]\n",
      " [1.         0.         0.         0.         0.        ]\n",
      " [1.         0.         0.         0.         0.        ]\n",
      " [0.58241758 0.31868132 0.05494505 0.01098901 0.03296703]\n",
      " [0.73       0.02666667 0.12       0.00666667 0.11666667]\n",
      " [0.94634894 0.02624489 0.01361018 0.0039019  0.00989409]\n",
      " [0.76555024 0.16131237 0.00307587 0.01913876 0.05092276]\n",
      " [0.95333333 0.         0.01333333 0.         0.03333333]\n",
      " [0.84558824 0.08823529 0.02205882 0.         0.04411765]\n",
      " [0.75       0.03571429 0.         0.17857143 0.03571429]\n",
      " [0.46551724 0.10344828 0.08128079 0.18472906 0.16502463]\n",
      " [0.65763547 0.091133   0.10098522 0.10837438 0.04187192]\n",
      " [0.28639201 0.31810237 0.03620474 0.20049938 0.1588015 ]\n",
      " [0.         0.52380952 0.0952381  0.33333333 0.04761905]\n",
      " [0.83333333 0.         0.         0.         0.16666667]\n",
      " [0.48351648 0.0989011  0.21978022 0.07692308 0.12087912]\n",
      " [1.         0.         0.         0.         0.        ]\n",
      " [1.         0.         0.         0.         0.        ]\n",
      " [1.         0.         0.         0.         0.        ]\n",
      " [0.         0.         0.         0.         1.        ]\n",
      " [1.         0.         0.         0.         0.        ]]\n"
     ]
    }
   ],
   "source": [
    "# now for each T-number, split the similarities into 20% categories\n",
    "nn = len(matchT1)\n",
    "l1=np.zeros((nn,5))\n",
    "            \n",
    "for i in range(nn):\n",
    "    for j in matchT1[i]:\n",
    "        if (j<=20):\n",
    "            l1[i][0]=l1[i][0]+1\n",
    "        if (j>20 and j<=40):\n",
    "            l1[i][1]=l1[i][1]+1\n",
    "        if (j>40 and j<=60):\n",
    "            l1[i][2]=l1[i][2]+1\n",
    "        if (j>60 and j<=80):\n",
    "            l1[i][3]=l1[i][3]+1\n",
    "        if (j>=80):\n",
    "            l1[i][4]=l1[i][4]+1\n",
    "            \n",
    "# and then use the counts to calculate each as a percentage\n",
    "for i in range(len(l1)):\n",
    "    l1[i]=l1[i]/matchTlen[i]\n",
    "\n",
    "print(\"   0%-20% - - 20%-40% - - 40%-60% - - 60%-80% - - 80%-100%\")\n",
    "print(l1)"
   ]
  },
  {
   "cell_type": "code",
   "execution_count": 32,
   "metadata": {},
   "outputs": [
    {
     "data": {
      "image/png": "[encoded data removed]",
      "text/plain": [
       "<Figure size 720x432 with 1 Axes>"
      ]
     },
     "metadata": {
      "needs_background": "light"
     },
     "output_type": "display_data"
    }
   ],
   "source": [
    "listtest1=copy.copy(l1) \n",
    "# box plot\n",
    "fig, ax = plt.subplots(nrows=1, ncols=1, figsize=(10, 6))\n",
    "plt.boxplot(listtest1, patch_artist=True, boxprops=dict(facecolor='white'), medianprops = dict(color=\"black\"))\n",
    "plt.xlabel(\"MCP-MCP Similiarity (%)\", fontsize=font2) \n",
    "plt.ylabel(\"Frequency within T-Number (%)\", fontsize=font2)\n",
    "plt.xticks(np.arange(6), ('0','[0,20)','[20,40)','[40, 60)', '[60,80)', '[80,100]'), fontsize=font3)\n",
    "plt.title(\"Pairwise difference within T-number versus similarity (eVal=0.001)\", fontsize=font2)\n",
    "ax.patch.set_facecolor('white')\n",
    "ax.tick_params(length=6, width=2)\n",
    "\n",
    "plt.savefig(\"Fig4d-Similarity percent per T.png\")\n",
    "plt.savefig(\"Fig4d-Similarity percent per T.svg\");"
   ]
  },
  {
   "cell_type": "code",
   "execution_count": 18,
   "metadata": {},
   "outputs": [
    {
     "data": {
      "image/png": "[encoded data removed]",
      "text/plain": [
       "<Figure size 720x432 with 1 Axes>"
      ]
     },
     "metadata": {
      "needs_background": "light"
     },
     "output_type": "display_data"
    }
   ],
   "source": [
    "listtest1=copy.copy(l1) \n",
    "# box plot\n",
    "fig, ax = plt.subplots(nrows=1, ncols=1, figsize=(10, 6))\n",
    "plt.violinplot(listtest1,quantiles=[[.75], [0.75], [0.75], [0.75], [0.75]])\n",
    "plt.xlabel(\"MCP-MCP Similiarity (%)\", fontsize=font2) \n",
    "plt.ylabel(\"Frequency within T-Number (%)\", fontsize=font2)\n",
    "plt.xticks(np.arange(6), ('0','[0,20)','[20,40)','[40, 60)', '[60,80)', '[80,100]'), fontsize=font3)\n",
    "plt.title(\"Pairwise difference within T-number versus similarity (eVal=0.001)\", fontsize=font2)\n",
    "ax.patch.set_facecolor('white')\n",
    "ax.tick_params(length=6, width=2)\n",
    "\n",
    "plt.savefig(\"Fig4d-Similarity percent per T violin.png\")\n",
    "plt.savefig(\"Fig4d-Similarity percent per T violin.svg\");"
   ]
  },
  {
   "cell_type": "code",
   "execution_count": 5,
   "metadata": {},
   "outputs": [],
   "source": [
    "# save kernel state\n",
    "# note that all csv_writer functions are commented out, since they cannot be pickled\n",
    "import dill\n",
    "dill.dump_session('item3_updated.db')"
   ]
  },
  {
   "cell_type": "code",
   "execution_count": 3,
   "metadata": {},
   "outputs": [],
   "source": [
    "## load kernel state\n",
    "## rerun imports cells 1 and 2 as well\n",
    "#import dill\n",
    "#dill.load_session('item3_updated.db')"
   ]
  },
  {
   "cell_type": "code",
   "execution_count": null,
   "metadata": {},
   "outputs": [],
   "source": []
  }
 ],
 "metadata": {
  "kernelspec": {
   "display_name": "Python 3",
   "language": "python",
   "name": "python3"
  },
  "language_info": {
   "codemirror_mode": {
    "name": "ipython",
    "version": 3
   },
   "file_extension": ".py",
   "mimetype": "text/x-python",
   "name": "python",
   "nbconvert_exporter": "python",
   "pygments_lexer": "ipython3",
   "version": "3.8.5"
  }
 },
 "nbformat": 4,
 "nbformat_minor": 2
}
